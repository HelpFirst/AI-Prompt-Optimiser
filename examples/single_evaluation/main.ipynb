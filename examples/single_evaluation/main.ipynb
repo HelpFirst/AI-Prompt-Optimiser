{
 "cells": [
  {
   "cell_type": "code",
   "execution_count": 4,
   "metadata": {},
   "outputs": [],
   "source": [
    "# Import necessary libraries\n",
    "import pandas as pd\n",
    "import sys\n",
    "import os\n",
    "# Add the parent directory to sys.path\n",
    "# Use getcwd() to get the current working directory for Jupyter notebooks\n",
    "current_dir = os.getcwd()\n",
    "grandparent_dir = os.path.dirname(os.path.dirname(current_dir))\n",
    "sys.path.append(grandparent_dir)\n",
    "from src import single_prompt_evaluation"
   ]
  },
  {
   "cell_type": "code",
   "execution_count": 6,
   "metadata": {},
   "outputs": [
    {
     "data": {
      "text/html": [
       "<div>\n",
       "<style scoped>\n",
       "    .dataframe tbody tr th:only-of-type {\n",
       "        vertical-align: middle;\n",
       "    }\n",
       "\n",
       "    .dataframe tbody tr th {\n",
       "        vertical-align: top;\n",
       "    }\n",
       "\n",
       "    .dataframe thead th {\n",
       "        text-align: right;\n",
       "    }\n",
       "</style>\n",
       "<table border=\"1\" class=\"dataframe\">\n",
       "  <thead>\n",
       "    <tr style=\"text-align: right;\">\n",
       "      <th></th>\n",
       "      <th>text</th>\n",
       "      <th>label</th>\n",
       "    </tr>\n",
       "  </thead>\n",
       "  <tbody>\n",
       "    <tr>\n",
       "      <th>0</th>\n",
       "      <td>This product is amazing! Best purchase ever.</td>\n",
       "      <td>1</td>\n",
       "    </tr>\n",
       "    <tr>\n",
       "      <th>1</th>\n",
       "      <td>Terrible quality, broke after one use.</td>\n",
       "      <td>0</td>\n",
       "    </tr>\n",
       "    <tr>\n",
       "      <th>2</th>\n",
       "      <td>Pretty good but a bit expensive.</td>\n",
       "      <td>1</td>\n",
       "    </tr>\n",
       "  </tbody>\n",
       "</table>\n",
       "</div>"
      ],
      "text/plain": [
       "                                           text  label\n",
       "0  This product is amazing! Best purchase ever.      1\n",
       "1        Terrible quality, broke after one use.      0\n",
       "2              Pretty good but a bit expensive.      1"
      ]
     },
     "execution_count": 6,
     "metadata": {},
     "output_type": "execute_result"
    }
   ],
   "source": [
    "eval_data = pd.DataFrame({\n",
    "        'text': [\n",
    "            'This product is amazing! Best purchase ever.',\n",
    "            'Terrible quality, broke after one use.',\n",
    "            'Pretty good but a bit expensive.'\n",
    "        ],\n",
    "        'label': [1, 0, 1]  # 1 for positive, 0 for negative\n",
    "    })\n",
    "eval_data"
   ]
  },
  {
   "cell_type": "code",
   "execution_count": 9,
   "metadata": {},
   "outputs": [],
   "source": [
    "# Output schema for binary classification\n",
    "output_schema = {\n",
    "    'key_to_extract': 'sentiment',\n",
    "    'value_mapping': {\n",
    "        'positive': 1,\n",
    "        'negative': 0\n",
    "    },\n",
    "    'regex_pattern': r'\"sentiment\":\\s*\"(.*?)\"',\n",
    "    'chain_of_thought_key': 'reasoning',\n",
    "    'chain_of_thought_regex': r'\"reasoning\":\\s*\"(.*?)\"'\n",
    "}"
   ]
  },
  {
   "cell_type": "code",
   "execution_count": 10,
   "metadata": {},
   "outputs": [],
   "source": [
    "# Example prompt\n",
    "prompt = \"\"\"Analyze the sentiment of the given text and classify it as positive or negative.\n",
    "\n",
    "Please think through this step by step:\n",
    "1. Identify key sentiment words and phrases\n",
    "2. Consider the overall context\n",
    "3. Determine if the sentiment is predominantly positive or negative\n",
    "\n",
    "Output your analysis in the following format:\n",
    "{\n",
    "    \"sentiment\": \"positive/negative\",\n",
    "    \"reasoning\": \"your step-by-step reasoning here\"\n",
    "}\n",
    "\n",
    "Text to analyze:\n",
    "\"\"\""
   ]
  },
  {
   "cell_type": "code",
   "execution_count": 11,
   "metadata": {},
   "outputs": [
    {
     "name": "stdout",
     "output_type": "stream",
     "text": [
      "-----------------------------------\n",
      "Processing text 1/3 .....\n",
      "Python literal evaluation failed...\n",
      "JSON parsing failed...\n",
      "Failed to parse JSON-like structure\n",
      "Regex extraction successful. Extracted value: 'positive'\n",
      "Prediction 1/3: 1 | Ground Truth: 1 ✅ (TP)\n",
      "-----------------------------------\n",
      "Processing text 2/3 .....\n",
      "Python literal evaluation failed...\n",
      "JSON parsing failed...\n",
      "Failed to parse JSON-like structure\n",
      "Regex extraction successful. Extracted value: 'negative'\n",
      "Prediction 2/3: 0 | Ground Truth: 0 ✅ (TN)\n",
      "-----------------------------------\n",
      "Processing text 3/3 .....\n",
      "Python literal evaluation failed...\n",
      "JSON parsing failed...\n",
      "Failed to parse JSON-like structure\n",
      "Regex extraction successful. Extracted value: 'negative'\n",
      "Prediction 3/3: 0 | Ground Truth: 1 ❌ (FN)\n",
      "Number of samples: 0\n",
      "Number of NaN in y_true: 0\n",
      "Number of NaN in y_pred: 0\n",
      "Sample of y_pred: []\n"
     ]
    }
   ],
   "source": [
    "# Run evaluation\n",
    "results = single_prompt_evaluation(\n",
    "    prompt=prompt,\n",
    "    eval_data=eval_data,\n",
    "    output_schema=output_schema,\n",
    "    eval_provider=\"ollama\",\n",
    "    eval_model=\"llama3.1\",\n",
    "    eval_temperature=0.7,\n",
    "    experiment_name=\"sentiment_analysis_test\"  # Optional: provide name to generate dashboard\n",
    ")"
   ]
  },
  {
   "cell_type": "code",
   "execution_count": 12,
   "metadata": {},
   "outputs": [
    {
     "name": "stdout",
     "output_type": "stream",
     "text": [
      "\n",
      "Evaluation Results:\n",
      "Accuracy: 0.6667\n",
      "Precision: 1.0000\n",
      "Recall: 0.5000\n",
      "F1 Score: 0.6667\n",
      "Valid Predictions: 3\n",
      "Invalid Predictions: 0\n"
     ]
    }
   ],
   "source": [
    "# Print results\n",
    "print(\"\\nEvaluation Results:\")\n",
    "print(f\"Accuracy: {results['accuracy']:.4f}\")\n",
    "print(f\"Precision: {results['precision']:.4f}\")\n",
    "print(f\"Recall: {results['recall']:.4f}\")\n",
    "print(f\"F1 Score: {results['f1']:.4f}\")\n",
    "print(f\"Valid Predictions: {results['valid_predictions']}\")\n",
    "print(f\"Invalid Predictions: {results['invalid_predictions']}\")"
   ]
  },
  {
   "cell_type": "code",
   "execution_count": null,
   "metadata": {},
   "outputs": [],
   "source": []
  }
 ],
 "metadata": {
  "kernelspec": {
   "display_name": "base",
   "language": "python",
   "name": "python3"
  },
  "language_info": {
   "codemirror_mode": {
    "name": "ipython",
    "version": 3
   },
   "file_extension": ".py",
   "mimetype": "text/x-python",
   "name": "python",
   "nbconvert_exporter": "python",
   "pygments_lexer": "ipython3",
   "version": "3.12.2"
  }
 },
 "nbformat": 4,
 "nbformat_minor": 2
}
