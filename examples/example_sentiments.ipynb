{
 "cells": [
  {
   "cell_type": "code",
   "execution_count": 1,
   "metadata": {},
   "outputs": [],
   "source": [
    "initial_prompt = (\n",
    "        \"You are a sentiment analysis classifier. Determine whether the provided text expresses a positive sentiment. \"\n",
    "        \"Respond with '1' if it is positive, or '0' if it is negative.\"\n",
    "    )\n",
    "\n",
    "# Output format prompt\n",
    "output_format_prompt = (\n",
    "    \"You are to act as a binary responder. For every question asked, reply strictly with '1' for positive or '0' for negative. \"\n",
    "    \"Do NOT include any additional text or explanation.\"\n",
    ")"
   ]
  },
  {
   "cell_type": "code",
   "execution_count": 2,
   "metadata": {},
   "outputs": [],
   "source": [
    "output_schema = {\n",
    "    'key_to_extract': None,  # Set to None for direct output\n",
    "    'value_mapping': None,   # Set to None for direct mapping\n",
    "    'regex_pattern': r'^(0|1)$',  # Match the entire output for binary classification\n",
    "    'use_json_mode': False\n",
    "}"
   ]
  },
  {
   "cell_type": "code",
   "execution_count": 3,
   "metadata": {},
   "outputs": [],
   "source": [
    "# Set number of optimization iterations\n",
    "iterations = 3"
   ]
  },
  {
   "cell_type": "code",
   "execution_count": 4,
   "metadata": {},
   "outputs": [],
   "source": [
    "# Define model providers and models for evaluation and optimization\n",
    "eval_provider = \"ollama\"\n",
    "eval_model = \"llama3.1\"\n",
    "optim_provider = \"ollama\"\n",
    "optim_model = \"llama3.1\""
   ]
  },
  {
   "cell_type": "code",
   "execution_count": 5,
   "metadata": {},
   "outputs": [],
   "source": [
    "# Path to the CSV file containing review data for evaluation\n",
    "eval_datapath = \"sentiments.csv\""
   ]
  },
  {
   "cell_type": "markdown",
   "metadata": {},
   "source": [
    "------------------------------------------------------------------------------------------"
   ]
  },
  {
   "cell_type": "code",
   "execution_count": 13,
   "metadata": {},
   "outputs": [],
   "source": [
    "# Import necessary libraries\n",
    "import pandas as pd\n",
    "import sys\n",
    "import os\n",
    "# Add the parent directory to sys.path\n",
    "# Use getcwd() to get the current working directory for Jupyter notebooks\n",
    "current_dir = os.getcwd()\n",
    "parent_dir = os.path.dirname(current_dir)\n",
    "sys.path.append(parent_dir)\n",
    "from src.iterative_prompt_optimization import optimize_prompt"
   ]
  },
  {
   "cell_type": "code",
   "execution_count": 14,
   "metadata": {},
   "outputs": [
    {
     "name": "stdout",
     "output_type": "stream",
     "text": [
      "/opt/anaconda3/bin/python: Error while finding module specification for 'src.iterative_prompt_optimization.dashboard_generator' (ModuleNotFoundError: No module named 'src')\n"
     ]
    }
   ],
   "source": [
    "!python -m src.iterative_prompt_optimization.dashboard_generator"
   ]
  },
  {
   "cell_type": "code",
   "execution_count": 7,
   "metadata": {},
   "outputs": [
    {
     "name": "stdout",
     "output_type": "stream",
     "text": [
      "Evaluation data shape: (10, 2)\n",
      "                                                text  label\n",
      "0  Was this based on a comic-book? A video-game? ...      1\n",
      "1  If you ask me the first one was really better ...      0\n",
      "2  When I was a kid, I loved \"Tiny Toons\". I espe...      1\n",
      "3  I hate guns and have never murdered anyone, bu...      0\n",
      "4  I do not have much to say than this is a great...      1\n"
     ]
    }
   ],
   "source": [
    "# Load and prepare data\n",
    "eval_data = pd.read_csv(eval_datapath, encoding='ISO-8859-1', usecols=['Text', 'Sentiment'])\n",
    "eval_data.columns = ['text', 'label']\n",
    "# Randomly select 50 positive and 50 negative samples\n",
    "eval_data = (\n",
    "    eval_data.groupby('label')\n",
    "    .apply(lambda x: x.sample(n=5, random_state=42))\n",
    "    .reset_index(drop=True)\n",
    ")\n",
    "# Shuffle the DataFrame randomly\n",
    "eval_data = eval_data.sample(frac=1, random_state=42).reset_index(drop=True)\n",
    "print(f\"Evaluation data shape: {eval_data.shape}\")\n",
    "print(eval_data.head())"
   ]
  },
  {
   "cell_type": "code",
   "execution_count": 8,
   "metadata": {},
   "outputs": [],
   "source": [
    "# best_prompt, best_metrics = optimize_prompt(\n",
    "#     initial_prompt,\n",
    "#     output_format_prompt,\n",
    "#     eval_data,\n",
    "#     iterations)"
   ]
  },
  {
   "cell_type": "code",
   "execution_count": 9,
   "metadata": {},
   "outputs": [
    {
     "name": "stdout",
     "output_type": "stream",
     "text": [
      "Selected evaluation provider: ollama\n",
      "Selected evaluation model: llama3.1\n",
      "Selected optimization provider: ollama\n",
      "Selected optimization model: llama3.1\n",
      "Estimated token usage: 107190\n",
      "Estimated cost: $0 API Costs - Running on Local Hardware\n",
      "\n",
      "Do you want to proceed with the optimization? (Y/N): \n",
      "Iteration 1/3\n"
     ]
    },
    {
     "data": {
      "text/html": [
       "<pre style=\"white-space:pre;overflow-x:auto;line-height:normal;font-family:Menlo,'DejaVu Sans Mono',consolas,'Courier New',monospace\"><span style=\"color: #000080; text-decoration-color: #000080\">╭────────────────────────────────────────────── Current Full Prompt ──────────────────────────────────────────────╮</span>\n",
       "<span style=\"color: #000080; text-decoration-color: #000080\">│</span> You are a sentiment analysis classifier. Determine whether the provided text expresses a positive sentiment.    <span style=\"color: #000080; text-decoration-color: #000080\">│</span>\n",
       "<span style=\"color: #000080; text-decoration-color: #000080\">│</span> Respond with '1' if it is positive, or '0' if it is negative.                                                   <span style=\"color: #000080; text-decoration-color: #000080\">│</span>\n",
       "<span style=\"color: #000080; text-decoration-color: #000080\">│</span>                                                                                                                 <span style=\"color: #000080; text-decoration-color: #000080\">│</span>\n",
       "<span style=\"color: #000080; text-decoration-color: #000080\">│</span> You are to act as a binary responder. For every question asked, reply strictly with '1' for positive or '0' for <span style=\"color: #000080; text-decoration-color: #000080\">│</span>\n",
       "<span style=\"color: #000080; text-decoration-color: #000080\">│</span> negative. Do NOT include any additional text or explanation.                                                    <span style=\"color: #000080; text-decoration-color: #000080\">│</span>\n",
       "<span style=\"color: #000080; text-decoration-color: #000080\">╰─────────────────────────────────────────────────────────────────────────────────────────────────────────────────╯</span>\n",
       "</pre>\n"
      ],
      "text/plain": [
       "\u001b[34m╭─\u001b[0m\u001b[34m─────────────────────────────────────────────\u001b[0m\u001b[34m Current Full Prompt \u001b[0m\u001b[34m─────────────────────────────────────────────\u001b[0m\u001b[34m─╮\u001b[0m\n",
       "\u001b[34m│\u001b[0m You are a sentiment analysis classifier. Determine whether the provided text expresses a positive sentiment.    \u001b[34m│\u001b[0m\n",
       "\u001b[34m│\u001b[0m Respond with '1' if it is positive, or '0' if it is negative.                                                   \u001b[34m│\u001b[0m\n",
       "\u001b[34m│\u001b[0m                                                                                                                 \u001b[34m│\u001b[0m\n",
       "\u001b[34m│\u001b[0m You are to act as a binary responder. For every question asked, reply strictly with '1' for positive or '0' for \u001b[34m│\u001b[0m\n",
       "\u001b[34m│\u001b[0m negative. Do NOT include any additional text or explanation.                                                    \u001b[34m│\u001b[0m\n",
       "\u001b[34m╰─────────────────────────────────────────────────────────────────────────────────────────────────────────────────╯\u001b[0m\n"
      ]
     },
     "metadata": {},
     "output_type": "display_data"
    },
    {
     "name": "stdout",
     "output_type": "stream",
     "text": [
      "Processing text 1/10\n",
      "Prediction 1/10: 1 | Ground Truth: 1 ✅ (TP)\n",
      "Processing text 2/10\n",
      "Prediction 2/10: 0 | Ground Truth: 0 ✅ (TN)\n",
      "Processing text 3/10\n",
      "Prediction 3/10: 1 | Ground Truth: 1 ✅ (TP)\n",
      "Processing text 4/10\n",
      "Prediction 4/10: 1 | Ground Truth: 0 ❌ (FP)\n",
      "Processing text 5/10\n",
      "Prediction 5/10: 1 | Ground Truth: 1 ✅ (TP)\n",
      "Processing text 6/10\n",
      "Prediction 6/10: 1 | Ground Truth: 0 ❌ (FP)\n",
      "Processing text 7/10\n",
      "Prediction 7/10: 1 | Ground Truth: 1 ✅ (TP)\n",
      "Processing text 8/10\n",
      "Prediction 8/10: 0 | Ground Truth: 0 ✅ (TN)\n",
      "Processing text 9/10\n",
      "Prediction 9/10: 0 | Ground Truth: 0 ✅ (TN)\n",
      "Processing text 10/10\n",
      "Prediction 10/10: 1 | Ground Truth: 1 ✅ (TP)\n"
     ]
    },
    {
     "data": {
      "text/html": [
       "<pre style=\"white-space:pre;overflow-x:auto;line-height:normal;font-family:Menlo,'DejaVu Sans Mono',consolas,'Courier New',monospace\"><span style=\"font-style: italic\">Evaluation Metrics - Iteration 1</span>\n",
       "┏━━━━━━━━━━━━━━━━━━━━━┳━━━━━━━━┓\n",
       "┃<span style=\"font-weight: bold\"> Metric              </span>┃<span style=\"font-weight: bold\">  Value </span>┃\n",
       "┡━━━━━━━━━━━━━━━━━━━━━╇━━━━━━━━┩\n",
       "│ Precision           │ 0.7143 │\n",
       "│ Recall              │ 1.0000 │\n",
       "│ Accuracy            │ 0.8000 │\n",
       "│ F1-score            │ 0.8333 │\n",
       "│ Invalid Predictions │      0 │\n",
       "└─────────────────────┴────────┘\n",
       "</pre>\n"
      ],
      "text/plain": [
       "\u001b[3mEvaluation Metrics - Iteration 1\u001b[0m\n",
       "┏━━━━━━━━━━━━━━━━━━━━━┳━━━━━━━━┓\n",
       "┃\u001b[1m \u001b[0m\u001b[1mMetric             \u001b[0m\u001b[1m \u001b[0m┃\u001b[1m \u001b[0m\u001b[1m Value\u001b[0m\u001b[1m \u001b[0m┃\n",
       "┡━━━━━━━━━━━━━━━━━━━━━╇━━━━━━━━┩\n",
       "│ Precision           │ 0.7143 │\n",
       "│ Recall              │ 1.0000 │\n",
       "│ Accuracy            │ 0.8000 │\n",
       "│ F1-score            │ 0.8333 │\n",
       "│ Invalid Predictions │      0 │\n",
       "└─────────────────────┴────────┘\n"
      ]
     },
     "metadata": {},
     "output_type": "display_data"
    },
    {
     "name": "stdout",
     "output_type": "stream",
     "text": [
      "\n",
      "Analyzing misclassifications...\n"
     ]
    },
    {
     "data": {
      "text/html": [
       "<pre style=\"white-space:pre;overflow-x:auto;line-height:normal;font-family:Menlo,'DejaVu Sans Mono',consolas,'Courier New',monospace\"><span style=\"font-weight: bold\">╭──────────────────────────────────────── Analysis of Misclassifications ─────────────────────────────────────────╮</span>\n",
       "<span style=\"font-weight: bold\">│</span>                                                                                                                 <span style=\"font-weight: bold\">│</span>\n",
       "<span style=\"font-weight: bold\">│</span> After analyzing the misclassifications, I identified specific examples from the false negative texts and        <span style=\"font-weight: bold\">│</span>\n",
       "<span style=\"font-weight: bold\">│</span> highlighted elements of the text that may have led to the incorrect classification.                             <span style=\"font-weight: bold\">│</span>\n",
       "<span style=\"font-weight: bold\">│</span>                                                                                                                 <span style=\"font-weight: bold\">│</span>\n",
       "<span style=\"font-weight: bold\">│</span> **False Negative 1:**                                                                                           <span style=\"font-weight: bold\">│</span>\n",
       "<span style=\"font-weight: bold\">│</span>                                                                                                                 <span style=\"font-weight: bold\">│</span>\n",
       "<span style=\"font-weight: bold\">│</span> * Text: \"I hate guns and have never murdered anyone, but when even half of the events that take place in        <span style=\"font-weight: bold\">│</span>\n",
       "<span style=\"font-weight: bold\">│</span> 'Shuttle' happen to you or close ones and you find a gun, YOU SHOOT YOUR ATTACKER. THREE TIMES. FIVE TIMES... I <span style=\"font-weight: bold\">│</span>\n",
       "<span style=\"font-weight: bold\">│</span> think even God would say, 'Good call.'\"                                                                         <span style=\"font-weight: bold\">│</span>\n",
       "<span style=\"font-weight: bold\">│</span> * Incorrectly classified as negative: The text starts with a strong negative statement (\"I hate guns\"), but     <span style=\"font-weight: bold\">│</span>\n",
       "<span style=\"font-weight: bold\">│</span> then shifts to a more positive tone when describing the action movie \"Shuttle.\" However, this positive          <span style=\"font-weight: bold\">│</span>\n",
       "<span style=\"font-weight: bold\">│</span> sentiment is buried within a larger narrative that focuses on violence and revenge.                             <span style=\"font-weight: bold\">│</span>\n",
       "<span style=\"font-weight: bold\">│</span>                                                                                                                 <span style=\"font-weight: bold\">│</span>\n",
       "<span style=\"font-weight: bold\">│</span> **False Negative 2:**                                                                                           <span style=\"font-weight: bold\">│</span>\n",
       "<span style=\"font-weight: bold\">│</span>                                                                                                                 <span style=\"font-weight: bold\">│</span>\n",
       "<span style=\"font-weight: bold\">│</span> * Text: \"I have seen this movie several times, it sure is one of the cheapest action flicks of the eighties.    <span style=\"font-weight: bold\">│</span>\n",
       "<span style=\"font-weight: bold\">│</span> So, I think many viewers would definitely change the channel when they come across this one. But, if you are    <span style=\"font-weight: bold\">│</span>\n",
       "<span style=\"font-weight: bold\">│</span> into great trash, 'Dragon Hunt' is made for you.\"                                                               <span style=\"font-weight: bold\">│</span>\n",
       "<span style=\"font-weight: bold\">│</span> * Incorrectly classified as negative: The text initially describes a movie as \"cheap\" and something that people <span style=\"font-weight: bold\">│</span>\n",
       "<span style=\"font-weight: bold\">│</span> might avoid watching. However, it then explicitly states that the movie is suitable for those who enjoy \"great  <span style=\"font-weight: bold\">│</span>\n",
       "<span style=\"font-weight: bold\">│</span> trash,\" which implies a positive sentiment.                                                                     <span style=\"font-weight: bold\">│</span>\n",
       "<span style=\"font-weight: bold\">│</span>                                                                                                                 <span style=\"font-weight: bold\">│</span>\n",
       "<span style=\"font-weight: bold\">│</span> **Common elements leading to incorrect classification:**                                                        <span style=\"font-weight: bold\">│</span>\n",
       "<span style=\"font-weight: bold\">│</span>                                                                                                                 <span style=\"font-weight: bold\">│</span>\n",
       "<span style=\"font-weight: bold\">│</span> 1. **Mixed tone**: Both false negatives exhibit mixed tones, with initial negative statements followed by more  <span style=\"font-weight: bold\">│</span>\n",
       "<span style=\"font-weight: bold\">│</span> positive language.                                                                                              <span style=\"font-weight: bold\">│</span>\n",
       "<span style=\"font-weight: bold\">│</span> 2. **Emphasis on entertainment value**: The texts highlight the movies' potential as entertaining or enjoyable  <span style=\"font-weight: bold\">│</span>\n",
       "<span style=\"font-weight: bold\">│</span> experiences, even if they are \"cheap\" or \"awful.\"                                                               <span style=\"font-weight: bold\">│</span>\n",
       "<span style=\"font-weight: bold\">│</span> 3. **Use of humor and irony**: The authors employ humor and irony when describing the movies, which might be    <span style=\"font-weight: bold\">│</span>\n",
       "<span style=\"font-weight: bold\">│</span> misinterpreted as negative sentiments.                                                                          <span style=\"font-weight: bold\">│</span>\n",
       "<span style=\"font-weight: bold\">│</span>                                                                                                                 <span style=\"font-weight: bold\">│</span>\n",
       "<span style=\"font-weight: bold\">│</span> **Strategies to improve recall:**                                                                               <span style=\"font-weight: bold\">│</span>\n",
       "<span style=\"font-weight: bold\">│</span>                                                                                                                 <span style=\"font-weight: bold\">│</span>\n",
       "<span style=\"font-weight: bold\">│</span> 1. **Add nuance to the prompt**: Modify the classification prompt to recognize mixed tones and subtle           <span style=\"font-weight: bold\">│</span>\n",
       "<span style=\"font-weight: bold\">│</span> indicators of positive sentiment.                                                                               <span style=\"font-weight: bold\">│</span>\n",
       "<span style=\"font-weight: bold\">│</span> 2. **Increase sensitivity to entertainment value**: Emphasize the importance of entertainment value in positive <span style=\"font-weight: bold\">│</span>\n",
       "<span style=\"font-weight: bold\">│</span> reviews, rather than solely focusing on objective quality or accuracy.                                          <span style=\"font-weight: bold\">│</span>\n",
       "<span style=\"font-weight: bold\">│</span> 3. **Look for explicit positive language**: Train the model to explicitly look for words or phrases that        <span style=\"font-weight: bold\">│</span>\n",
       "<span style=\"font-weight: bold\">│</span> indicate a positive review, such as \"enjoyable,\" \"fun,\" or \"great trash.\"                                       <span style=\"font-weight: bold\">│</span>\n",
       "<span style=\"font-weight: bold\">│</span> 4. **Consider contextual clues**: Take into account the context in which the reviewer is writing, including     <span style=\"font-weight: bold\">│</span>\n",
       "<span style=\"font-weight: bold\">│</span> their tone and purpose.                                                                                         <span style=\"font-weight: bold\">│</span>\n",
       "<span style=\"font-weight: bold\">│</span> 5. **Use more advanced NLP techniques**: Employ more sophisticated natural language processing (NLP)            <span style=\"font-weight: bold\">│</span>\n",
       "<span style=\"font-weight: bold\">│</span> techniques, such as sentiment analysis and topic modeling, to better capture subtle nuances in language.        <span style=\"font-weight: bold\">│</span>\n",
       "<span style=\"font-weight: bold\">│</span>                                                                                                                 <span style=\"font-weight: bold\">│</span>\n",
       "<span style=\"font-weight: bold\">│</span> **Recommendations:**                                                                                            <span style=\"font-weight: bold\">│</span>\n",
       "<span style=\"font-weight: bold\">│</span>                                                                                                                 <span style=\"font-weight: bold\">│</span>\n",
       "<span style=\"font-weight: bold\">│</span> 1. **Modify the prompt to include**: \"Consider mixed tones\" or \"Look for entertainment value\" as part of the    <span style=\"font-weight: bold\">│</span>\n",
       "<span style=\"font-weight: bold\">│</span> classification criteria.                                                                                        <span style=\"font-weight: bold\">│</span>\n",
       "<span style=\"font-weight: bold\">│</span> 2. **Use more explicit positive keywords**: Include phrases like \"enjoyable,\" \"fun,\" or \"great trash\" when      <span style=\"font-weight: bold\">│</span>\n",
       "<span style=\"font-weight: bold\">│</span> training the model to recognize positive cases.                                                                 <span style=\"font-weight: bold\">│</span>\n",
       "<span style=\"font-weight: bold\">│</span> 3. **Weight contextual clues**: Use contextual information, such as tone and purpose, to inform classification  <span style=\"font-weight: bold\">│</span>\n",
       "<span style=\"font-weight: bold\">│</span> decisions.                                                                                                      <span style=\"font-weight: bold\">│</span>\n",
       "<span style=\"font-weight: bold\">│</span>                                                                                                                 <span style=\"font-weight: bold\">│</span>\n",
       "<span style=\"font-weight: bold\">│</span> By implementing these strategies, the LLM model should be able to better recognize positive cases that were     <span style=\"font-weight: bold\">│</span>\n",
       "<span style=\"font-weight: bold\">│</span> previously missed, reducing false negatives and improving overall recall.                                       <span style=\"font-weight: bold\">│</span>\n",
       "<span style=\"font-weight: bold\">│</span>                                                                                                                 <span style=\"font-weight: bold\">│</span>\n",
       "<span style=\"font-weight: bold\">╰─────────────────────────────────────────────────────────────────────────────────────────────────────────────────╯</span>\n",
       "</pre>\n"
      ],
      "text/plain": [
       "\u001b[1m╭─\u001b[0m\u001b[1m───────────────────────────────────────\u001b[0m\u001b[1m Analysis of Misclassifications \u001b[0m\u001b[1m────────────────────────────────────────\u001b[0m\u001b[1m─╮\u001b[0m\n",
       "\u001b[1m│\u001b[0m                                                                                                                 \u001b[1m│\u001b[0m\n",
       "\u001b[1m│\u001b[0m After analyzing the misclassifications, I identified specific examples from the false negative texts and        \u001b[1m│\u001b[0m\n",
       "\u001b[1m│\u001b[0m highlighted elements of the text that may have led to the incorrect classification.                             \u001b[1m│\u001b[0m\n",
       "\u001b[1m│\u001b[0m                                                                                                                 \u001b[1m│\u001b[0m\n",
       "\u001b[1m│\u001b[0m **False Negative 1:**                                                                                           \u001b[1m│\u001b[0m\n",
       "\u001b[1m│\u001b[0m                                                                                                                 \u001b[1m│\u001b[0m\n",
       "\u001b[1m│\u001b[0m * Text: \"I hate guns and have never murdered anyone, but when even half of the events that take place in        \u001b[1m│\u001b[0m\n",
       "\u001b[1m│\u001b[0m 'Shuttle' happen to you or close ones and you find a gun, YOU SHOOT YOUR ATTACKER. THREE TIMES. FIVE TIMES... I \u001b[1m│\u001b[0m\n",
       "\u001b[1m│\u001b[0m think even God would say, 'Good call.'\"                                                                         \u001b[1m│\u001b[0m\n",
       "\u001b[1m│\u001b[0m * Incorrectly classified as negative: The text starts with a strong negative statement (\"I hate guns\"), but     \u001b[1m│\u001b[0m\n",
       "\u001b[1m│\u001b[0m then shifts to a more positive tone when describing the action movie \"Shuttle.\" However, this positive          \u001b[1m│\u001b[0m\n",
       "\u001b[1m│\u001b[0m sentiment is buried within a larger narrative that focuses on violence and revenge.                             \u001b[1m│\u001b[0m\n",
       "\u001b[1m│\u001b[0m                                                                                                                 \u001b[1m│\u001b[0m\n",
       "\u001b[1m│\u001b[0m **False Negative 2:**                                                                                           \u001b[1m│\u001b[0m\n",
       "\u001b[1m│\u001b[0m                                                                                                                 \u001b[1m│\u001b[0m\n",
       "\u001b[1m│\u001b[0m * Text: \"I have seen this movie several times, it sure is one of the cheapest action flicks of the eighties.    \u001b[1m│\u001b[0m\n",
       "\u001b[1m│\u001b[0m So, I think many viewers would definitely change the channel when they come across this one. But, if you are    \u001b[1m│\u001b[0m\n",
       "\u001b[1m│\u001b[0m into great trash, 'Dragon Hunt' is made for you.\"                                                               \u001b[1m│\u001b[0m\n",
       "\u001b[1m│\u001b[0m * Incorrectly classified as negative: The text initially describes a movie as \"cheap\" and something that people \u001b[1m│\u001b[0m\n",
       "\u001b[1m│\u001b[0m might avoid watching. However, it then explicitly states that the movie is suitable for those who enjoy \"great  \u001b[1m│\u001b[0m\n",
       "\u001b[1m│\u001b[0m trash,\" which implies a positive sentiment.                                                                     \u001b[1m│\u001b[0m\n",
       "\u001b[1m│\u001b[0m                                                                                                                 \u001b[1m│\u001b[0m\n",
       "\u001b[1m│\u001b[0m **Common elements leading to incorrect classification:**                                                        \u001b[1m│\u001b[0m\n",
       "\u001b[1m│\u001b[0m                                                                                                                 \u001b[1m│\u001b[0m\n",
       "\u001b[1m│\u001b[0m 1. **Mixed tone**: Both false negatives exhibit mixed tones, with initial negative statements followed by more  \u001b[1m│\u001b[0m\n",
       "\u001b[1m│\u001b[0m positive language.                                                                                              \u001b[1m│\u001b[0m\n",
       "\u001b[1m│\u001b[0m 2. **Emphasis on entertainment value**: The texts highlight the movies' potential as entertaining or enjoyable  \u001b[1m│\u001b[0m\n",
       "\u001b[1m│\u001b[0m experiences, even if they are \"cheap\" or \"awful.\"                                                               \u001b[1m│\u001b[0m\n",
       "\u001b[1m│\u001b[0m 3. **Use of humor and irony**: The authors employ humor and irony when describing the movies, which might be    \u001b[1m│\u001b[0m\n",
       "\u001b[1m│\u001b[0m misinterpreted as negative sentiments.                                                                          \u001b[1m│\u001b[0m\n",
       "\u001b[1m│\u001b[0m                                                                                                                 \u001b[1m│\u001b[0m\n",
       "\u001b[1m│\u001b[0m **Strategies to improve recall:**                                                                               \u001b[1m│\u001b[0m\n",
       "\u001b[1m│\u001b[0m                                                                                                                 \u001b[1m│\u001b[0m\n",
       "\u001b[1m│\u001b[0m 1. **Add nuance to the prompt**: Modify the classification prompt to recognize mixed tones and subtle           \u001b[1m│\u001b[0m\n",
       "\u001b[1m│\u001b[0m indicators of positive sentiment.                                                                               \u001b[1m│\u001b[0m\n",
       "\u001b[1m│\u001b[0m 2. **Increase sensitivity to entertainment value**: Emphasize the importance of entertainment value in positive \u001b[1m│\u001b[0m\n",
       "\u001b[1m│\u001b[0m reviews, rather than solely focusing on objective quality or accuracy.                                          \u001b[1m│\u001b[0m\n",
       "\u001b[1m│\u001b[0m 3. **Look for explicit positive language**: Train the model to explicitly look for words or phrases that        \u001b[1m│\u001b[0m\n",
       "\u001b[1m│\u001b[0m indicate a positive review, such as \"enjoyable,\" \"fun,\" or \"great trash.\"                                       \u001b[1m│\u001b[0m\n",
       "\u001b[1m│\u001b[0m 4. **Consider contextual clues**: Take into account the context in which the reviewer is writing, including     \u001b[1m│\u001b[0m\n",
       "\u001b[1m│\u001b[0m their tone and purpose.                                                                                         \u001b[1m│\u001b[0m\n",
       "\u001b[1m│\u001b[0m 5. **Use more advanced NLP techniques**: Employ more sophisticated natural language processing (NLP)            \u001b[1m│\u001b[0m\n",
       "\u001b[1m│\u001b[0m techniques, such as sentiment analysis and topic modeling, to better capture subtle nuances in language.        \u001b[1m│\u001b[0m\n",
       "\u001b[1m│\u001b[0m                                                                                                                 \u001b[1m│\u001b[0m\n",
       "\u001b[1m│\u001b[0m **Recommendations:**                                                                                            \u001b[1m│\u001b[0m\n",
       "\u001b[1m│\u001b[0m                                                                                                                 \u001b[1m│\u001b[0m\n",
       "\u001b[1m│\u001b[0m 1. **Modify the prompt to include**: \"Consider mixed tones\" or \"Look for entertainment value\" as part of the    \u001b[1m│\u001b[0m\n",
       "\u001b[1m│\u001b[0m classification criteria.                                                                                        \u001b[1m│\u001b[0m\n",
       "\u001b[1m│\u001b[0m 2. **Use more explicit positive keywords**: Include phrases like \"enjoyable,\" \"fun,\" or \"great trash\" when      \u001b[1m│\u001b[0m\n",
       "\u001b[1m│\u001b[0m training the model to recognize positive cases.                                                                 \u001b[1m│\u001b[0m\n",
       "\u001b[1m│\u001b[0m 3. **Weight contextual clues**: Use contextual information, such as tone and purpose, to inform classification  \u001b[1m│\u001b[0m\n",
       "\u001b[1m│\u001b[0m decisions.                                                                                                      \u001b[1m│\u001b[0m\n",
       "\u001b[1m│\u001b[0m                                                                                                                 \u001b[1m│\u001b[0m\n",
       "\u001b[1m│\u001b[0m By implementing these strategies, the LLM model should be able to better recognize positive cases that were     \u001b[1m│\u001b[0m\n",
       "\u001b[1m│\u001b[0m previously missed, reducing false negatives and improving overall recall.                                       \u001b[1m│\u001b[0m\n",
       "\u001b[1m│\u001b[0m                                                                                                                 \u001b[1m│\u001b[0m\n",
       "\u001b[1m╰─────────────────────────────────────────────────────────────────────────────────────────────────────────────────╯\u001b[0m\n"
      ]
     },
     "metadata": {},
     "output_type": "display_data"
    },
    {
     "name": "stdout",
     "output_type": "stream",
     "text": [
      "\n",
      "Generating new prompt...\n",
      "\n",
      "Iteration 2/3\n"
     ]
    },
    {
     "data": {
      "text/html": [
       "<pre style=\"white-space:pre;overflow-x:auto;line-height:normal;font-family:Menlo,'DejaVu Sans Mono',consolas,'Courier New',monospace\"><span style=\"color: #000080; text-decoration-color: #000080\">╭────────────────────────────────────────────── Current Full Prompt ──────────────────────────────────────────────╮</span>\n",
       "<span style=\"color: #000080; text-decoration-color: #000080\">│</span> Here's an improved prompt that takes into account the strategies and recommendations outlined above:            <span style=\"color: #000080; text-decoration-color: #000080\">│</span>\n",
       "<span style=\"color: #000080; text-decoration-color: #000080\">│</span>                                                                                                                 <span style=\"color: #000080; text-decoration-color: #000080\">│</span>\n",
       "<span style=\"color: #000080; text-decoration-color: #000080\">│</span> **Improved Prompt:**                                                                                            <span style=\"color: #000080; text-decoration-color: #000080\">│</span>\n",
       "<span style=\"color: #000080; text-decoration-color: #000080\">│</span>                                                                                                                 <span style=\"color: #000080; text-decoration-color: #000080\">│</span>\n",
       "<span style=\"color: #000080; text-decoration-color: #000080\">│</span> \"I am a sentiment analysis classifier with a nuanced understanding of mixed tones. When evaluating the provided <span style=\"color: #000080; text-decoration-color: #000080\">│</span>\n",
       "<span style=\"color: #000080; text-decoration-color: #000080\">│</span> text, consider both explicit and implicit indicators of positive sentiment. Look for phrases or words that      <span style=\"color: #000080; text-decoration-color: #000080\">│</span>\n",
       "<span style=\"color: #000080; text-decoration-color: #000080\">│</span> suggest enjoyment, entertainment value, or appreciation, such as 'enjoyable,' 'fun,' 'great trash,' or 'a good  <span style=\"color: #000080; text-decoration-color: #000080\">│</span>\n",
       "<span style=\"color: #000080; text-decoration-color: #000080\">│</span> call.' Also, take into account the context in which the reviewer is writing, including their tone, purpose, and <span style=\"color: #000080; text-decoration-color: #000080\">│</span>\n",
       "<span style=\"color: #000080; text-decoration-color: #000080\">│</span> use of humor or irony. If the text expresses a mixed sentiment with a stronger emphasis on positive language,   <span style=\"color: #000080; text-decoration-color: #000080\">│</span>\n",
       "<span style=\"color: #000080; text-decoration-color: #000080\">│</span> classify it as positive (1). Otherwise, classify it as negative (0).\"                                           <span style=\"color: #000080; text-decoration-color: #000080\">│</span>\n",
       "<span style=\"color: #000080; text-decoration-color: #000080\">│</span>                                                                                                                 <span style=\"color: #000080; text-decoration-color: #000080\">│</span>\n",
       "<span style=\"color: #000080; text-decoration-color: #000080\">│</span> This revised prompt:                                                                                            <span style=\"color: #000080; text-decoration-color: #000080\">│</span>\n",
       "<span style=\"color: #000080; text-decoration-color: #000080\">│</span>                                                                                                                 <span style=\"color: #000080; text-decoration-color: #000080\">│</span>\n",
       "<span style=\"color: #000080; text-decoration-color: #000080\">│</span> * Emphasizes nuanced understanding of mixed tones                                                               <span style=\"color: #000080; text-decoration-color: #000080\">│</span>\n",
       "<span style=\"color: #000080; text-decoration-color: #000080\">│</span> * Expands the scope to consider implicit indicators of positive sentiment                                       <span style=\"color: #000080; text-decoration-color: #000080\">│</span>\n",
       "<span style=\"color: #000080; text-decoration-color: #000080\">│</span> * Includes explicit positive keywords and phrases                                                               <span style=\"color: #000080; text-decoration-color: #000080\">│</span>\n",
       "<span style=\"color: #000080; text-decoration-color: #000080\">│</span> * Weights contextual clues in classification decisions                                                          <span style=\"color: #000080; text-decoration-color: #000080\">│</span>\n",
       "<span style=\"color: #000080; text-decoration-color: #000080\">│</span> * Provides clear guidance on handling ambiguous cases                                                           <span style=\"color: #000080; text-decoration-color: #000080\">│</span>\n",
       "<span style=\"color: #000080; text-decoration-color: #000080\">│</span>                                                                                                                 <span style=\"color: #000080; text-decoration-color: #000080\">│</span>\n",
       "<span style=\"color: #000080; text-decoration-color: #000080\">│</span> By refining the prompt, we aim to improve recall by reducing false negatives and capturing more subtle nuances  <span style=\"color: #000080; text-decoration-color: #000080\">│</span>\n",
       "<span style=\"color: #000080; text-decoration-color: #000080\">│</span> in language. This should lead to better overall performance metrics.                                            <span style=\"color: #000080; text-decoration-color: #000080\">│</span>\n",
       "<span style=\"color: #000080; text-decoration-color: #000080\">│</span>                                                                                                                 <span style=\"color: #000080; text-decoration-color: #000080\">│</span>\n",
       "<span style=\"color: #000080; text-decoration-color: #000080\">│</span> **Metrics Expectations:**                                                                                       <span style=\"color: #000080; text-decoration-color: #000080\">│</span>\n",
       "<span style=\"color: #000080; text-decoration-color: #000080\">│</span>                                                                                                                 <span style=\"color: #000080; text-decoration-color: #000080\">│</span>\n",
       "<span style=\"color: #000080; text-decoration-color: #000080\">│</span> With this revised prompt, I expect to see improvements in:                                                      <span style=\"color: #000080; text-decoration-color: #000080\">│</span>\n",
       "<span style=\"color: #000080; text-decoration-color: #000080\">│</span>                                                                                                                 <span style=\"color: #000080; text-decoration-color: #000080\">│</span>\n",
       "<span style=\"color: #000080; text-decoration-color: #000080\">│</span> * Recall: Reduce false negatives and increase recall for positive cases                                         <span style=\"color: #000080; text-decoration-color: #000080\">│</span>\n",
       "<span style=\"color: #000080; text-decoration-color: #000080\">│</span> * Precision: Maintain precision while ensuring that the model correctly identifies negative cases               <span style=\"color: #000080; text-decoration-color: #000080\">│</span>\n",
       "<span style=\"color: #000080; text-decoration-color: #000080\">│</span> * Accuracy: Slightly improve accuracy as the model becomes more effective at handling difficult cases           <span style=\"color: #000080; text-decoration-color: #000080\">│</span>\n",
       "<span style=\"color: #000080; text-decoration-color: #000080\">│</span> * F1-score: Improve F1-score by balancing precision and recall, focusing on overall performance rather than     <span style=\"color: #000080; text-decoration-color: #000080\">│</span>\n",
       "<span style=\"color: #000080; text-decoration-color: #000080\">│</span> individual metrics.                                                                                             <span style=\"color: #000080; text-decoration-color: #000080\">│</span>\n",
       "<span style=\"color: #000080; text-decoration-color: #000080\">│</span>                                                                                                                 <span style=\"color: #000080; text-decoration-color: #000080\">│</span>\n",
       "<span style=\"color: #000080; text-decoration-color: #000080\">│</span> You are to act as a binary responder. For every question asked, reply strictly with '1' for positive or '0' for <span style=\"color: #000080; text-decoration-color: #000080\">│</span>\n",
       "<span style=\"color: #000080; text-decoration-color: #000080\">│</span> negative. Do NOT include any additional text or explanation.                                                    <span style=\"color: #000080; text-decoration-color: #000080\">│</span>\n",
       "<span style=\"color: #000080; text-decoration-color: #000080\">╰─────────────────────────────────────────────────────────────────────────────────────────────────────────────────╯</span>\n",
       "</pre>\n"
      ],
      "text/plain": [
       "\u001b[34m╭─\u001b[0m\u001b[34m─────────────────────────────────────────────\u001b[0m\u001b[34m Current Full Prompt \u001b[0m\u001b[34m─────────────────────────────────────────────\u001b[0m\u001b[34m─╮\u001b[0m\n",
       "\u001b[34m│\u001b[0m Here's an improved prompt that takes into account the strategies and recommendations outlined above:            \u001b[34m│\u001b[0m\n",
       "\u001b[34m│\u001b[0m                                                                                                                 \u001b[34m│\u001b[0m\n",
       "\u001b[34m│\u001b[0m **Improved Prompt:**                                                                                            \u001b[34m│\u001b[0m\n",
       "\u001b[34m│\u001b[0m                                                                                                                 \u001b[34m│\u001b[0m\n",
       "\u001b[34m│\u001b[0m \"I am a sentiment analysis classifier with a nuanced understanding of mixed tones. When evaluating the provided \u001b[34m│\u001b[0m\n",
       "\u001b[34m│\u001b[0m text, consider both explicit and implicit indicators of positive sentiment. Look for phrases or words that      \u001b[34m│\u001b[0m\n",
       "\u001b[34m│\u001b[0m suggest enjoyment, entertainment value, or appreciation, such as 'enjoyable,' 'fun,' 'great trash,' or 'a good  \u001b[34m│\u001b[0m\n",
       "\u001b[34m│\u001b[0m call.' Also, take into account the context in which the reviewer is writing, including their tone, purpose, and \u001b[34m│\u001b[0m\n",
       "\u001b[34m│\u001b[0m use of humor or irony. If the text expresses a mixed sentiment with a stronger emphasis on positive language,   \u001b[34m│\u001b[0m\n",
       "\u001b[34m│\u001b[0m classify it as positive (1). Otherwise, classify it as negative (0).\"                                           \u001b[34m│\u001b[0m\n",
       "\u001b[34m│\u001b[0m                                                                                                                 \u001b[34m│\u001b[0m\n",
       "\u001b[34m│\u001b[0m This revised prompt:                                                                                            \u001b[34m│\u001b[0m\n",
       "\u001b[34m│\u001b[0m                                                                                                                 \u001b[34m│\u001b[0m\n",
       "\u001b[34m│\u001b[0m * Emphasizes nuanced understanding of mixed tones                                                               \u001b[34m│\u001b[0m\n",
       "\u001b[34m│\u001b[0m * Expands the scope to consider implicit indicators of positive sentiment                                       \u001b[34m│\u001b[0m\n",
       "\u001b[34m│\u001b[0m * Includes explicit positive keywords and phrases                                                               \u001b[34m│\u001b[0m\n",
       "\u001b[34m│\u001b[0m * Weights contextual clues in classification decisions                                                          \u001b[34m│\u001b[0m\n",
       "\u001b[34m│\u001b[0m * Provides clear guidance on handling ambiguous cases                                                           \u001b[34m│\u001b[0m\n",
       "\u001b[34m│\u001b[0m                                                                                                                 \u001b[34m│\u001b[0m\n",
       "\u001b[34m│\u001b[0m By refining the prompt, we aim to improve recall by reducing false negatives and capturing more subtle nuances  \u001b[34m│\u001b[0m\n",
       "\u001b[34m│\u001b[0m in language. This should lead to better overall performance metrics.                                            \u001b[34m│\u001b[0m\n",
       "\u001b[34m│\u001b[0m                                                                                                                 \u001b[34m│\u001b[0m\n",
       "\u001b[34m│\u001b[0m **Metrics Expectations:**                                                                                       \u001b[34m│\u001b[0m\n",
       "\u001b[34m│\u001b[0m                                                                                                                 \u001b[34m│\u001b[0m\n",
       "\u001b[34m│\u001b[0m With this revised prompt, I expect to see improvements in:                                                      \u001b[34m│\u001b[0m\n",
       "\u001b[34m│\u001b[0m                                                                                                                 \u001b[34m│\u001b[0m\n",
       "\u001b[34m│\u001b[0m * Recall: Reduce false negatives and increase recall for positive cases                                         \u001b[34m│\u001b[0m\n",
       "\u001b[34m│\u001b[0m * Precision: Maintain precision while ensuring that the model correctly identifies negative cases               \u001b[34m│\u001b[0m\n",
       "\u001b[34m│\u001b[0m * Accuracy: Slightly improve accuracy as the model becomes more effective at handling difficult cases           \u001b[34m│\u001b[0m\n",
       "\u001b[34m│\u001b[0m * F1-score: Improve F1-score by balancing precision and recall, focusing on overall performance rather than     \u001b[34m│\u001b[0m\n",
       "\u001b[34m│\u001b[0m individual metrics.                                                                                             \u001b[34m│\u001b[0m\n",
       "\u001b[34m│\u001b[0m                                                                                                                 \u001b[34m│\u001b[0m\n",
       "\u001b[34m│\u001b[0m You are to act as a binary responder. For every question asked, reply strictly with '1' for positive or '0' for \u001b[34m│\u001b[0m\n",
       "\u001b[34m│\u001b[0m negative. Do NOT include any additional text or explanation.                                                    \u001b[34m│\u001b[0m\n",
       "\u001b[34m╰─────────────────────────────────────────────────────────────────────────────────────────────────────────────────╯\u001b[0m\n"
      ]
     },
     "metadata": {},
     "output_type": "display_data"
    },
    {
     "name": "stdout",
     "output_type": "stream",
     "text": [
      "Processing text 1/10\n",
      "Prediction 1/10: 1 | Ground Truth: 1 ✅ (TP)\n",
      "Processing text 2/10\n",
      "Prediction 2/10: 0 | Ground Truth: 0 ✅ (TN)\n",
      "Processing text 3/10\n",
      "Prediction 3/10: 1 | Ground Truth: 1 ✅ (TP)\n",
      "Processing text 4/10\n",
      "Prediction 4/10: 1 | Ground Truth: 0 ❌ (FP)\n",
      "Processing text 5/10\n",
      "Prediction 5/10: 1 | Ground Truth: 1 ✅ (TP)\n",
      "Processing text 6/10\n",
      "Prediction 6/10: 1 | Ground Truth: 0 ❌ (FP)\n",
      "Processing text 7/10\n",
      "Prediction 7/10: 1 | Ground Truth: 1 ✅ (TP)\n",
      "Processing text 8/10\n",
      "Prediction 8/10: 0 | Ground Truth: 0 ✅ (TN)\n",
      "Processing text 9/10\n",
      "Prediction 9/10: 0 | Ground Truth: 0 ✅ (TN)\n",
      "Processing text 10/10\n",
      "Prediction 10/10: 1 | Ground Truth: 1 ✅ (TP)\n"
     ]
    },
    {
     "data": {
      "text/html": [
       "<pre style=\"white-space:pre;overflow-x:auto;line-height:normal;font-family:Menlo,'DejaVu Sans Mono',consolas,'Courier New',monospace\"><span style=\"font-style: italic\">Evaluation Metrics - Iteration 2</span>\n",
       "┏━━━━━━━━━━━━━━━━━━━━━┳━━━━━━━━┓\n",
       "┃<span style=\"font-weight: bold\"> Metric              </span>┃<span style=\"font-weight: bold\">  Value </span>┃\n",
       "┡━━━━━━━━━━━━━━━━━━━━━╇━━━━━━━━┩\n",
       "│ Precision           │ 0.7143 │\n",
       "│ Recall              │ 1.0000 │\n",
       "│ Accuracy            │ 0.8000 │\n",
       "│ F1-score            │ 0.8333 │\n",
       "│ Invalid Predictions │      0 │\n",
       "└─────────────────────┴────────┘\n",
       "</pre>\n"
      ],
      "text/plain": [
       "\u001b[3mEvaluation Metrics - Iteration 2\u001b[0m\n",
       "┏━━━━━━━━━━━━━━━━━━━━━┳━━━━━━━━┓\n",
       "┃\u001b[1m \u001b[0m\u001b[1mMetric             \u001b[0m\u001b[1m \u001b[0m┃\u001b[1m \u001b[0m\u001b[1m Value\u001b[0m\u001b[1m \u001b[0m┃\n",
       "┡━━━━━━━━━━━━━━━━━━━━━╇━━━━━━━━┩\n",
       "│ Precision           │ 0.7143 │\n",
       "│ Recall              │ 1.0000 │\n",
       "│ Accuracy            │ 0.8000 │\n",
       "│ F1-score            │ 0.8333 │\n",
       "│ Invalid Predictions │      0 │\n",
       "└─────────────────────┴────────┘\n"
      ]
     },
     "metadata": {},
     "output_type": "display_data"
    },
    {
     "name": "stdout",
     "output_type": "stream",
     "text": [
      "\n",
      "Analyzing misclassifications...\n"
     ]
    },
    {
     "data": {
      "text/html": [
       "<pre style=\"white-space:pre;overflow-x:auto;line-height:normal;font-family:Menlo,'DejaVu Sans Mono',consolas,'Courier New',monospace\"><span style=\"font-weight: bold\">╭──────────────────────────────────────── Analysis of Misclassifications ─────────────────────────────────────────╮</span>\n",
       "<span style=\"font-weight: bold\">│</span>                                                                                                                 <span style=\"font-weight: bold\">│</span>\n",
       "<span style=\"font-weight: bold\">│</span> After analyzing the misclassifications, I've identified specific examples from the false negatives and          <span style=\"font-weight: bold\">│</span>\n",
       "<span style=\"font-weight: bold\">│</span> highlighted what elements of the text may have led to the incorrect classification.                             <span style=\"font-weight: bold\">│</span>\n",
       "<span style=\"font-weight: bold\">│</span>                                                                                                                 <span style=\"font-weight: bold\">│</span>\n",
       "<span style=\"font-weight: bold\">│</span> **False Negative 1:**                                                                                           <span style=\"font-weight: bold\">│</span>\n",
       "<span style=\"font-weight: bold\">│</span> \"I hate guns and have never murdered anyone, but when even half of the events that take place in 'Shuttle'      <span style=\"font-weight: bold\">│</span>\n",
       "<span style=\"font-weight: bold\">│</span> happen to you or close ones and you find a gun, YOU SHOOT YOUR ATTACKER. THREE TIMES. FIVE TIMES. Whatever      <span style=\"font-weight: bold\">│</span>\n",
       "<span style=\"font-weight: bold\">│</span> makes the pulse stop on them and increase on you.\"                                                              <span style=\"font-weight: bold\">│</span>\n",
       "<span style=\"font-weight: bold\">│</span>                                                                                                                 <span style=\"font-weight: bold\">│</span>\n",
       "<span style=\"font-weight: bold\">│</span> **Incorrect Classification:** Negative (0)                                                                      <span style=\"font-weight: bold\">│</span>\n",
       "<span style=\"font-weight: bold\">│</span>                                                                                                                 <span style=\"font-weight: bold\">│</span>\n",
       "<span style=\"font-weight: bold\">│</span> **Analysis:** The text starts with a strong negative sentiment (\"I hate guns\"), but then introduces a           <span style=\"font-weight: bold\">│</span>\n",
       "<span style=\"font-weight: bold\">│</span> hypothetical scenario where violence is justified in self-defense. The use of phrases like \"YOU SHOOT YOUR      <span style=\"font-weight: bold\">│</span>\n",
       "<span style=\"font-weight: bold\">│</span> ATTACKER\" and \"whatever makes the pulse stop on them\" might have been misinterpreted as a desire for violence,  <span style=\"font-weight: bold\">│</span>\n",
       "<span style=\"font-weight: bold\">│</span> leading to incorrect classification.                                                                            <span style=\"font-weight: bold\">│</span>\n",
       "<span style=\"font-weight: bold\">│</span>                                                                                                                 <span style=\"font-weight: bold\">│</span>\n",
       "<span style=\"font-weight: bold\">│</span> **False Negative 2:**                                                                                           <span style=\"font-weight: bold\">│</span>\n",
       "<span style=\"font-weight: bold\">│</span> \"I have seen this movie several times, it sure is one of the cheapest action flicks of the eighties. So, I      <span style=\"font-weight: bold\">│</span>\n",
       "<span style=\"font-weight: bold\">│</span> think many viewers would definitely change the channel when they come across this one. But, if you are into     <span style=\"font-weight: bold\">│</span>\n",
       "<span style=\"font-weight: bold\">│</span> great trash, 'Dragon Hunt' is made for you.\"                                                                    <span style=\"font-weight: bold\">│</span>\n",
       "<span style=\"font-weight: bold\">│</span>                                                                                                                 <span style=\"font-weight: bold\">│</span>\n",
       "<span style=\"font-weight: bold\">│</span> **Incorrect Classification:** Negative (0)                                                                      <span style=\"font-weight: bold\">│</span>\n",
       "<span style=\"font-weight: bold\">│</span>                                                                                                                 <span style=\"font-weight: bold\">│</span>\n",
       "<span style=\"font-weight: bold\">│</span> **Analysis:** The text starts with a negative statement about the movie's quality (\"one of the cheapest action  <span style=\"font-weight: bold\">│</span>\n",
       "<span style=\"font-weight: bold\">│</span> flicks\"), but then transitions to a positive tone by recommending it as \"great trash\" for fans. The use of      <span style=\"font-weight: bold\">│</span>\n",
       "<span style=\"font-weight: bold\">│</span> phrases like \"but if you are into great trash\" might have been misinterpreted as sarcasm, leading to incorrect  <span style=\"font-weight: bold\">│</span>\n",
       "<span style=\"font-weight: bold\">│</span> classification.                                                                                                 <span style=\"font-weight: bold\">│</span>\n",
       "<span style=\"font-weight: bold\">│</span>                                                                                                                 <span style=\"font-weight: bold\">│</span>\n",
       "<span style=\"font-weight: bold\">│</span> **Common Themes:**                                                                                              <span style=\"font-weight: bold\">│</span>\n",
       "<span style=\"font-weight: bold\">│</span>                                                                                                                 <span style=\"font-weight: bold\">│</span>\n",
       "<span style=\"font-weight: bold\">│</span> 1. **Contextual nuances:** The false negatives often rely on contextual clues that were missed or               <span style=\"font-weight: bold\">│</span>\n",
       "<span style=\"font-weight: bold\">│</span> misinterpreted by the model.                                                                                    <span style=\"font-weight: bold\">│</span>\n",
       "<span style=\"font-weight: bold\">│</span> 2. **Tone and irony:** Some texts use irony or sarcasm to convey a positive tone, which can be difficult for    <span style=\"font-weight: bold\">│</span>\n",
       "<span style=\"font-weight: bold\">│</span> models to detect.                                                                                               <span style=\"font-weight: bold\">│</span>\n",
       "<span style=\"font-weight: bold\">│</span> 3. **Subtle positive language:** Certain phrases or sentences might contain subtle hints of positivity that     <span style=\"font-weight: bold\">│</span>\n",
       "<span style=\"font-weight: bold\">│</span> were overlooked.                                                                                                <span style=\"font-weight: bold\">│</span>\n",
       "<span style=\"font-weight: bold\">│</span>                                                                                                                 <span style=\"font-weight: bold\">│</span>\n",
       "<span style=\"font-weight: bold\">│</span> **Recommendations:**                                                                                            <span style=\"font-weight: bold\">│</span>\n",
       "<span style=\"font-weight: bold\">│</span>                                                                                                                 <span style=\"font-weight: bold\">│</span>\n",
       "<span style=\"font-weight: bold\">│</span> 1. **Train on more nuanced datasets:** Include datasets with varied tones, styles, and contexts to improve the  <span style=\"font-weight: bold\">│</span>\n",
       "<span style=\"font-weight: bold\">│</span> model's ability to recognize subtleties in language.                                                            <span style=\"font-weight: bold\">│</span>\n",
       "<span style=\"font-weight: bold\">│</span> 2. **Improve sarcasm detection:** Incorporate techniques for detecting sarcasm, irony, or humor, which can help <span style=\"font-weight: bold\">│</span>\n",
       "<span style=\"font-weight: bold\">│</span> mitigate false negatives caused by misinterpreting tone.                                                        <span style=\"font-weight: bold\">│</span>\n",
       "<span style=\"font-weight: bold\">│</span> 3. **Enhance contextual understanding:** Use contextual information to disambiguate text and improve the        <span style=\"font-weight: bold\">│</span>\n",
       "<span style=\"font-weight: bold\">│</span> model's ability to recognize when a negative statement is being used in an ironic or humorous way.              <span style=\"font-weight: bold\">│</span>\n",
       "<span style=\"font-weight: bold\">│</span> 4. **Increase emphasis on positive language features:** Modify the prompt to include more explicit indicators   <span style=\"font-weight: bold\">│</span>\n",
       "<span style=\"font-weight: bold\">│</span> of positivity, such as keywords (e.g., \"great,\" \"enjoyable\") or phrases that suggest a positive experience.     <span style=\"font-weight: bold\">│</span>\n",
       "<span style=\"font-weight: bold\">│</span> 5. **Use more diverse and nuanced evaluation metrics:** Move beyond binary classification accuracy and adopt    <span style=\"font-weight: bold\">│</span>\n",
       "<span style=\"font-weight: bold\">│</span> metrics that account for subtleties in language, such as F1 scores or precision-recall curves.                  <span style=\"font-weight: bold\">│</span>\n",
       "<span style=\"font-weight: bold\">│</span>                                                                                                                 <span style=\"font-weight: bold\">│</span>\n",
       "<span style=\"font-weight: bold\">│</span> By implementing these strategies, the classification prompt can become more sensitive to subtle indicators of   <span style=\"font-weight: bold\">│</span>\n",
       "<span style=\"font-weight: bold\">│</span> positive cases and reduce false negatives.                                                                      <span style=\"font-weight: bold\">│</span>\n",
       "<span style=\"font-weight: bold\">│</span>                                                                                                                 <span style=\"font-weight: bold\">│</span>\n",
       "<span style=\"font-weight: bold\">╰─────────────────────────────────────────────────────────────────────────────────────────────────────────────────╯</span>\n",
       "</pre>\n"
      ],
      "text/plain": [
       "\u001b[1m╭─\u001b[0m\u001b[1m───────────────────────────────────────\u001b[0m\u001b[1m Analysis of Misclassifications \u001b[0m\u001b[1m────────────────────────────────────────\u001b[0m\u001b[1m─╮\u001b[0m\n",
       "\u001b[1m│\u001b[0m                                                                                                                 \u001b[1m│\u001b[0m\n",
       "\u001b[1m│\u001b[0m After analyzing the misclassifications, I've identified specific examples from the false negatives and          \u001b[1m│\u001b[0m\n",
       "\u001b[1m│\u001b[0m highlighted what elements of the text may have led to the incorrect classification.                             \u001b[1m│\u001b[0m\n",
       "\u001b[1m│\u001b[0m                                                                                                                 \u001b[1m│\u001b[0m\n",
       "\u001b[1m│\u001b[0m **False Negative 1:**                                                                                           \u001b[1m│\u001b[0m\n",
       "\u001b[1m│\u001b[0m \"I hate guns and have never murdered anyone, but when even half of the events that take place in 'Shuttle'      \u001b[1m│\u001b[0m\n",
       "\u001b[1m│\u001b[0m happen to you or close ones and you find a gun, YOU SHOOT YOUR ATTACKER. THREE TIMES. FIVE TIMES. Whatever      \u001b[1m│\u001b[0m\n",
       "\u001b[1m│\u001b[0m makes the pulse stop on them and increase on you.\"                                                              \u001b[1m│\u001b[0m\n",
       "\u001b[1m│\u001b[0m                                                                                                                 \u001b[1m│\u001b[0m\n",
       "\u001b[1m│\u001b[0m **Incorrect Classification:** Negative (0)                                                                      \u001b[1m│\u001b[0m\n",
       "\u001b[1m│\u001b[0m                                                                                                                 \u001b[1m│\u001b[0m\n",
       "\u001b[1m│\u001b[0m **Analysis:** The text starts with a strong negative sentiment (\"I hate guns\"), but then introduces a           \u001b[1m│\u001b[0m\n",
       "\u001b[1m│\u001b[0m hypothetical scenario where violence is justified in self-defense. The use of phrases like \"YOU SHOOT YOUR      \u001b[1m│\u001b[0m\n",
       "\u001b[1m│\u001b[0m ATTACKER\" and \"whatever makes the pulse stop on them\" might have been misinterpreted as a desire for violence,  \u001b[1m│\u001b[0m\n",
       "\u001b[1m│\u001b[0m leading to incorrect classification.                                                                            \u001b[1m│\u001b[0m\n",
       "\u001b[1m│\u001b[0m                                                                                                                 \u001b[1m│\u001b[0m\n",
       "\u001b[1m│\u001b[0m **False Negative 2:**                                                                                           \u001b[1m│\u001b[0m\n",
       "\u001b[1m│\u001b[0m \"I have seen this movie several times, it sure is one of the cheapest action flicks of the eighties. So, I      \u001b[1m│\u001b[0m\n",
       "\u001b[1m│\u001b[0m think many viewers would definitely change the channel when they come across this one. But, if you are into     \u001b[1m│\u001b[0m\n",
       "\u001b[1m│\u001b[0m great trash, 'Dragon Hunt' is made for you.\"                                                                    \u001b[1m│\u001b[0m\n",
       "\u001b[1m│\u001b[0m                                                                                                                 \u001b[1m│\u001b[0m\n",
       "\u001b[1m│\u001b[0m **Incorrect Classification:** Negative (0)                                                                      \u001b[1m│\u001b[0m\n",
       "\u001b[1m│\u001b[0m                                                                                                                 \u001b[1m│\u001b[0m\n",
       "\u001b[1m│\u001b[0m **Analysis:** The text starts with a negative statement about the movie's quality (\"one of the cheapest action  \u001b[1m│\u001b[0m\n",
       "\u001b[1m│\u001b[0m flicks\"), but then transitions to a positive tone by recommending it as \"great trash\" for fans. The use of      \u001b[1m│\u001b[0m\n",
       "\u001b[1m│\u001b[0m phrases like \"but if you are into great trash\" might have been misinterpreted as sarcasm, leading to incorrect  \u001b[1m│\u001b[0m\n",
       "\u001b[1m│\u001b[0m classification.                                                                                                 \u001b[1m│\u001b[0m\n",
       "\u001b[1m│\u001b[0m                                                                                                                 \u001b[1m│\u001b[0m\n",
       "\u001b[1m│\u001b[0m **Common Themes:**                                                                                              \u001b[1m│\u001b[0m\n",
       "\u001b[1m│\u001b[0m                                                                                                                 \u001b[1m│\u001b[0m\n",
       "\u001b[1m│\u001b[0m 1. **Contextual nuances:** The false negatives often rely on contextual clues that were missed or               \u001b[1m│\u001b[0m\n",
       "\u001b[1m│\u001b[0m misinterpreted by the model.                                                                                    \u001b[1m│\u001b[0m\n",
       "\u001b[1m│\u001b[0m 2. **Tone and irony:** Some texts use irony or sarcasm to convey a positive tone, which can be difficult for    \u001b[1m│\u001b[0m\n",
       "\u001b[1m│\u001b[0m models to detect.                                                                                               \u001b[1m│\u001b[0m\n",
       "\u001b[1m│\u001b[0m 3. **Subtle positive language:** Certain phrases or sentences might contain subtle hints of positivity that     \u001b[1m│\u001b[0m\n",
       "\u001b[1m│\u001b[0m were overlooked.                                                                                                \u001b[1m│\u001b[0m\n",
       "\u001b[1m│\u001b[0m                                                                                                                 \u001b[1m│\u001b[0m\n",
       "\u001b[1m│\u001b[0m **Recommendations:**                                                                                            \u001b[1m│\u001b[0m\n",
       "\u001b[1m│\u001b[0m                                                                                                                 \u001b[1m│\u001b[0m\n",
       "\u001b[1m│\u001b[0m 1. **Train on more nuanced datasets:** Include datasets with varied tones, styles, and contexts to improve the  \u001b[1m│\u001b[0m\n",
       "\u001b[1m│\u001b[0m model's ability to recognize subtleties in language.                                                            \u001b[1m│\u001b[0m\n",
       "\u001b[1m│\u001b[0m 2. **Improve sarcasm detection:** Incorporate techniques for detecting sarcasm, irony, or humor, which can help \u001b[1m│\u001b[0m\n",
       "\u001b[1m│\u001b[0m mitigate false negatives caused by misinterpreting tone.                                                        \u001b[1m│\u001b[0m\n",
       "\u001b[1m│\u001b[0m 3. **Enhance contextual understanding:** Use contextual information to disambiguate text and improve the        \u001b[1m│\u001b[0m\n",
       "\u001b[1m│\u001b[0m model's ability to recognize when a negative statement is being used in an ironic or humorous way.              \u001b[1m│\u001b[0m\n",
       "\u001b[1m│\u001b[0m 4. **Increase emphasis on positive language features:** Modify the prompt to include more explicit indicators   \u001b[1m│\u001b[0m\n",
       "\u001b[1m│\u001b[0m of positivity, such as keywords (e.g., \"great,\" \"enjoyable\") or phrases that suggest a positive experience.     \u001b[1m│\u001b[0m\n",
       "\u001b[1m│\u001b[0m 5. **Use more diverse and nuanced evaluation metrics:** Move beyond binary classification accuracy and adopt    \u001b[1m│\u001b[0m\n",
       "\u001b[1m│\u001b[0m metrics that account for subtleties in language, such as F1 scores or precision-recall curves.                  \u001b[1m│\u001b[0m\n",
       "\u001b[1m│\u001b[0m                                                                                                                 \u001b[1m│\u001b[0m\n",
       "\u001b[1m│\u001b[0m By implementing these strategies, the classification prompt can become more sensitive to subtle indicators of   \u001b[1m│\u001b[0m\n",
       "\u001b[1m│\u001b[0m positive cases and reduce false negatives.                                                                      \u001b[1m│\u001b[0m\n",
       "\u001b[1m│\u001b[0m                                                                                                                 \u001b[1m│\u001b[0m\n",
       "\u001b[1m╰─────────────────────────────────────────────────────────────────────────────────────────────────────────────────╯\u001b[0m\n"
      ]
     },
     "metadata": {},
     "output_type": "display_data"
    },
    {
     "name": "stdout",
     "output_type": "stream",
     "text": [
      "\n",
      "Generating new prompt...\n",
      "\n",
      "Iteration 3/3\n"
     ]
    },
    {
     "data": {
      "text/html": [
       "<pre style=\"white-space:pre;overflow-x:auto;line-height:normal;font-family:Menlo,'DejaVu Sans Mono',consolas,'Courier New',monospace\"><span style=\"color: #000080; text-decoration-color: #000080\">╭────────────────────────────────────────────── Current Full Prompt ──────────────────────────────────────────────╮</span>\n",
       "<span style=\"color: #000080; text-decoration-color: #000080\">│</span> Based on your analysis and recommendations, I've crafted an improved prompt that addresses the issues           <span style=\"color: #000080; text-decoration-color: #000080\">│</span>\n",
       "<span style=\"color: #000080; text-decoration-color: #000080\">│</span> identified and prioritizes increasing recall:                                                                   <span style=\"color: #000080; text-decoration-color: #000080\">│</span>\n",
       "<span style=\"color: #000080; text-decoration-color: #000080\">│</span>                                                                                                                 <span style=\"color: #000080; text-decoration-color: #000080\">│</span>\n",
       "<span style=\"color: #000080; text-decoration-color: #000080\">│</span> **Improved Prompt:**                                                                                            <span style=\"color: #000080; text-decoration-color: #000080\">│</span>\n",
       "<span style=\"color: #000080; text-decoration-color: #000080\">│</span>                                                                                                                 <span style=\"color: #000080; text-decoration-color: #000080\">│</span>\n",
       "<span style=\"color: #000080; text-decoration-color: #000080\">│</span> \"I am a sentiment analysis classifier with a nuanced understanding of mixed tones. When evaluating the provided <span style=\"color: #000080; text-decoration-color: #000080\">│</span>\n",
       "<span style=\"color: #000080; text-decoration-color: #000080\">│</span> text, consider both explicit and implicit indicators of positive sentiment in the context of tone, purpose, and <span style=\"color: #000080; text-decoration-color: #000080\">│</span>\n",
       "<span style=\"color: #000080; text-decoration-color: #000080\">│</span> style. Look for phrases or words that suggest enjoyment, entertainment value, or appreciation, such as          <span style=\"color: #000080; text-decoration-color: #000080\">│</span>\n",
       "<span style=\"color: #000080; text-decoration-color: #000080\">│</span> 'enjoyable,' 'fun,' 'great trash,' or 'a good call.' Be cautious when encountering negative statements that     <span style=\"color: #000080; text-decoration-color: #000080\">│</span>\n",
       "<span style=\"color: #000080; text-decoration-color: #000080\">│</span> might be used ironically or humorously to convey a positive sentiment. If you detect subtle hints of            <span style=\"color: #000080; text-decoration-color: #000080\">│</span>\n",
       "<span style=\"color: #000080; text-decoration-color: #000080\">│</span> positivity, consider the overall tone and context in which they're presented.                                   <span style=\"color: #000080; text-decoration-color: #000080\">│</span>\n",
       "<span style=\"color: #000080; text-decoration-color: #000080\">│</span>                                                                                                                 <span style=\"color: #000080; text-decoration-color: #000080\">│</span>\n",
       "<span style=\"color: #000080; text-decoration-color: #000080\">│</span> For texts expressing mixed sentiments with a stronger emphasis on positive language, classify them as positive  <span style=\"color: #000080; text-decoration-color: #000080\">│</span>\n",
       "<span style=\"color: #000080; text-decoration-color: #000080\">│</span> (1). If the text leans towards a negative sentiment or has an overwhelmingly negative tone, despite possible    <span style=\"color: #000080; text-decoration-color: #000080\">│</span>\n",
       "<span style=\"color: #000080; text-decoration-color: #000080\">│</span> sarcastic or ironic undertones, classify it as negative (0).                                                    <span style=\"color: #000080; text-decoration-color: #000080\">│</span>\n",
       "<span style=\"color: #000080; text-decoration-color: #000080\">│</span>                                                                                                                 <span style=\"color: #000080; text-decoration-color: #000080\">│</span>\n",
       "<span style=\"color: #000080; text-decoration-color: #000080\">│</span> In cases where the distinction between positive and negative is ambiguous, prioritize the presence of explicit  <span style=\"color: #000080; text-decoration-color: #000080\">│</span>\n",
       "<span style=\"color: #000080; text-decoration-color: #000080\">│</span> positive keywords and phrases over implicit indicators. Also, consider the intent behind the language: if the   <span style=\"color: #000080; text-decoration-color: #000080\">│</span>\n",
       "<span style=\"color: #000080; text-decoration-color: #000080\">│</span> text aims to critique or warn readers away from something with a hint of humor, but ultimately encourages       <span style=\"color: #000080; text-decoration-color: #000080\">│</span>\n",
       "<span style=\"color: #000080; text-decoration-color: #000080\">│</span> engagement or appreciation for it, classify it as positive.                                                     <span style=\"color: #000080; text-decoration-color: #000080\">│</span>\n",
       "<span style=\"color: #000080; text-decoration-color: #000080\">│</span>                                                                                                                 <span style=\"color: #000080; text-decoration-color: #000080\">│</span>\n",
       "<span style=\"color: #000080; text-decoration-color: #000080\">│</span> To refine my analysis, I've been trained on more diverse datasets that include nuanced tones, styles, and       <span style=\"color: #000080; text-decoration-color: #000080\">│</span>\n",
       "<span style=\"color: #000080; text-decoration-color: #000080\">│</span> contexts. This enables me to better recognize subtleties in language and reduce false negatives caused by       <span style=\"color: #000080; text-decoration-color: #000080\">│</span>\n",
       "<span style=\"color: #000080; text-decoration-color: #000080\">│</span> misinterpreting tone or context.\"                                                                               <span style=\"color: #000080; text-decoration-color: #000080\">│</span>\n",
       "<span style=\"color: #000080; text-decoration-color: #000080\">│</span>                                                                                                                 <span style=\"color: #000080; text-decoration-color: #000080\">│</span>\n",
       "<span style=\"color: #000080; text-decoration-color: #000080\">│</span> This revised prompt aims to:                                                                                    <span style=\"color: #000080; text-decoration-color: #000080\">│</span>\n",
       "<span style=\"color: #000080; text-decoration-color: #000080\">│</span>                                                                                                                 <span style=\"color: #000080; text-decoration-color: #000080\">│</span>\n",
       "<span style=\"color: #000080; text-decoration-color: #000080\">│</span> 1. **Emphasize contextual understanding:** By considering the tone, purpose, style, and intent behind the text, <span style=\"color: #000080; text-decoration-color: #000080\">│</span>\n",
       "<span style=\"color: #000080; text-decoration-color: #000080\">│</span> I can better disambiguate language and identify subtle positive sentiments.                                     <span style=\"color: #000080; text-decoration-color: #000080\">│</span>\n",
       "<span style=\"color: #000080; text-decoration-color: #000080\">│</span> 2. **Prioritize positive language features:** The prompt includes more explicit indicators of positivity        <span style=\"color: #000080; text-decoration-color: #000080\">│</span>\n",
       "<span style=\"color: #000080; text-decoration-color: #000080\">│</span> (keywords like 'enjoyable' or phrases that suggest a positive experience) to help me recognize when a text is   <span style=\"color: #000080; text-decoration-color: #000080\">│</span>\n",
       "<span style=\"color: #000080; text-decoration-color: #000080\">│</span> leaning towards a positive sentiment.                                                                           <span style=\"color: #000080; text-decoration-color: #000080\">│</span>\n",
       "<span style=\"color: #000080; text-decoration-color: #000080\">│</span> 3. **Mitigate tone misinterpretation:** I've been trained to detect sarcasm, irony, and humor, which can help   <span style=\"color: #000080; text-decoration-color: #000080\">│</span>\n",
       "<span style=\"color: #000080; text-decoration-color: #000080\">│</span> mitigate false negatives caused by misinterpreting tone.                                                        <span style=\"color: #000080; text-decoration-color: #000080\">│</span>\n",
       "<span style=\"color: #000080; text-decoration-color: #000080\">│</span> 4. **Handle ambiguous cases:** The prompt provides clear guidance on how to handle ambiguous cases,             <span style=\"color: #000080; text-decoration-color: #000080\">│</span>\n",
       "<span style=\"color: #000080; text-decoration-color: #000080\">│</span> prioritizing the presence of explicit positive keywords and phrases over implicit indicators.                   <span style=\"color: #000080; text-decoration-color: #000080\">│</span>\n",
       "<span style=\"color: #000080; text-decoration-color: #000080\">│</span>                                                                                                                 <span style=\"color: #000080; text-decoration-color: #000080\">│</span>\n",
       "<span style=\"color: #000080; text-decoration-color: #000080\">│</span> This revised prompt should lead to improved recall, as I've been trained to better recognize subtle nuances in  <span style=\"color: #000080; text-decoration-color: #000080\">│</span>\n",
       "<span style=\"color: #000080; text-decoration-color: #000080\">│</span> language and reduce false negatives. By focusing on contextual understanding and prioritizing positive language <span style=\"color: #000080; text-decoration-color: #000080\">│</span>\n",
       "<span style=\"color: #000080; text-decoration-color: #000080\">│</span> features, I can become more effective at identifying positive cases and reducing the number of                  <span style=\"color: #000080; text-decoration-color: #000080\">│</span>\n",
       "<span style=\"color: #000080; text-decoration-color: #000080\">│</span> misclassifications.                                                                                             <span style=\"color: #000080; text-decoration-color: #000080\">│</span>\n",
       "<span style=\"color: #000080; text-decoration-color: #000080\">│</span>                                                                                                                 <span style=\"color: #000080; text-decoration-color: #000080\">│</span>\n",
       "<span style=\"color: #000080; text-decoration-color: #000080\">│</span> You are to act as a binary responder. For every question asked, reply strictly with '1' for positive or '0' for <span style=\"color: #000080; text-decoration-color: #000080\">│</span>\n",
       "<span style=\"color: #000080; text-decoration-color: #000080\">│</span> negative. Do NOT include any additional text or explanation.                                                    <span style=\"color: #000080; text-decoration-color: #000080\">│</span>\n",
       "<span style=\"color: #000080; text-decoration-color: #000080\">╰─────────────────────────────────────────────────────────────────────────────────────────────────────────────────╯</span>\n",
       "</pre>\n"
      ],
      "text/plain": [
       "\u001b[34m╭─\u001b[0m\u001b[34m─────────────────────────────────────────────\u001b[0m\u001b[34m Current Full Prompt \u001b[0m\u001b[34m─────────────────────────────────────────────\u001b[0m\u001b[34m─╮\u001b[0m\n",
       "\u001b[34m│\u001b[0m Based on your analysis and recommendations, I've crafted an improved prompt that addresses the issues           \u001b[34m│\u001b[0m\n",
       "\u001b[34m│\u001b[0m identified and prioritizes increasing recall:                                                                   \u001b[34m│\u001b[0m\n",
       "\u001b[34m│\u001b[0m                                                                                                                 \u001b[34m│\u001b[0m\n",
       "\u001b[34m│\u001b[0m **Improved Prompt:**                                                                                            \u001b[34m│\u001b[0m\n",
       "\u001b[34m│\u001b[0m                                                                                                                 \u001b[34m│\u001b[0m\n",
       "\u001b[34m│\u001b[0m \"I am a sentiment analysis classifier with a nuanced understanding of mixed tones. When evaluating the provided \u001b[34m│\u001b[0m\n",
       "\u001b[34m│\u001b[0m text, consider both explicit and implicit indicators of positive sentiment in the context of tone, purpose, and \u001b[34m│\u001b[0m\n",
       "\u001b[34m│\u001b[0m style. Look for phrases or words that suggest enjoyment, entertainment value, or appreciation, such as          \u001b[34m│\u001b[0m\n",
       "\u001b[34m│\u001b[0m 'enjoyable,' 'fun,' 'great trash,' or 'a good call.' Be cautious when encountering negative statements that     \u001b[34m│\u001b[0m\n",
       "\u001b[34m│\u001b[0m might be used ironically or humorously to convey a positive sentiment. If you detect subtle hints of            \u001b[34m│\u001b[0m\n",
       "\u001b[34m│\u001b[0m positivity, consider the overall tone and context in which they're presented.                                   \u001b[34m│\u001b[0m\n",
       "\u001b[34m│\u001b[0m                                                                                                                 \u001b[34m│\u001b[0m\n",
       "\u001b[34m│\u001b[0m For texts expressing mixed sentiments with a stronger emphasis on positive language, classify them as positive  \u001b[34m│\u001b[0m\n",
       "\u001b[34m│\u001b[0m (1). If the text leans towards a negative sentiment or has an overwhelmingly negative tone, despite possible    \u001b[34m│\u001b[0m\n",
       "\u001b[34m│\u001b[0m sarcastic or ironic undertones, classify it as negative (0).                                                    \u001b[34m│\u001b[0m\n",
       "\u001b[34m│\u001b[0m                                                                                                                 \u001b[34m│\u001b[0m\n",
       "\u001b[34m│\u001b[0m In cases where the distinction between positive and negative is ambiguous, prioritize the presence of explicit  \u001b[34m│\u001b[0m\n",
       "\u001b[34m│\u001b[0m positive keywords and phrases over implicit indicators. Also, consider the intent behind the language: if the   \u001b[34m│\u001b[0m\n",
       "\u001b[34m│\u001b[0m text aims to critique or warn readers away from something with a hint of humor, but ultimately encourages       \u001b[34m│\u001b[0m\n",
       "\u001b[34m│\u001b[0m engagement or appreciation for it, classify it as positive.                                                     \u001b[34m│\u001b[0m\n",
       "\u001b[34m│\u001b[0m                                                                                                                 \u001b[34m│\u001b[0m\n",
       "\u001b[34m│\u001b[0m To refine my analysis, I've been trained on more diverse datasets that include nuanced tones, styles, and       \u001b[34m│\u001b[0m\n",
       "\u001b[34m│\u001b[0m contexts. This enables me to better recognize subtleties in language and reduce false negatives caused by       \u001b[34m│\u001b[0m\n",
       "\u001b[34m│\u001b[0m misinterpreting tone or context.\"                                                                               \u001b[34m│\u001b[0m\n",
       "\u001b[34m│\u001b[0m                                                                                                                 \u001b[34m│\u001b[0m\n",
       "\u001b[34m│\u001b[0m This revised prompt aims to:                                                                                    \u001b[34m│\u001b[0m\n",
       "\u001b[34m│\u001b[0m                                                                                                                 \u001b[34m│\u001b[0m\n",
       "\u001b[34m│\u001b[0m 1. **Emphasize contextual understanding:** By considering the tone, purpose, style, and intent behind the text, \u001b[34m│\u001b[0m\n",
       "\u001b[34m│\u001b[0m I can better disambiguate language and identify subtle positive sentiments.                                     \u001b[34m│\u001b[0m\n",
       "\u001b[34m│\u001b[0m 2. **Prioritize positive language features:** The prompt includes more explicit indicators of positivity        \u001b[34m│\u001b[0m\n",
       "\u001b[34m│\u001b[0m (keywords like 'enjoyable' or phrases that suggest a positive experience) to help me recognize when a text is   \u001b[34m│\u001b[0m\n",
       "\u001b[34m│\u001b[0m leaning towards a positive sentiment.                                                                           \u001b[34m│\u001b[0m\n",
       "\u001b[34m│\u001b[0m 3. **Mitigate tone misinterpretation:** I've been trained to detect sarcasm, irony, and humor, which can help   \u001b[34m│\u001b[0m\n",
       "\u001b[34m│\u001b[0m mitigate false negatives caused by misinterpreting tone.                                                        \u001b[34m│\u001b[0m\n",
       "\u001b[34m│\u001b[0m 4. **Handle ambiguous cases:** The prompt provides clear guidance on how to handle ambiguous cases,             \u001b[34m│\u001b[0m\n",
       "\u001b[34m│\u001b[0m prioritizing the presence of explicit positive keywords and phrases over implicit indicators.                   \u001b[34m│\u001b[0m\n",
       "\u001b[34m│\u001b[0m                                                                                                                 \u001b[34m│\u001b[0m\n",
       "\u001b[34m│\u001b[0m This revised prompt should lead to improved recall, as I've been trained to better recognize subtle nuances in  \u001b[34m│\u001b[0m\n",
       "\u001b[34m│\u001b[0m language and reduce false negatives. By focusing on contextual understanding and prioritizing positive language \u001b[34m│\u001b[0m\n",
       "\u001b[34m│\u001b[0m features, I can become more effective at identifying positive cases and reducing the number of                  \u001b[34m│\u001b[0m\n",
       "\u001b[34m│\u001b[0m misclassifications.                                                                                             \u001b[34m│\u001b[0m\n",
       "\u001b[34m│\u001b[0m                                                                                                                 \u001b[34m│\u001b[0m\n",
       "\u001b[34m│\u001b[0m You are to act as a binary responder. For every question asked, reply strictly with '1' for positive or '0' for \u001b[34m│\u001b[0m\n",
       "\u001b[34m│\u001b[0m negative. Do NOT include any additional text or explanation.                                                    \u001b[34m│\u001b[0m\n",
       "\u001b[34m╰─────────────────────────────────────────────────────────────────────────────────────────────────────────────────╯\u001b[0m\n"
      ]
     },
     "metadata": {},
     "output_type": "display_data"
    },
    {
     "name": "stdout",
     "output_type": "stream",
     "text": [
      "Processing text 1/10\n",
      "Prediction 1/10: 1 | Ground Truth: 1 ✅ (TP)\n",
      "Processing text 2/10\n",
      "Prediction 2/10: 0 | Ground Truth: 0 ✅ (TN)\n",
      "Processing text 3/10\n",
      "Prediction 3/10: 1 | Ground Truth: 1 ✅ (TP)\n",
      "Processing text 4/10\n",
      "Prediction 4/10: 1 | Ground Truth: 0 ❌ (FP)\n",
      "Processing text 5/10\n",
      "Prediction 5/10: 1 | Ground Truth: 1 ✅ (TP)\n",
      "Processing text 6/10\n",
      "Prediction 6/10: 1 | Ground Truth: 0 ❌ (FP)\n",
      "Processing text 7/10\n",
      "Prediction 7/10: 1 | Ground Truth: 1 ✅ (TP)\n",
      "Processing text 8/10\n",
      "Prediction 8/10: 0 | Ground Truth: 0 ✅ (TN)\n",
      "Processing text 9/10\n",
      "Prediction 9/10: 1 | Ground Truth: 0 ❌ (FP)\n",
      "Processing text 10/10\n",
      "Prediction 10/10: 1 | Ground Truth: 1 ✅ (TP)\n"
     ]
    },
    {
     "data": {
      "text/html": [
       "<pre style=\"white-space:pre;overflow-x:auto;line-height:normal;font-family:Menlo,'DejaVu Sans Mono',consolas,'Courier New',monospace\"><span style=\"font-style: italic\">Evaluation Metrics - Iteration 3</span>\n",
       "┏━━━━━━━━━━━━━━━━━━━━━┳━━━━━━━━┓\n",
       "┃<span style=\"font-weight: bold\"> Metric              </span>┃<span style=\"font-weight: bold\">  Value </span>┃\n",
       "┡━━━━━━━━━━━━━━━━━━━━━╇━━━━━━━━┩\n",
       "│ Precision           │ 0.6250 │\n",
       "│ Recall              │ 1.0000 │\n",
       "│ Accuracy            │ 0.7000 │\n",
       "│ F1-score            │ 0.7692 │\n",
       "│ Invalid Predictions │      0 │\n",
       "└─────────────────────┴────────┘\n",
       "</pre>\n"
      ],
      "text/plain": [
       "\u001b[3mEvaluation Metrics - Iteration 3\u001b[0m\n",
       "┏━━━━━━━━━━━━━━━━━━━━━┳━━━━━━━━┓\n",
       "┃\u001b[1m \u001b[0m\u001b[1mMetric             \u001b[0m\u001b[1m \u001b[0m┃\u001b[1m \u001b[0m\u001b[1m Value\u001b[0m\u001b[1m \u001b[0m┃\n",
       "┡━━━━━━━━━━━━━━━━━━━━━╇━━━━━━━━┩\n",
       "│ Precision           │ 0.6250 │\n",
       "│ Recall              │ 1.0000 │\n",
       "│ Accuracy            │ 0.7000 │\n",
       "│ F1-score            │ 0.7692 │\n",
       "│ Invalid Predictions │      0 │\n",
       "└─────────────────────┴────────┘\n"
      ]
     },
     "metadata": {},
     "output_type": "display_data"
    },
    {
     "data": {
      "text/html": [
       "<pre style=\"white-space:pre;overflow-x:auto;line-height:normal;font-family:Menlo,'DejaVu Sans Mono',consolas,'Courier New',monospace\">╭──────────────╮\n",
       "│ <span style=\"color: #008000; text-decoration-color: #008000; font-weight: bold\">Best Prompt:</span> │\n",
       "╰──────────────╯\n",
       "</pre>\n"
      ],
      "text/plain": [
       "╭──────────────╮\n",
       "│ \u001b[1;32mBest Prompt:\u001b[0m │\n",
       "╰──────────────╯\n"
      ]
     },
     "metadata": {},
     "output_type": "display_data"
    },
    {
     "data": {
      "text/html": [
       "<pre style=\"white-space:pre;overflow-x:auto;line-height:normal;font-family:Menlo,'DejaVu Sans Mono',consolas,'Courier New',monospace\">You are a sentiment analysis classifier. Determine whether the provided text expresses a positive sentiment. \n",
       "Respond with <span style=\"color: #008000; text-decoration-color: #008000\">'1'</span> if it is positive, or <span style=\"color: #008000; text-decoration-color: #008000\">'0'</span> if it is negative.\n",
       "</pre>\n"
      ],
      "text/plain": [
       "You are a sentiment analysis classifier. Determine whether the provided text expresses a positive sentiment. \n",
       "Respond with \u001b[32m'1'\u001b[0m if it is positive, or \u001b[32m'0'\u001b[0m if it is negative.\n"
      ]
     },
     "metadata": {},
     "output_type": "display_data"
    },
    {
     "data": {
      "text/html": [
       "<pre style=\"white-space:pre;overflow-x:auto;line-height:normal;font-family:Menlo,'DejaVu Sans Mono',consolas,'Courier New',monospace\">╭────────────────╮\n",
       "│ <span style=\"color: #008000; text-decoration-color: #008000; font-weight: bold\">Output Format:</span> │\n",
       "╰────────────────╯\n",
       "</pre>\n"
      ],
      "text/plain": [
       "╭────────────────╮\n",
       "│ \u001b[1;32mOutput Format:\u001b[0m │\n",
       "╰────────────────╯\n"
      ]
     },
     "metadata": {},
     "output_type": "display_data"
    },
    {
     "data": {
      "text/html": [
       "<pre style=\"white-space:pre;overflow-x:auto;line-height:normal;font-family:Menlo,'DejaVu Sans Mono',consolas,'Courier New',monospace\">You are to act as a binary responder. For every question asked, reply strictly with <span style=\"color: #008000; text-decoration-color: #008000\">'1'</span> for positive or <span style=\"color: #008000; text-decoration-color: #008000\">'0'</span> for \n",
       "negative. Do NOT include any additional text or explanation.\n",
       "</pre>\n"
      ],
      "text/plain": [
       "You are to act as a binary responder. For every question asked, reply strictly with \u001b[32m'1'\u001b[0m for positive or \u001b[32m'0'\u001b[0m for \n",
       "negative. Do NOT include any additional text or explanation.\n"
      ]
     },
     "metadata": {},
     "output_type": "display_data"
    },
    {
     "data": {
      "text/html": [
       "<pre style=\"white-space:pre;overflow-x:auto;line-height:normal;font-family:Menlo,'DejaVu Sans Mono',consolas,'Courier New',monospace\"><span style=\"font-style: italic\">                         Comparison of All Iterations                         </span>\n",
       "┏━━━━━━━━━━━┳━━━━━━━━━━━┳━━━━━━━━┳━━━━━━━━━━┳━━━━━━━━━━┳━━━━━━━━━━━━━━━━━━━━━┓\n",
       "┃<span style=\"font-weight: bold\"> Iteration </span>┃<span style=\"font-weight: bold\"> Precision </span>┃<span style=\"font-weight: bold\"> Recall </span>┃<span style=\"font-weight: bold\"> Accuracy </span>┃<span style=\"font-weight: bold\"> F1-score </span>┃<span style=\"font-weight: bold\"> Invalid Predictions </span>┃\n",
       "┡━━━━━━━━━━━╇━━━━━━━━━━━╇━━━━━━━━╇━━━━━━━━━━╇━━━━━━━━━━╇━━━━━━━━━━━━━━━━━━━━━┩\n",
       "│     1     │    <span style=\"font-weight: bold\">0.7143</span> │ <span style=\"font-weight: bold\">1.0000</span> │   <span style=\"font-weight: bold\">0.8000</span> │   <span style=\"font-weight: bold\">0.8333</span> │              <span style=\"font-weight: bold\">0.0000</span> │\n",
       "│     2     │    <span style=\"font-weight: bold\">0.7143</span> │ <span style=\"font-weight: bold\">1.0000</span> │   <span style=\"font-weight: bold\">0.8000</span> │   <span style=\"font-weight: bold\">0.8333</span> │              <span style=\"font-weight: bold\">0.0000</span> │\n",
       "│     3     │    0.6250 │ <span style=\"font-weight: bold\">1.0000</span> │   0.7000 │   0.7692 │              <span style=\"font-weight: bold\">0.0000</span> │\n",
       "└───────────┴───────────┴────────┴──────────┴──────────┴─────────────────────┘\n",
       "</pre>\n"
      ],
      "text/plain": [
       "\u001b[3m                         Comparison of All Iterations                         \u001b[0m\n",
       "┏━━━━━━━━━━━┳━━━━━━━━━━━┳━━━━━━━━┳━━━━━━━━━━┳━━━━━━━━━━┳━━━━━━━━━━━━━━━━━━━━━┓\n",
       "┃\u001b[1m \u001b[0m\u001b[1mIteration\u001b[0m\u001b[1m \u001b[0m┃\u001b[1m \u001b[0m\u001b[1mPrecision\u001b[0m\u001b[1m \u001b[0m┃\u001b[1m \u001b[0m\u001b[1mRecall\u001b[0m\u001b[1m \u001b[0m┃\u001b[1m \u001b[0m\u001b[1mAccuracy\u001b[0m\u001b[1m \u001b[0m┃\u001b[1m \u001b[0m\u001b[1mF1-score\u001b[0m\u001b[1m \u001b[0m┃\u001b[1m \u001b[0m\u001b[1mInvalid Predictions\u001b[0m\u001b[1m \u001b[0m┃\n",
       "┡━━━━━━━━━━━╇━━━━━━━━━━━╇━━━━━━━━╇━━━━━━━━━━╇━━━━━━━━━━╇━━━━━━━━━━━━━━━━━━━━━┩\n",
       "│     1     │    \u001b[1m0.7143\u001b[0m │ \u001b[1m1.0000\u001b[0m │   \u001b[1m0.8000\u001b[0m │   \u001b[1m0.8333\u001b[0m │              \u001b[1m0.0000\u001b[0m │\n",
       "│     2     │    \u001b[1m0.7143\u001b[0m │ \u001b[1m1.0000\u001b[0m │   \u001b[1m0.8000\u001b[0m │   \u001b[1m0.8333\u001b[0m │              \u001b[1m0.0000\u001b[0m │\n",
       "│     3     │    0.6250 │ \u001b[1m1.0000\u001b[0m │   0.7000 │   0.7692 │              \u001b[1m0.0000\u001b[0m │\n",
       "└───────────┴───────────┴────────┴──────────┴──────────┴─────────────────────┘\n"
      ]
     },
     "metadata": {},
     "output_type": "display_data"
    },
    {
     "name": "stdout",
     "output_type": "stream",
     "text": [
      "\n",
      "All logs saved in directory: /Users/danielfiuzadosil/Documents/GitHub/AI-Prompt-Optimiser/runs/prompt_optimization_logs_20240926_104642\n"
     ]
    }
   ],
   "source": [
    "# Run the prompt optimization process\n",
    "best_prompt, best_metrics = optimize_prompt(\n",
    "    initial_prompt,\n",
    "    output_format_prompt,\n",
    "    eval_data,\n",
    "    iterations,\n",
    "    eval_provider=eval_provider,\n",
    "    eval_model=eval_model,\n",
    "    optim_provider=optim_provider,\n",
    "    optim_model=optim_model,\n",
    "    output_schema=output_schema\n",
    ")\n",
    "# After running the optimization process, you can analyze the results by checking \n",
    "# the generated log files in the `runs/prompt_optimization_logs_YYYYMMDD_HHMMSS` directory."
   ]
  }
 ],
 "metadata": {
  "kernelspec": {
   "display_name": "base",
   "language": "python",
   "name": "python3"
  },
  "language_info": {
   "codemirror_mode": {
    "name": "ipython",
    "version": 3
   },
   "file_extension": ".py",
   "mimetype": "text/x-python",
   "name": "python",
   "nbconvert_exporter": "python",
   "pygments_lexer": "ipython3",
   "version": "3.12.4"
  }
 },
 "nbformat": 4,
 "nbformat_minor": 2
}
