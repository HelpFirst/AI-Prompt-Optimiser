{
 "cells": [
  {
   "cell_type": "code",
   "execution_count": null,
   "metadata": {},
   "outputs": [],
   "source": [
    "# I want to load all the txt files raw/data/*.txt  (1001.txt, 1002.txt, etc)\n",
    "# i want then to load the csv file raw/data/train_labels.csv\n",
    "# the train_labels.csv has two unamed columns: file name (1001.txt, 1002.txt, etc) and label (Neurology, Orthopedic, etc)\n",
    "\n",
    "# I want to create a new dataframe called notes_data with the following columns: file name, label, text\n",
    "# the text column should contain the text of the txt file (1001.txt, 1002.txt, etc)\n",
    "# the file name column should contain the file name (1001.txt, 1002.txt, etc)\n",
    "# the label column should contain the label (Neurology, Orthopedic, etc)\n",
    "\n",
    "# I want to add the text from the .txt files into notes_data:\n",
    "# Use the fact that the filename of the .txt is the same as the element in the \"file name\" column in train_labels.csv"
   ]
  },
  {
   "cell_type": "code",
   "execution_count": 2,
   "metadata": {},
   "outputs": [],
   "source": [
    "import pandas as pd\n",
    "import glob\n",
    "import os\n",
    "\n",
    "# Load all txt files\n",
    "txt_files = glob.glob('raw/data/*.txt')\n",
    "\n",
    "# Load labels CSV\n",
    "labels_df = pd.read_csv('raw/trainLabels.csv', header=None, \n",
    "                       names=['file_name', 'label'])\n",
    "\n",
    "# Create empty dataframe\n",
    "notes_data = pd.DataFrame(columns=['file_name', 'label', 'text'])\n",
    "\n",
    "# Copy file_name and label columns from labels_df\n",
    "notes_data['file_name'] = labels_df['file_name']\n",
    "notes_data['label'] = labels_df['label']\n",
    "\n",
    "# Add text from files\n",
    "for idx, row in notes_data.iterrows():\n",
    "    file_path = os.path.join('raw/data', row['file_name'])\n",
    "    with open(file_path, 'r', encoding='latin1') as f:\n",
    "        notes_data.at[idx, 'text'] = f.read()\n"
   ]
  },
  {
   "cell_type": "code",
   "execution_count": 6,
   "metadata": {},
   "outputs": [],
   "source": [
    "notes_data.to_csv('medical_notes.csv', index=False)"
   ]
  },
  {
   "cell_type": "code",
   "execution_count": null,
   "metadata": {},
   "outputs": [],
   "source": []
  }
 ],
 "metadata": {
  "kernelspec": {
   "display_name": "base",
   "language": "python",
   "name": "python3"
  },
  "language_info": {
   "codemirror_mode": {
    "name": "ipython",
    "version": 3
   },
   "file_extension": ".py",
   "mimetype": "text/x-python",
   "name": "python",
   "nbconvert_exporter": "python",
   "pygments_lexer": "ipython3",
   "version": "3.12.2"
  }
 },
 "nbformat": 4,
 "nbformat_minor": 2
}
