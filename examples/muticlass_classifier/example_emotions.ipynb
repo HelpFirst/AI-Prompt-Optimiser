{
 "cells": [
  {
   "cell_type": "code",
   "execution_count": 1,
   "metadata": {},
   "outputs": [],
   "source": [
    "experiment_name = \"emotions_exp\""
   ]
  },
  {
   "cell_type": "code",
   "execution_count": 2,
   "metadata": {},
   "outputs": [],
   "source": [
    "initial_prompt = '''\n",
    "Identify the emotion behind the words written.\n",
    "\n",
    "The possible emotions are: sadness, anger, love, surprise, fear, happy.\n",
    "\n",
    "Provide your response as a JSON dictionary with the following structure:\n",
    "{\n",
    "    \"chain_of_thought\": \"Your step-by-step reasoning here\",\n",
    "    \"emotion\": \"The identified emotion\"\n",
    "}\n",
    "Ensure that \"chain_of_thought\" contains your detailed analysis, and \"emotion\" is strictly one of the six possible emotions listed above.\n",
    "'''"
   ]
  },
  {
   "cell_type": "code",
   "execution_count": 3,
   "metadata": {},
   "outputs": [],
   "source": [
    "# Output format prompt\n",
    "output_format_prompt = '''\n",
    "Provide your response as a JSON dictionary with the following structure:\n",
    "{\n",
    "    \"chain_of_thought\": \"Your step-by-step reasoning here\",\n",
    "    \"emotion\": \"The identified emotion\" - the ONLY possible emotions are: sadness, anger, love, surprise, fear, happy.\n",
    "}\n",
    "Ensure that \"chain_of_thought\" contains your detailed analysis, and \"emotion\" is strictly one of the six possible emotions listed above.\n",
    "'''"
   ]
  },
  {
   "cell_type": "code",
   "execution_count": 4,
   "metadata": {},
   "outputs": [],
   "source": [
    "# Define output schema\n",
    "output_schema = {\n",
    "    'key_to_extract': 'emotion',\n",
    "    'value_mapping': {\n",
    "        'sadness': 'sadness',\n",
    "        'anger': 'anger',\n",
    "        'love': 'love',\n",
    "        'surprise': 'surprise',\n",
    "        'fear': 'fear',\n",
    "        'happy': 'happy'\n",
    "    },\n",
    "    'regex_pattern': r'\"emotion\":\\s*\"(\\w+)\"',\n",
    "    #\n",
    "    'chain_of_thought_key': 'chain_of_thought',  \n",
    "    'chain_of_thought_regex': r'\"chain_of_thought\":\\s*\"(.*?)\"',\n",
    "    #\n",
    "    'use_json_mode': True,\n",
    "}"
   ]
  },
  {
   "cell_type": "code",
   "execution_count": 5,
   "metadata": {},
   "outputs": [],
   "source": [
    "# Set number of optimization iterations\n",
    "iterations = 3"
   ]
  },
  {
   "cell_type": "code",
   "execution_count": 6,
   "metadata": {},
   "outputs": [],
   "source": [
    "# Define model providers and models for evaluation and optimization\n",
    "eval_provider = \"ollama\"\n",
    "eval_model = \"llama3.1\"\n",
    "optim_provider = \"ollama\"\n",
    "optim_model = \"llama3.1\""
   ]
  },
  {
   "cell_type": "code",
   "execution_count": 7,
   "metadata": {},
   "outputs": [],
   "source": [
    "# Path to the CSV file containing review data for evaluation\n",
    "eval_datapath = \"emotions.csv\"\n",
    "text_column = \"Text\"\n",
    "target_column = \"Emotion\"\n",
    "sample_size = 3"
   ]
  },
  {
   "cell_type": "markdown",
   "metadata": {},
   "source": [
    "------------------------------------------------------------------------------------------"
   ]
  },
  {
   "cell_type": "code",
   "execution_count": 8,
   "metadata": {},
   "outputs": [],
   "source": [
    "# Import necessary libraries\n",
    "import pandas as pd\n",
    "import sys\n",
    "import os\n",
    "# Add the parent directory to sys.path\n",
    "# Use getcwd() to get the current working directory for Jupyter notebooks\n",
    "current_dir = os.getcwd()\n",
    "parent_dir = os.path.dirname(current_dir)\n",
    "sys.path.append(parent_dir)\n",
    "from src.iterative_prompt_optimization import optimize_prompt"
   ]
  },
  {
   "cell_type": "code",
   "execution_count": 9,
   "metadata": {},
   "outputs": [
    {
     "name": "stdout",
     "output_type": "stream",
     "text": [
      "Evaluation data shape: (12, 2)\n",
      "                                                text     label\n",
      "0      i remember last summer feeling so overwhelmed  surprise\n",
      "1  i feel like i have missed out on every single ...   sadness\n",
      "2              i feel greedy with my self as of late     anger\n",
      "3                        i feel useless return false   sadness\n",
      "4  Never before had Bodmin seen so many faces  an...     happy\n"
     ]
    }
   ],
   "source": [
    "# Load and prepare data\n",
    "eval_data = pd.read_csv(eval_datapath, encoding='ISO-8859-1', usecols=[text_column, target_column])\n",
    "eval_data.columns = ['text', 'label']\n",
    "# Randomly select 50 positive and 50 negative samples\n",
    "eval_data = (\n",
    "    eval_data.groupby('label')\n",
    "    .apply(lambda x: x.sample(n=round(sample_size/2), random_state=42))\n",
    "    .reset_index(drop=True)\n",
    ")\n",
    "# Shuffle the DataFrame randomly\n",
    "eval_data = eval_data.sample(frac=1, random_state=42).reset_index(drop=True)\n",
    "print(f\"Evaluation data shape: {eval_data.shape}\")\n",
    "print(eval_data.head())"
   ]
  },
  {
   "cell_type": "code",
   "execution_count": 10,
   "metadata": {},
   "outputs": [
    {
     "name": "stdout",
     "output_type": "stream",
     "text": [
      "Selected evaluation provider: ollama\n",
      "Selected evaluation model: llama3.1\n",
      "Evaluation temperature: 0.7\n",
      "Selected optimization provider: ollama\n",
      "Selected optimization model: llama3.1\n",
      "Optimization temperature: 0\n",
      "Estimated token usage: 20472\n",
      "Estimated cost: $0 API Costs - Running on Local Hardware\n",
      "\n",
      "Do you want to proceed with the optimization? (Y/N): \n",
      "Iteration 1/3\n"
     ]
    },
    {
     "data": {
      "text/html": [
       "<pre style=\"white-space:pre;overflow-x:auto;line-height:normal;font-family:Menlo,'DejaVu Sans Mono',consolas,'Courier New',monospace\"><span style=\"color: #000080; text-decoration-color: #000080\">╭────────────────────────────────────────────── Current Full Prompt ──────────────────────────────────────────────╮</span>\n",
       "<span style=\"color: #000080; text-decoration-color: #000080\">│</span>                                                                                                                 <span style=\"color: #000080; text-decoration-color: #000080\">│</span>\n",
       "<span style=\"color: #000080; text-decoration-color: #000080\">│</span> Identify the emotion behind the words written.                                                                  <span style=\"color: #000080; text-decoration-color: #000080\">│</span>\n",
       "<span style=\"color: #000080; text-decoration-color: #000080\">│</span>                                                                                                                 <span style=\"color: #000080; text-decoration-color: #000080\">│</span>\n",
       "<span style=\"color: #000080; text-decoration-color: #000080\">│</span> The possible emotions are: sadness, anger, love, surprise, fear, happy.                                         <span style=\"color: #000080; text-decoration-color: #000080\">│</span>\n",
       "<span style=\"color: #000080; text-decoration-color: #000080\">│</span>                                                                                                                 <span style=\"color: #000080; text-decoration-color: #000080\">│</span>\n",
       "<span style=\"color: #000080; text-decoration-color: #000080\">│</span> Provide your response as a JSON dictionary with the following structure:                                        <span style=\"color: #000080; text-decoration-color: #000080\">│</span>\n",
       "<span style=\"color: #000080; text-decoration-color: #000080\">│</span> {                                                                                                               <span style=\"color: #000080; text-decoration-color: #000080\">│</span>\n",
       "<span style=\"color: #000080; text-decoration-color: #000080\">│</span>     \"chain_of_thought\": \"Your step-by-step reasoning here\",                                                     <span style=\"color: #000080; text-decoration-color: #000080\">│</span>\n",
       "<span style=\"color: #000080; text-decoration-color: #000080\">│</span>     \"emotion\": \"The identified emotion\"                                                                         <span style=\"color: #000080; text-decoration-color: #000080\">│</span>\n",
       "<span style=\"color: #000080; text-decoration-color: #000080\">│</span> }                                                                                                               <span style=\"color: #000080; text-decoration-color: #000080\">│</span>\n",
       "<span style=\"color: #000080; text-decoration-color: #000080\">│</span> Ensure that \"chain_of_thought\" contains your detailed analysis, and \"emotion\" is strictly one of the six        <span style=\"color: #000080; text-decoration-color: #000080\">│</span>\n",
       "<span style=\"color: #000080; text-decoration-color: #000080\">│</span> possible emotions listed above.                                                                                 <span style=\"color: #000080; text-decoration-color: #000080\">│</span>\n",
       "<span style=\"color: #000080; text-decoration-color: #000080\">│</span>                                                                                                                 <span style=\"color: #000080; text-decoration-color: #000080\">│</span>\n",
       "<span style=\"color: #000080; text-decoration-color: #000080\">╰─────────────────────────────────────────────────────────────────────────────────────────────────────────────────╯</span>\n",
       "</pre>\n"
      ],
      "text/plain": [
       "\u001b[34m╭─\u001b[0m\u001b[34m─────────────────────────────────────────────\u001b[0m\u001b[34m Current Full Prompt \u001b[0m\u001b[34m─────────────────────────────────────────────\u001b[0m\u001b[34m─╮\u001b[0m\n",
       "\u001b[34m│\u001b[0m                                                                                                                 \u001b[34m│\u001b[0m\n",
       "\u001b[34m│\u001b[0m Identify the emotion behind the words written.                                                                  \u001b[34m│\u001b[0m\n",
       "\u001b[34m│\u001b[0m                                                                                                                 \u001b[34m│\u001b[0m\n",
       "\u001b[34m│\u001b[0m The possible emotions are: sadness, anger, love, surprise, fear, happy.                                         \u001b[34m│\u001b[0m\n",
       "\u001b[34m│\u001b[0m                                                                                                                 \u001b[34m│\u001b[0m\n",
       "\u001b[34m│\u001b[0m Provide your response as a JSON dictionary with the following structure:                                        \u001b[34m│\u001b[0m\n",
       "\u001b[34m│\u001b[0m {                                                                                                               \u001b[34m│\u001b[0m\n",
       "\u001b[34m│\u001b[0m     \"chain_of_thought\": \"Your step-by-step reasoning here\",                                                     \u001b[34m│\u001b[0m\n",
       "\u001b[34m│\u001b[0m     \"emotion\": \"The identified emotion\"                                                                         \u001b[34m│\u001b[0m\n",
       "\u001b[34m│\u001b[0m }                                                                                                               \u001b[34m│\u001b[0m\n",
       "\u001b[34m│\u001b[0m Ensure that \"chain_of_thought\" contains your detailed analysis, and \"emotion\" is strictly one of the six        \u001b[34m│\u001b[0m\n",
       "\u001b[34m│\u001b[0m possible emotions listed above.                                                                                 \u001b[34m│\u001b[0m\n",
       "\u001b[34m│\u001b[0m                                                                                                                 \u001b[34m│\u001b[0m\n",
       "\u001b[34m╰─────────────────────────────────────────────────────────────────────────────────────────────────────────────────╯\u001b[0m\n"
      ]
     },
     "metadata": {},
     "output_type": "display_data"
    },
    {
     "name": "stdout",
     "output_type": "stream",
     "text": [
      "-----------------------------------\n",
      "Processing text 1/12 .....\n",
      "Using cached output for text 1/12\n",
      "Prediction 1/12: sadness | Ground Truth: surprise ❌ (FN)\n",
      "-----------------------------------\n",
      "Processing text 2/12 .....\n",
      "Using cached output for text 2/12\n",
      "Prediction 2/12: happy | Ground Truth: sadness ❌ (FN)\n",
      "-----------------------------------\n",
      "Processing text 3/12 .....\n",
      "Using cached output for text 3/12\n",
      "Prediction 3/12: sadness | Ground Truth: anger ❌ (FN)\n",
      "-----------------------------------\n",
      "Processing text 4/12 .....\n",
      "Using cached output for text 4/12\n",
      "Prediction 4/12: sadness | Ground Truth: sadness ✅ (TN)\n",
      "-----------------------------------\n",
      "Processing text 5/12 .....\n",
      "Using cached output for text 5/12\n",
      "Prediction 5/12: happy | Ground Truth: happy ✅ (TN)\n",
      "-----------------------------------\n",
      "Processing text 6/12 .....\n",
      "Using cached output for text 6/12\n",
      "Prediction 6/12: fear | Ground Truth: fear ✅ (TN)\n",
      "-----------------------------------\n",
      "Processing text 7/12 .....\n",
      "Using cached output for text 7/12\n",
      "Prediction 7/12: sadness | Ground Truth: anger ❌ (FN)\n",
      "-----------------------------------\n",
      "Processing text 8/12 .....\n",
      "Using cached output for text 8/12\n",
      "Prediction 8/12: fear | Ground Truth: surprise ❌ (FN)\n",
      "-----------------------------------\n",
      "Processing text 9/12 .....\n",
      "Using cached output for text 9/12\n",
      "Prediction 9/12: love | Ground Truth: happy ❌ (FN)\n",
      "-----------------------------------\n",
      "Processing text 10/12 .....\n",
      "Using cached output for text 10/12\n",
      "Prediction 10/12: sadness | Ground Truth: love ❌ (FN)\n",
      "-----------------------------------\n",
      "Processing text 11/12 .....\n",
      "Using cached output for text 11/12\n",
      "Prediction 11/12: fear | Ground Truth: fear ✅ (TN)\n",
      "-----------------------------------\n",
      "Processing text 12/12 .....\n",
      "Using cached output for text 12/12\n",
      "Prediction 12/12: sadness | Ground Truth: love ❌ (FN)\n"
     ]
    },
    {
     "ename": "ValueError",
     "evalue": "Target is multiclass but average='binary'. Please choose another average setting, one of [None, 'micro', 'macro', 'weighted'].",
     "output_type": "error",
     "traceback": [
      "\u001b[0;31m---------------------------------------------------------------------------\u001b[0m",
      "\u001b[0;31mValueError\u001b[0m                                Traceback (most recent call last)",
      "Cell \u001b[0;32mIn[10], line 2\u001b[0m\n\u001b[1;32m      1\u001b[0m \u001b[38;5;66;03m# Run the prompt optimization process\u001b[39;00m\n\u001b[0;32m----> 2\u001b[0m best_prompt, best_metrics \u001b[38;5;241m=\u001b[39m optimize_prompt(\n\u001b[1;32m      3\u001b[0m     initial_prompt \u001b[38;5;241m=\u001b[39m initial_prompt,\n\u001b[1;32m      4\u001b[0m     eval_data \u001b[38;5;241m=\u001b[39m eval_data,\n\u001b[1;32m      5\u001b[0m     iterations \u001b[38;5;241m=\u001b[39miterations,\n\u001b[1;32m      6\u001b[0m     eval_provider\u001b[38;5;241m=\u001b[39meval_provider,\n\u001b[1;32m      7\u001b[0m     eval_model\u001b[38;5;241m=\u001b[39meval_model,\n\u001b[1;32m      8\u001b[0m     eval_temperature\u001b[38;5;241m=\u001b[39m\u001b[38;5;241m0.7\u001b[39m,\n\u001b[1;32m      9\u001b[0m     optim_provider\u001b[38;5;241m=\u001b[39moptim_provider,\n\u001b[1;32m     10\u001b[0m     optim_model\u001b[38;5;241m=\u001b[39moptim_model,\n\u001b[1;32m     11\u001b[0m     optim_temperature\u001b[38;5;241m=\u001b[39m\u001b[38;5;241m0\u001b[39m,\n\u001b[1;32m     12\u001b[0m     use_cache\u001b[38;5;241m=\u001b[39m\u001b[38;5;28;01mTrue\u001b[39;00m,\n\u001b[1;32m     13\u001b[0m     output_format_prompt \u001b[38;5;241m=\u001b[39m output_format_prompt,\n\u001b[1;32m     14\u001b[0m     output_schema\u001b[38;5;241m=\u001b[39moutput_schema,\n\u001b[1;32m     15\u001b[0m     fp_comments \u001b[38;5;241m=\u001b[39m \u001b[38;5;124m\"\u001b[39m\u001b[38;5;124m\"\u001b[39m,\n\u001b[1;32m     16\u001b[0m     fn_comments \u001b[38;5;241m=\u001b[39m \u001b[38;5;124m\"\u001b[39m\u001b[38;5;124m\"\u001b[39m,\n\u001b[1;32m     17\u001b[0m     tp_comments \u001b[38;5;241m=\u001b[39m \u001b[38;5;124m\"\u001b[39m\u001b[38;5;124m\"\u001b[39m,\n\u001b[1;32m     18\u001b[0m     invalid_comments\u001b[38;5;241m=\u001b[39m\u001b[38;5;124m\"\u001b[39m\u001b[38;5;124m\"\u001b[39m,\n\u001b[1;32m     19\u001b[0m     validation_comments\u001b[38;5;241m=\u001b[39m\u001b[38;5;124m\"\u001b[39m\u001b[38;5;124m\"\u001b[39m,\n\u001b[1;32m     20\u001b[0m     experiment_name \u001b[38;5;241m=\u001b[39m experiment_name,\n\u001b[1;32m     21\u001b[0m     skip_prompt_validation \u001b[38;5;241m=\u001b[39m \u001b[38;5;28;01mTrue\u001b[39;00m,\n\u001b[1;32m     22\u001b[0m )\n",
      "File \u001b[0;32m~/Documents/GitHub/AI-Prompt-Optimiser/src/iterative_prompt_optimization/optimize.py:114\u001b[0m, in \u001b[0;36moptimize_prompt\u001b[0;34m(initial_prompt, output_format_prompt, eval_data, iterations, eval_provider, eval_model, eval_temperature, optim_provider, optim_model, optim_temperature, output_schema, use_cache, fp_comments, fn_comments, tp_comments, invalid_comments, validation_comments, prompt_engineering_comments, experiment_name, skip_prompt_validation)\u001b[0m\n\u001b[1;32m    111\u001b[0m rprint(Panel(current_prompt, title\u001b[38;5;241m=\u001b[39m\u001b[38;5;124m\"\u001b[39m\u001b[38;5;124mCurrent Full Prompt\u001b[39m\u001b[38;5;124m\"\u001b[39m, expand\u001b[38;5;241m=\u001b[39m\u001b[38;5;28;01mFalse\u001b[39;00m, border_style\u001b[38;5;241m=\u001b[39m\u001b[38;5;124m\"\u001b[39m\u001b[38;5;124mblue\u001b[39m\u001b[38;5;124m\"\u001b[39m))\n\u001b[1;32m    113\u001b[0m \u001b[38;5;66;03m# Evaluate the current prompt\u001b[39;00m\n\u001b[0;32m--> 114\u001b[0m results \u001b[38;5;241m=\u001b[39m evaluate_prompt(current_prompt, eval_data, output_schema, log_dir\u001b[38;5;241m=\u001b[39mlog_dir, iteration\u001b[38;5;241m=\u001b[39mi\u001b[38;5;241m+\u001b[39m\u001b[38;5;241m1\u001b[39m, use_cache\u001b[38;5;241m=\u001b[39muse_cache,\n\u001b[1;32m    115\u001b[0m                           provider\u001b[38;5;241m=\u001b[39meval_provider, model\u001b[38;5;241m=\u001b[39meval_model, temperature\u001b[38;5;241m=\u001b[39meval_temperature)\n\u001b[1;32m    117\u001b[0m \u001b[38;5;66;03m# Initialize prompts_used in results\u001b[39;00m\n\u001b[1;32m    118\u001b[0m results[\u001b[38;5;124m'\u001b[39m\u001b[38;5;124mprompts_used\u001b[39m\u001b[38;5;124m'\u001b[39m] \u001b[38;5;241m=\u001b[39m {}\n",
      "File \u001b[0;32m~/Documents/GitHub/AI-Prompt-Optimiser/src/iterative_prompt_optimization/evaluation.py:80\u001b[0m, in \u001b[0;36mevaluate_prompt\u001b[0;34m(full_prompt, eval_data, output_schema, log_dir, iteration, use_cache, provider, model, temperature)\u001b[0m\n\u001b[1;32m     68\u001b[0m         log_data[\u001b[38;5;124m\"\u001b[39m\u001b[38;5;124mevaluations\u001b[39m\u001b[38;5;124m\"\u001b[39m]\u001b[38;5;241m.\u001b[39mappend({\n\u001b[1;32m     69\u001b[0m             \u001b[38;5;124m\"\u001b[39m\u001b[38;5;124mtext\u001b[39m\u001b[38;5;124m\"\u001b[39m: row[\u001b[38;5;124m'\u001b[39m\u001b[38;5;124mtext\u001b[39m\u001b[38;5;124m'\u001b[39m],\n\u001b[1;32m     70\u001b[0m             \u001b[38;5;124m\"\u001b[39m\u001b[38;5;124mlabel\u001b[39m\u001b[38;5;124m\"\u001b[39m: row[\u001b[38;5;124m'\u001b[39m\u001b[38;5;124mlabel\u001b[39m\u001b[38;5;124m'\u001b[39m],\n\u001b[0;32m   (...)\u001b[0m\n\u001b[1;32m     76\u001b[0m             \u001b[38;5;124m\"\u001b[39m\u001b[38;5;124mresult\u001b[39m\u001b[38;5;124m\"\u001b[39m: result\n\u001b[1;32m     77\u001b[0m         })\n\u001b[1;32m     79\u001b[0m \u001b[38;5;66;03m# Calculate metrics\u001b[39;00m\n\u001b[0;32m---> 80\u001b[0m results \u001b[38;5;241m=\u001b[39m calculate_metrics(predictions, true_labels, invalid_predictions, valid_predictions, false_positives, false_negatives, true_positives, invalid_outputs)\n\u001b[1;32m     82\u001b[0m \u001b[38;5;66;03m# Log results if log_dir is provided\u001b[39;00m\n\u001b[1;32m     83\u001b[0m \u001b[38;5;28;01mif\u001b[39;00m log_dir \u001b[38;5;129;01mand\u001b[39;00m iteration:\n",
      "File \u001b[0;32m~/Documents/GitHub/AI-Prompt-Optimiser/src/iterative_prompt_optimization/evaluation.py:137\u001b[0m, in \u001b[0;36mcalculate_metrics\u001b[0;34m(predictions, true_labels, invalid_predictions, valid_predictions, false_positives, false_negatives, true_positives, invalid_outputs)\u001b[0m\n\u001b[1;32m    120\u001b[0m \u001b[38;5;250m\u001b[39m\u001b[38;5;124;03m\"\"\"\u001b[39;00m\n\u001b[1;32m    121\u001b[0m \u001b[38;5;124;03mCalculate evaluation metrics.\u001b[39;00m\n\u001b[1;32m    122\u001b[0m \n\u001b[0;32m   (...)\u001b[0m\n\u001b[1;32m    134\u001b[0m \u001b[38;5;124;03m    dict: Dictionary containing calculated metrics\u001b[39;00m\n\u001b[1;32m    135\u001b[0m \u001b[38;5;124;03m\"\"\"\u001b[39;00m\n\u001b[1;32m    136\u001b[0m \u001b[38;5;28;01mif\u001b[39;00m \u001b[38;5;28mlen\u001b[39m(predictions) \u001b[38;5;241m>\u001b[39m \u001b[38;5;241m0\u001b[39m:\n\u001b[0;32m--> 137\u001b[0m     precision \u001b[38;5;241m=\u001b[39m precision_score(true_labels, predictions, zero_division\u001b[38;5;241m=\u001b[39m\u001b[38;5;241m0\u001b[39m)\n\u001b[1;32m    138\u001b[0m     recall \u001b[38;5;241m=\u001b[39m recall_score(true_labels, predictions, zero_division\u001b[38;5;241m=\u001b[39m\u001b[38;5;241m0\u001b[39m)\n\u001b[1;32m    139\u001b[0m     accuracy \u001b[38;5;241m=\u001b[39m accuracy_score(true_labels, predictions)\n",
      "File \u001b[0;32m/opt/anaconda3/lib/python3.12/site-packages/sklearn/utils/_param_validation.py:213\u001b[0m, in \u001b[0;36mvalidate_params.<locals>.decorator.<locals>.wrapper\u001b[0;34m(*args, **kwargs)\u001b[0m\n\u001b[1;32m    207\u001b[0m \u001b[38;5;28;01mtry\u001b[39;00m:\n\u001b[1;32m    208\u001b[0m     \u001b[38;5;28;01mwith\u001b[39;00m config_context(\n\u001b[1;32m    209\u001b[0m         skip_parameter_validation\u001b[38;5;241m=\u001b[39m(\n\u001b[1;32m    210\u001b[0m             prefer_skip_nested_validation \u001b[38;5;129;01mor\u001b[39;00m global_skip_validation\n\u001b[1;32m    211\u001b[0m         )\n\u001b[1;32m    212\u001b[0m     ):\n\u001b[0;32m--> 213\u001b[0m         \u001b[38;5;28;01mreturn\u001b[39;00m func(\u001b[38;5;241m*\u001b[39margs, \u001b[38;5;241m*\u001b[39m\u001b[38;5;241m*\u001b[39mkwargs)\n\u001b[1;32m    214\u001b[0m \u001b[38;5;28;01mexcept\u001b[39;00m InvalidParameterError \u001b[38;5;28;01mas\u001b[39;00m e:\n\u001b[1;32m    215\u001b[0m     \u001b[38;5;66;03m# When the function is just a wrapper around an estimator, we allow\u001b[39;00m\n\u001b[1;32m    216\u001b[0m     \u001b[38;5;66;03m# the function to delegate validation to the estimator, but we replace\u001b[39;00m\n\u001b[1;32m    217\u001b[0m     \u001b[38;5;66;03m# the name of the estimator by the name of the function in the error\u001b[39;00m\n\u001b[1;32m    218\u001b[0m     \u001b[38;5;66;03m# message to avoid confusion.\u001b[39;00m\n\u001b[1;32m    219\u001b[0m     msg \u001b[38;5;241m=\u001b[39m re\u001b[38;5;241m.\u001b[39msub(\n\u001b[1;32m    220\u001b[0m         \u001b[38;5;124mr\u001b[39m\u001b[38;5;124m\"\u001b[39m\u001b[38;5;124mparameter of \u001b[39m\u001b[38;5;124m\\\u001b[39m\u001b[38;5;124mw+ must be\u001b[39m\u001b[38;5;124m\"\u001b[39m,\n\u001b[1;32m    221\u001b[0m         \u001b[38;5;124mf\u001b[39m\u001b[38;5;124m\"\u001b[39m\u001b[38;5;124mparameter of \u001b[39m\u001b[38;5;132;01m{\u001b[39;00mfunc\u001b[38;5;241m.\u001b[39m\u001b[38;5;18m__qualname__\u001b[39m\u001b[38;5;132;01m}\u001b[39;00m\u001b[38;5;124m must be\u001b[39m\u001b[38;5;124m\"\u001b[39m,\n\u001b[1;32m    222\u001b[0m         \u001b[38;5;28mstr\u001b[39m(e),\n\u001b[1;32m    223\u001b[0m     )\n",
      "File \u001b[0;32m/opt/anaconda3/lib/python3.12/site-packages/sklearn/metrics/_classification.py:2182\u001b[0m, in \u001b[0;36mprecision_score\u001b[0;34m(y_true, y_pred, labels, pos_label, average, sample_weight, zero_division)\u001b[0m\n\u001b[1;32m   2015\u001b[0m \u001b[38;5;129m@validate_params\u001b[39m(\n\u001b[1;32m   2016\u001b[0m     {\n\u001b[1;32m   2017\u001b[0m         \u001b[38;5;124m\"\u001b[39m\u001b[38;5;124my_true\u001b[39m\u001b[38;5;124m\"\u001b[39m: [\u001b[38;5;124m\"\u001b[39m\u001b[38;5;124marray-like\u001b[39m\u001b[38;5;124m\"\u001b[39m, \u001b[38;5;124m\"\u001b[39m\u001b[38;5;124msparse matrix\u001b[39m\u001b[38;5;124m\"\u001b[39m],\n\u001b[0;32m   (...)\u001b[0m\n\u001b[1;32m   2042\u001b[0m     zero_division\u001b[38;5;241m=\u001b[39m\u001b[38;5;124m\"\u001b[39m\u001b[38;5;124mwarn\u001b[39m\u001b[38;5;124m\"\u001b[39m,\n\u001b[1;32m   2043\u001b[0m ):\n\u001b[1;32m   2044\u001b[0m \u001b[38;5;250m    \u001b[39m\u001b[38;5;124;03m\"\"\"Compute the precision.\u001b[39;00m\n\u001b[1;32m   2045\u001b[0m \n\u001b[1;32m   2046\u001b[0m \u001b[38;5;124;03m    The precision is the ratio ``tp / (tp + fp)`` where ``tp`` is the number of\u001b[39;00m\n\u001b[0;32m   (...)\u001b[0m\n\u001b[1;32m   2180\u001b[0m \u001b[38;5;124;03m    array([0.5, 1. , 1. ])\u001b[39;00m\n\u001b[1;32m   2181\u001b[0m \u001b[38;5;124;03m    \"\"\"\u001b[39;00m\n\u001b[0;32m-> 2182\u001b[0m     p, _, _, _ \u001b[38;5;241m=\u001b[39m precision_recall_fscore_support(\n\u001b[1;32m   2183\u001b[0m         y_true,\n\u001b[1;32m   2184\u001b[0m         y_pred,\n\u001b[1;32m   2185\u001b[0m         labels\u001b[38;5;241m=\u001b[39mlabels,\n\u001b[1;32m   2186\u001b[0m         pos_label\u001b[38;5;241m=\u001b[39mpos_label,\n\u001b[1;32m   2187\u001b[0m         average\u001b[38;5;241m=\u001b[39maverage,\n\u001b[1;32m   2188\u001b[0m         warn_for\u001b[38;5;241m=\u001b[39m(\u001b[38;5;124m\"\u001b[39m\u001b[38;5;124mprecision\u001b[39m\u001b[38;5;124m\"\u001b[39m,),\n\u001b[1;32m   2189\u001b[0m         sample_weight\u001b[38;5;241m=\u001b[39msample_weight,\n\u001b[1;32m   2190\u001b[0m         zero_division\u001b[38;5;241m=\u001b[39mzero_division,\n\u001b[1;32m   2191\u001b[0m     )\n\u001b[1;32m   2192\u001b[0m     \u001b[38;5;28;01mreturn\u001b[39;00m p\n",
      "File \u001b[0;32m/opt/anaconda3/lib/python3.12/site-packages/sklearn/utils/_param_validation.py:186\u001b[0m, in \u001b[0;36mvalidate_params.<locals>.decorator.<locals>.wrapper\u001b[0;34m(*args, **kwargs)\u001b[0m\n\u001b[1;32m    184\u001b[0m global_skip_validation \u001b[38;5;241m=\u001b[39m get_config()[\u001b[38;5;124m\"\u001b[39m\u001b[38;5;124mskip_parameter_validation\u001b[39m\u001b[38;5;124m\"\u001b[39m]\n\u001b[1;32m    185\u001b[0m \u001b[38;5;28;01mif\u001b[39;00m global_skip_validation:\n\u001b[0;32m--> 186\u001b[0m     \u001b[38;5;28;01mreturn\u001b[39;00m func(\u001b[38;5;241m*\u001b[39margs, \u001b[38;5;241m*\u001b[39m\u001b[38;5;241m*\u001b[39mkwargs)\n\u001b[1;32m    188\u001b[0m func_sig \u001b[38;5;241m=\u001b[39m signature(func)\n\u001b[1;32m    190\u001b[0m \u001b[38;5;66;03m# Map *args/**kwargs to the function signature\u001b[39;00m\n",
      "File \u001b[0;32m/opt/anaconda3/lib/python3.12/site-packages/sklearn/metrics/_classification.py:1767\u001b[0m, in \u001b[0;36mprecision_recall_fscore_support\u001b[0;34m(y_true, y_pred, beta, labels, pos_label, average, warn_for, sample_weight, zero_division)\u001b[0m\n\u001b[1;32m   1604\u001b[0m \u001b[38;5;250m\u001b[39m\u001b[38;5;124;03m\"\"\"Compute precision, recall, F-measure and support for each class.\u001b[39;00m\n\u001b[1;32m   1605\u001b[0m \n\u001b[1;32m   1606\u001b[0m \u001b[38;5;124;03mThe precision is the ratio ``tp / (tp + fp)`` where ``tp`` is the number of\u001b[39;00m\n\u001b[0;32m   (...)\u001b[0m\n\u001b[1;32m   1764\u001b[0m \u001b[38;5;124;03m array([2, 2, 2]))\u001b[39;00m\n\u001b[1;32m   1765\u001b[0m \u001b[38;5;124;03m\"\"\"\u001b[39;00m\n\u001b[1;32m   1766\u001b[0m _check_zero_division(zero_division)\n\u001b[0;32m-> 1767\u001b[0m labels \u001b[38;5;241m=\u001b[39m _check_set_wise_labels(y_true, y_pred, average, labels, pos_label)\n\u001b[1;32m   1769\u001b[0m \u001b[38;5;66;03m# Calculate tp_sum, pred_sum, true_sum ###\u001b[39;00m\n\u001b[1;32m   1770\u001b[0m samplewise \u001b[38;5;241m=\u001b[39m average \u001b[38;5;241m==\u001b[39m \u001b[38;5;124m\"\u001b[39m\u001b[38;5;124msamples\u001b[39m\u001b[38;5;124m\"\u001b[39m\n",
      "File \u001b[0;32m/opt/anaconda3/lib/python3.12/site-packages/sklearn/metrics/_classification.py:1556\u001b[0m, in \u001b[0;36m_check_set_wise_labels\u001b[0;34m(y_true, y_pred, average, labels, pos_label)\u001b[0m\n\u001b[1;32m   1554\u001b[0m         \u001b[38;5;28;01mif\u001b[39;00m y_type \u001b[38;5;241m==\u001b[39m \u001b[38;5;124m\"\u001b[39m\u001b[38;5;124mmulticlass\u001b[39m\u001b[38;5;124m\"\u001b[39m:\n\u001b[1;32m   1555\u001b[0m             average_options\u001b[38;5;241m.\u001b[39mremove(\u001b[38;5;124m\"\u001b[39m\u001b[38;5;124msamples\u001b[39m\u001b[38;5;124m\"\u001b[39m)\n\u001b[0;32m-> 1556\u001b[0m         \u001b[38;5;28;01mraise\u001b[39;00m \u001b[38;5;167;01mValueError\u001b[39;00m(\n\u001b[1;32m   1557\u001b[0m             \u001b[38;5;124m\"\u001b[39m\u001b[38;5;124mTarget is \u001b[39m\u001b[38;5;132;01m%s\u001b[39;00m\u001b[38;5;124m but average=\u001b[39m\u001b[38;5;124m'\u001b[39m\u001b[38;5;124mbinary\u001b[39m\u001b[38;5;124m'\u001b[39m\u001b[38;5;124m. Please \u001b[39m\u001b[38;5;124m\"\u001b[39m\n\u001b[1;32m   1558\u001b[0m             \u001b[38;5;124m\"\u001b[39m\u001b[38;5;124mchoose another average setting, one of \u001b[39m\u001b[38;5;132;01m%r\u001b[39;00m\u001b[38;5;124m.\u001b[39m\u001b[38;5;124m\"\u001b[39m \u001b[38;5;241m%\u001b[39m (y_type, average_options)\n\u001b[1;32m   1559\u001b[0m         )\n\u001b[1;32m   1560\u001b[0m \u001b[38;5;28;01melif\u001b[39;00m pos_label \u001b[38;5;129;01mnot\u001b[39;00m \u001b[38;5;129;01min\u001b[39;00m (\u001b[38;5;28;01mNone\u001b[39;00m, \u001b[38;5;241m1\u001b[39m):\n\u001b[1;32m   1561\u001b[0m     warnings\u001b[38;5;241m.\u001b[39mwarn(\n\u001b[1;32m   1562\u001b[0m         \u001b[38;5;124m\"\u001b[39m\u001b[38;5;124mNote that pos_label (set to \u001b[39m\u001b[38;5;132;01m%r\u001b[39;00m\u001b[38;5;124m) is ignored when \u001b[39m\u001b[38;5;124m\"\u001b[39m\n\u001b[1;32m   1563\u001b[0m         \u001b[38;5;124m\"\u001b[39m\u001b[38;5;124maverage != \u001b[39m\u001b[38;5;124m'\u001b[39m\u001b[38;5;124mbinary\u001b[39m\u001b[38;5;124m'\u001b[39m\u001b[38;5;124m (got \u001b[39m\u001b[38;5;132;01m%r\u001b[39;00m\u001b[38;5;124m). You may use \u001b[39m\u001b[38;5;124m\"\u001b[39m\n\u001b[0;32m   (...)\u001b[0m\n\u001b[1;32m   1566\u001b[0m         \u001b[38;5;167;01mUserWarning\u001b[39;00m,\n\u001b[1;32m   1567\u001b[0m     )\n",
      "\u001b[0;31mValueError\u001b[0m: Target is multiclass but average='binary'. Please choose another average setting, one of [None, 'micro', 'macro', 'weighted']."
     ]
    }
   ],
   "source": [
    "# Run the prompt optimization process\n",
    "best_prompt, best_metrics = optimize_prompt(\n",
    "    initial_prompt = initial_prompt,\n",
    "    eval_data = eval_data,\n",
    "    iterations =iterations,\n",
    "    eval_provider=eval_provider,\n",
    "    eval_model=eval_model,\n",
    "    eval_temperature=0.7,\n",
    "    optim_provider=optim_provider,\n",
    "    optim_model=optim_model,\n",
    "    optim_temperature=0,\n",
    "    use_cache=True,\n",
    "    output_format_prompt = output_format_prompt,\n",
    "    output_schema=output_schema,\n",
    "    fp_comments = \"\",\n",
    "    fn_comments = \"\",\n",
    "    tp_comments = \"\",\n",
    "    invalid_comments=\"\",\n",
    "    validation_comments=\"\",\n",
    "    experiment_name = experiment_name,\n",
    "    skip_prompt_validation = True,\n",
    ")"
   ]
  }
 ],
 "metadata": {
  "kernelspec": {
   "display_name": "base",
   "language": "python",
   "name": "python3"
  },
  "language_info": {
   "codemirror_mode": {
    "name": "ipython",
    "version": 3
   },
   "file_extension": ".py",
   "mimetype": "text/x-python",
   "name": "python",
   "nbconvert_exporter": "python",
   "pygments_lexer": "ipython3",
   "version": "3.12.2"
  }
 },
 "nbformat": 4,
 "nbformat_minor": 2
}
