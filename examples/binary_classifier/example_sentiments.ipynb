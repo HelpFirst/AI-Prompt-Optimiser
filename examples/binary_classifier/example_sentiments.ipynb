{
 "cells": [
  {
   "cell_type": "code",
   "execution_count": 1,
   "metadata": {},
   "outputs": [],
   "source": [
    "experiment_name = \"test_dashboard_new\""
   ]
  },
  {
   "cell_type": "code",
   "execution_count": 2,
   "metadata": {},
   "outputs": [],
   "source": [
    "initial_prompt = '''\n",
    "You are a sentiment analysis classifier. Determine whether the provided text expresses a positive sentiment. \n",
    "Think through your analysis step by step using chain of thought reasoning. \n",
    "After your analysis, respond with a STRIC JSON dictionary containing two keys: \n",
    "\"chain_of_thought\" (your step-by-step reasoning) and \"classification\" (1 for positive, 0 for negative).\n",
    "\n",
    "Provide your response as a JSON dictionary with the following structure:\n",
    "{\n",
    "    \"chain_of_thought\": \"Your step-by-step reasoning here\"\n",
    "    \"classification\": 0 or 1,\n",
    "}\n",
    "Ensure that \"chain_of_thought\" contains your detailed analysis, and \"classification\" is strictly 0 or 1\n",
    "'''"
   ]
  },
  {
   "cell_type": "code",
   "execution_count": 3,
   "metadata": {},
   "outputs": [],
   "source": [
    "# Output format prompt\n",
    "output_format_prompt = '''\n",
    "Provide your response as a JSON dictionary with the following structure:\n",
    "{\n",
    "    \"chain_of_thought\": \"Your step-by-step reasoning here\"\n",
    "    \"classification\": 0 or 1,\n",
    "}\n",
    "Ensure that \"chain_of_thought\" contains your detailed analysis, and \"classification\" is strictly 0 or 1\n",
    "'''"
   ]
  },
  {
   "cell_type": "code",
   "execution_count": 4,
   "metadata": {},
   "outputs": [],
   "source": [
    "fp_comments = \"\"\n",
    "fn_comments = \"\"\n",
    "tp_comments = \"\"\n",
    "invalid_comments = \"\"\n",
    "prompt_engineering_comments = \"\"\n",
    "validation_comments = \"\""
   ]
  },
  {
   "cell_type": "code",
   "execution_count": 5,
   "metadata": {},
   "outputs": [],
   "source": [
    "# Define output schema\n",
    "output_schema = {\n",
    "    'key_to_extract': 'classification',\n",
    "    'value_mapping': {'1': 1,'0': 0},\n",
    "    'regex_pattern': r'\"classification\":\\s*(\\d)',\n",
    "    #\n",
    "    'chain_of_thought_key': 'chain_of_thought',  \n",
    "    'chain_of_thought_regex': r'\"chain_of_thought\":\\s*\"(.*?)\"',\n",
    "    #\n",
    "    'use_json_mode': True,\n",
    "}"
   ]
  },
  {
   "cell_type": "code",
   "execution_count": 6,
   "metadata": {},
   "outputs": [],
   "source": [
    "# Set number of optimization iterations\n",
    "iterations = 3"
   ]
  },
  {
   "cell_type": "code",
   "execution_count": 7,
   "metadata": {},
   "outputs": [],
   "source": [
    "# Define model providers and models for evaluation and optimization\n",
    "# eval_provider = \"ollama\"\n",
    "# eval_model = \"llama3.1\"\n",
    "# optim_provider = \"ollama\"\n",
    "# optim_model = \"llama3.1\"\n",
    "eval_provider = \"openai\"\n",
    "eval_model = \"gpt-4o-mini\"\n",
    "optim_provider = \"openai\"\n",
    "optim_model = \"gpt-4o-mini\""
   ]
  },
  {
   "cell_type": "code",
   "execution_count": 8,
   "metadata": {},
   "outputs": [],
   "source": [
    "# Path to the CSV file containing review data for evaluation\n",
    "eval_datapath = \"sentiments.csv\"\n",
    "sample_size = 10"
   ]
  },
  {
   "cell_type": "markdown",
   "metadata": {},
   "source": [
    "------------------------------------------------------------------------------------------"
   ]
  },
  {
   "cell_type": "code",
   "execution_count": 9,
   "metadata": {},
   "outputs": [],
   "source": [
    "# Import necessary libraries\n",
    "import pandas as pd\n",
    "import sys\n",
    "import os\n",
    "# Add the parent directory to sys.path\n",
    "# Use getcwd() to get the current working directory for Jupyter notebooks\n",
    "current_dir = os.getcwd()\n",
    "grandparent_dir = os.path.dirname(os.path.dirname(current_dir))\n",
    "sys.path.append(grandparent_dir)\n",
    "from src.iterative_prompt_optimization import optimize_prompt"
   ]
  },
  {
   "cell_type": "code",
   "execution_count": 10,
   "metadata": {},
   "outputs": [
    {
     "name": "stdout",
     "output_type": "stream",
     "text": [
      "Evaluation data shape: (10, 2)\n",
      "                                                text  label\n",
      "0  Was this based on a comic-book? A video-game? ...      1\n",
      "1  If you ask me the first one was really better ...      0\n",
      "2  When I was a kid, I loved \"Tiny Toons\". I espe...      1\n",
      "3  I hate guns and have never murdered anyone, bu...      0\n",
      "4  I do not have much to say than this is a great...      1\n"
     ]
    }
   ],
   "source": [
    "# Load and prepare data\n",
    "eval_data = pd.read_csv(eval_datapath, encoding='ISO-8859-1', usecols=['Text', 'Sentiment'])\n",
    "eval_data.columns = ['text', 'label']\n",
    "# Randomly select 50 positive and 50 negative samples\n",
    "eval_data = (\n",
    "    eval_data.groupby('label')\n",
    "    .apply(lambda x: x.sample(n=round(sample_size/2), random_state=42))\n",
    "    .reset_index(drop=True)\n",
    ")\n",
    "# Shuffle the DataFrame randomly\n",
    "eval_data = eval_data.sample(frac=1, random_state=42).reset_index(drop=True)\n",
    "print(f\"Evaluation data shape: {eval_data.shape}\")\n",
    "print(eval_data.head())"
   ]
  },
  {
   "cell_type": "code",
   "execution_count": 11,
   "metadata": {},
   "outputs": [
    {
     "name": "stdout",
     "output_type": "stream",
     "text": [
      "\n",
      "Detected problem type: binary\n",
      "Selected evaluation provider: openai\n",
      "Selected evaluation model: gpt-4o-mini\n",
      "Evaluation temperature: 0.7\n",
      "Selected optimization provider: openai\n",
      "Selected optimization model: gpt-4o-mini\n",
      "Optimization temperature: 0\n",
      "Estimated token usage: 111120\n",
      "Estimated cost: $0.13\n",
      "\n",
      "Do you want to proceed with the optimization? (Y/N): \n",
      "Iteration 1/3\n"
     ]
    },
    {
     "data": {
      "text/html": [
       "<pre style=\"white-space:pre;overflow-x:auto;line-height:normal;font-family:Menlo,'DejaVu Sans Mono',consolas,'Courier New',monospace\"><span style=\"color: #000080; text-decoration-color: #000080\">╭───────────────────────────────────────────── Current Full Prompt ─────────────────────────────────────────────╮</span>\n",
       "<span style=\"color: #000080; text-decoration-color: #000080\">│</span>                                                                                                               <span style=\"color: #000080; text-decoration-color: #000080\">│</span>\n",
       "<span style=\"color: #000080; text-decoration-color: #000080\">│</span> You are a sentiment analysis classifier. Determine whether the provided text expresses a positive sentiment.  <span style=\"color: #000080; text-decoration-color: #000080\">│</span>\n",
       "<span style=\"color: #000080; text-decoration-color: #000080\">│</span> Think through your analysis step by step using chain of thought reasoning.                                    <span style=\"color: #000080; text-decoration-color: #000080\">│</span>\n",
       "<span style=\"color: #000080; text-decoration-color: #000080\">│</span> After your analysis, respond with a STRIC JSON dictionary containing two keys:                                <span style=\"color: #000080; text-decoration-color: #000080\">│</span>\n",
       "<span style=\"color: #000080; text-decoration-color: #000080\">│</span> \"chain_of_thought\" (your step-by-step reasoning) and \"classification\" (1 for positive, 0 for negative).       <span style=\"color: #000080; text-decoration-color: #000080\">│</span>\n",
       "<span style=\"color: #000080; text-decoration-color: #000080\">│</span>                                                                                                               <span style=\"color: #000080; text-decoration-color: #000080\">│</span>\n",
       "<span style=\"color: #000080; text-decoration-color: #000080\">│</span> Provide your response as a JSON dictionary with the following structure:                                      <span style=\"color: #000080; text-decoration-color: #000080\">│</span>\n",
       "<span style=\"color: #000080; text-decoration-color: #000080\">│</span> {                                                                                                             <span style=\"color: #000080; text-decoration-color: #000080\">│</span>\n",
       "<span style=\"color: #000080; text-decoration-color: #000080\">│</span>     \"chain_of_thought\": \"Your step-by-step reasoning here\"                                                    <span style=\"color: #000080; text-decoration-color: #000080\">│</span>\n",
       "<span style=\"color: #000080; text-decoration-color: #000080\">│</span>     \"classification\": 0 or 1,                                                                                 <span style=\"color: #000080; text-decoration-color: #000080\">│</span>\n",
       "<span style=\"color: #000080; text-decoration-color: #000080\">│</span> }                                                                                                             <span style=\"color: #000080; text-decoration-color: #000080\">│</span>\n",
       "<span style=\"color: #000080; text-decoration-color: #000080\">│</span> Ensure that \"chain_of_thought\" contains your detailed analysis, and \"classification\" is strictly 0 or 1       <span style=\"color: #000080; text-decoration-color: #000080\">│</span>\n",
       "<span style=\"color: #000080; text-decoration-color: #000080\">│</span>                                                                                                               <span style=\"color: #000080; text-decoration-color: #000080\">│</span>\n",
       "<span style=\"color: #000080; text-decoration-color: #000080\">╰───────────────────────────────────────────────────────────────────────────────────────────────────────────────╯</span>\n",
       "</pre>\n"
      ],
      "text/plain": [
       "\u001b[34m╭─\u001b[0m\u001b[34m────────────────────────────────────────────\u001b[0m\u001b[34m Current Full Prompt \u001b[0m\u001b[34m────────────────────────────────────────────\u001b[0m\u001b[34m─╮\u001b[0m\n",
       "\u001b[34m│\u001b[0m                                                                                                               \u001b[34m│\u001b[0m\n",
       "\u001b[34m│\u001b[0m You are a sentiment analysis classifier. Determine whether the provided text expresses a positive sentiment.  \u001b[34m│\u001b[0m\n",
       "\u001b[34m│\u001b[0m Think through your analysis step by step using chain of thought reasoning.                                    \u001b[34m│\u001b[0m\n",
       "\u001b[34m│\u001b[0m After your analysis, respond with a STRIC JSON dictionary containing two keys:                                \u001b[34m│\u001b[0m\n",
       "\u001b[34m│\u001b[0m \"chain_of_thought\" (your step-by-step reasoning) and \"classification\" (1 for positive, 0 for negative).       \u001b[34m│\u001b[0m\n",
       "\u001b[34m│\u001b[0m                                                                                                               \u001b[34m│\u001b[0m\n",
       "\u001b[34m│\u001b[0m Provide your response as a JSON dictionary with the following structure:                                      \u001b[34m│\u001b[0m\n",
       "\u001b[34m│\u001b[0m {                                                                                                             \u001b[34m│\u001b[0m\n",
       "\u001b[34m│\u001b[0m     \"chain_of_thought\": \"Your step-by-step reasoning here\"                                                    \u001b[34m│\u001b[0m\n",
       "\u001b[34m│\u001b[0m     \"classification\": 0 or 1,                                                                                 \u001b[34m│\u001b[0m\n",
       "\u001b[34m│\u001b[0m }                                                                                                             \u001b[34m│\u001b[0m\n",
       "\u001b[34m│\u001b[0m Ensure that \"chain_of_thought\" contains your detailed analysis, and \"classification\" is strictly 0 or 1       \u001b[34m│\u001b[0m\n",
       "\u001b[34m│\u001b[0m                                                                                                               \u001b[34m│\u001b[0m\n",
       "\u001b[34m╰───────────────────────────────────────────────────────────────────────────────────────────────────────────────╯\u001b[0m\n"
      ]
     },
     "metadata": {},
     "output_type": "display_data"
    },
    {
     "name": "stdout",
     "output_type": "stream",
     "text": [
      "-----------------------------------\n",
      "Processing text 1/10 .....\n",
      "Using cached output for text 1/10\n",
      "Prediction 1/10: 0 | Ground Truth: 1 ❌ (FN)\n",
      "-----------------------------------\n",
      "Processing text 2/10 .....\n",
      "Using cached output for text 2/10\n",
      "Prediction 2/10: 0 | Ground Truth: 0 ✅ (TN)\n",
      "-----------------------------------\n",
      "Processing text 3/10 .....\n",
      "Using cached output for text 3/10\n",
      "Prediction 3/10: 1 | Ground Truth: 1 ✅ (TP)\n",
      "-----------------------------------\n",
      "Processing text 4/10 .....\n",
      "Using cached output for text 4/10\n",
      "Prediction 4/10: 0 | Ground Truth: 0 ✅ (TN)\n",
      "-----------------------------------\n",
      "Processing text 5/10 .....\n",
      "Using cached output for text 5/10\n",
      "Prediction 5/10: 1 | Ground Truth: 1 ✅ (TP)\n",
      "-----------------------------------\n",
      "Processing text 6/10 .....\n",
      "Using cached output for text 6/10\n",
      "Prediction 6/10: 0 | Ground Truth: 0 ✅ (TN)\n",
      "-----------------------------------\n",
      "Processing text 7/10 .....\n",
      "Using cached output for text 7/10\n",
      "Prediction 7/10: 1 | Ground Truth: 1 ✅ (TP)\n",
      "-----------------------------------\n",
      "Processing text 8/10 .....\n",
      "Using cached output for text 8/10\n",
      "Prediction 8/10: 0 | Ground Truth: 0 ✅ (TN)\n",
      "-----------------------------------\n",
      "Processing text 9/10 .....\n",
      "Using cached output for text 9/10\n",
      "Prediction 9/10: 0 | Ground Truth: 0 ✅ (TN)\n",
      "-----------------------------------\n",
      "Processing text 10/10 .....\n",
      "Using cached output for text 10/10\n",
      "Prediction 10/10: 1 | Ground Truth: 1 ✅ (TP)\n"
     ]
    },
    {
     "data": {
      "text/html": [
       "<pre style=\"white-space:pre;overflow-x:auto;line-height:normal;font-family:Menlo,'DejaVu Sans Mono',consolas,'Courier New',monospace\"><span style=\"font-style: italic\">Evaluation Metrics - Iteration 1</span>\n",
       "┏━━━━━━━━━━━━━━━━━━━━━┳━━━━━━━━┓\n",
       "┃<span style=\"font-weight: bold\"> Metric              </span>┃<span style=\"font-weight: bold\">  Value </span>┃\n",
       "┡━━━━━━━━━━━━━━━━━━━━━╇━━━━━━━━┩\n",
       "│ Precision           │ 1.0000 │\n",
       "│ Recall              │ 0.8000 │\n",
       "│ Accuracy            │ 0.9000 │\n",
       "│ F1-score            │ 0.8889 │\n",
       "│<span style=\"color: #7f7f7f; text-decoration-color: #7f7f7f\">                     </span>│<span style=\"color: #7f7f7f; text-decoration-color: #7f7f7f\">        </span>│\n",
       "├─────────────────────┼────────┤\n",
       "│ Valid Predictions   │     10 │\n",
       "│ Invalid Predictions │      0 │\n",
       "└─────────────────────┴────────┘\n",
       "</pre>\n"
      ],
      "text/plain": [
       "\u001b[3mEvaluation Metrics - Iteration 1\u001b[0m\n",
       "┏━━━━━━━━━━━━━━━━━━━━━┳━━━━━━━━┓\n",
       "┃\u001b[1m \u001b[0m\u001b[1mMetric             \u001b[0m\u001b[1m \u001b[0m┃\u001b[1m \u001b[0m\u001b[1m Value\u001b[0m\u001b[1m \u001b[0m┃\n",
       "┡━━━━━━━━━━━━━━━━━━━━━╇━━━━━━━━┩\n",
       "│ Precision           │ 1.0000 │\n",
       "│ Recall              │ 0.8000 │\n",
       "│ Accuracy            │ 0.9000 │\n",
       "│ F1-score            │ 0.8889 │\n",
       "│\u001b[2m \u001b[0m\u001b[2m                   \u001b[0m\u001b[2m \u001b[0m│\u001b[2m \u001b[0m\u001b[2m      \u001b[0m\u001b[2m \u001b[0m│\n",
       "├─────────────────────┼────────┤\n",
       "│ Valid Predictions   │     10 │\n",
       "│ Invalid Predictions │      0 │\n",
       "└─────────────────────┴────────┘\n"
      ]
     },
     "metadata": {},
     "output_type": "display_data"
    },
    {
     "data": {
      "text/html": [
       "<pre style=\"white-space:pre;overflow-x:auto;line-height:normal;font-family:Menlo,'DejaVu Sans Mono',consolas,'Courier New',monospace\"><span style=\"font-style: italic\">   Confusion Matrix    </span>\n",
       "┏━━━━━━━━━━━━━┳━━━┳━━━┓\n",
       "┃<span style=\"font-weight: bold\"> True↓/Pred→ </span>┃<span style=\"font-weight: bold\"> 0 </span>┃<span style=\"font-weight: bold\"> 1 </span>┃\n",
       "┡━━━━━━━━━━━━━╇━━━╇━━━┩\n",
       "│ 0           │ <span style=\"font-weight: bold\">5</span> │ 0 │\n",
       "├─────────────┼───┼───┤\n",
       "│ 1           │ 1 │ <span style=\"font-weight: bold\">4</span> │\n",
       "└─────────────┴───┴───┘\n",
       "</pre>\n"
      ],
      "text/plain": [
       "\u001b[3m   Confusion Matrix    \u001b[0m\n",
       "┏━━━━━━━━━━━━━┳━━━┳━━━┓\n",
       "┃\u001b[1m \u001b[0m\u001b[1mTrue↓/Pred→\u001b[0m\u001b[1m \u001b[0m┃\u001b[1m \u001b[0m\u001b[1m0\u001b[0m\u001b[1m \u001b[0m┃\u001b[1m \u001b[0m\u001b[1m1\u001b[0m\u001b[1m \u001b[0m┃\n",
       "┡━━━━━━━━━━━━━╇━━━╇━━━┩\n",
       "│ 0           │ \u001b[1m5\u001b[0m │ 0 │\n",
       "├─────────────┼───┼───┤\n",
       "│ 1           │ 1 │ \u001b[1m4\u001b[0m │\n",
       "└─────────────┴───┴───┘\n"
      ]
     },
     "metadata": {},
     "output_type": "display_data"
    },
    {
     "name": "stdout",
     "output_type": "stream",
     "text": [
      "\n",
      "\n",
      "Analyzing misclassifications, true positives, and invalid outputs...\n"
     ]
    },
    {
     "data": {
      "text/html": [
       "<pre style=\"white-space:pre;overflow-x:auto;line-height:normal;font-family:Menlo,'DejaVu Sans Mono',consolas,'Courier New',monospace\"><span style=\"font-weight: bold\">╭───────── False Positives Analysis ──────────╮</span>\n",
       "<span style=\"font-weight: bold\">│</span>                                             <span style=\"font-weight: bold\">│</span>\n",
       "<span style=\"font-weight: bold\">│</span> No false positives found in this iteration. <span style=\"font-weight: bold\">│</span>\n",
       "<span style=\"font-weight: bold\">│</span>                                             <span style=\"font-weight: bold\">│</span>\n",
       "<span style=\"font-weight: bold\">╰─────────────────────────────────────────────╯</span>\n",
       "</pre>\n"
      ],
      "text/plain": [
       "\u001b[1m╭─\u001b[0m\u001b[1m────────\u001b[0m\u001b[1m False Positives Analysis \u001b[0m\u001b[1m─────────\u001b[0m\u001b[1m─╮\u001b[0m\n",
       "\u001b[1m│\u001b[0m                                             \u001b[1m│\u001b[0m\n",
       "\u001b[1m│\u001b[0m No false positives found in this iteration. \u001b[1m│\u001b[0m\n",
       "\u001b[1m│\u001b[0m                                             \u001b[1m│\u001b[0m\n",
       "\u001b[1m╰─────────────────────────────────────────────╯\u001b[0m\n"
      ]
     },
     "metadata": {},
     "output_type": "display_data"
    },
    {
     "data": {
      "text/html": [
       "<pre style=\"white-space:pre;overflow-x:auto;line-height:normal;font-family:Menlo,'DejaVu Sans Mono',consolas,'Courier New',monospace\"><span style=\"font-weight: bold\">╭─────────────────────────────────────────── False Negatives Analysis ────────────────────────────────────────────╮</span>\n",
       "<span style=\"font-weight: bold\">│</span>                                                                                                                 <span style=\"font-weight: bold\">│</span>\n",
       "<span style=\"font-weight: bold\">│</span> 1. **Overemphasis on Negative Language**: The chain of thought heavily focuses on the negative aspects of the   <span style=\"font-weight: bold\">│</span>\n",
       "<span style=\"font-weight: bold\">│</span> film, such as \"nothing to be taken seriously,\" \"dumb,\" and \"absurdity.\" This leads to a misclassification of    <span style=\"font-weight: bold\">│</span>\n",
       "<span style=\"font-weight: bold\">│</span> the overall sentiment. To improve recall, the model should be trained to recognize nuanced expressions of       <span style=\"font-weight: bold\">│</span>\n",
       "<span style=\"font-weight: bold\">│</span> enjoyment or entertainment, even when they are couched in critical language.                                    <span style=\"font-weight: bold\">│</span>\n",
       "<span style=\"font-weight: bold\">│</span>                                                                                                                 <span style=\"font-weight: bold\">│</span>\n",
       "<span style=\"font-weight: bold\">│</span> 2. **Misinterpretation of Contextual Positivity**: Phrases like \"mindless fun at its best\" and \"exciting and    <span style=\"font-weight: bold\">│</span>\n",
       "<span style=\"font-weight: bold\">│</span> fun\" are indicative of positive sentiment but are overshadowed by the surrounding negativity. The model should  <span style=\"font-weight: bold\">│</span>\n",
       "<span style=\"font-weight: bold\">│</span> be adjusted to weigh positive phrases more heavily, especially when they are explicitly stated, to avoid        <span style=\"font-weight: bold\">│</span>\n",
       "<span style=\"font-weight: bold\">│</span> overlooking positive sentiment in critical reviews.                                                             <span style=\"font-weight: bold\">│</span>\n",
       "<span style=\"font-weight: bold\">│</span>                                                                                                                 <span style=\"font-weight: bold\">│</span>\n",
       "<span style=\"font-weight: bold\">│</span> 3. **Lack of Sentiment Nuance Recognition**: The model fails to capture the complexity of sentiment in mixed    <span style=\"font-weight: bold\">│</span>\n",
       "<span style=\"font-weight: bold\">│</span> reviews. It should be enhanced to identify and balance both positive and negative sentiments, allowing for a    <span style=\"font-weight: bold\">│</span>\n",
       "<span style=\"font-weight: bold\">│</span> more accurate classification when the text contains both. This could involve implementing a scoring system that <span style=\"font-weight: bold\">│</span>\n",
       "<span style=\"font-weight: bold\">│</span> accounts for the frequency and intensity of positive versus negative phrases.                                   <span style=\"font-weight: bold\">│</span>\n",
       "<span style=\"font-weight: bold\">│</span>                                                                                                                 <span style=\"font-weight: bold\">│</span>\n",
       "<span style=\"font-weight: bold\">│</span> 4. **Contextual Understanding of Humor**: The review mentions \"unintentional humor\" and \"bad dialog\" in a way   <span style=\"font-weight: bold\">│</span>\n",
       "<span style=\"font-weight: bold\">│</span> that suggests a form of enjoyment, albeit sarcastic. The model should be trained to recognize humor as a        <span style=\"font-weight: bold\">│</span>\n",
       "<span style=\"font-weight: bold\">│</span> potential positive sentiment, even when it is framed negatively, to improve its ability to classify mixed       <span style=\"font-weight: bold\">│</span>\n",
       "<span style=\"font-weight: bold\">│</span> sentiments accurately.                                                                                          <span style=\"font-weight: bold\">│</span>\n",
       "<span style=\"font-weight: bold\">│</span>                                                                                                                 <span style=\"font-weight: bold\">│</span>\n",
       "<span style=\"font-weight: bold\">│</span> 5. **Increased Sensitivity to Entertainment Value**: The model should be more sensitive to expressions of       <span style=\"font-weight: bold\">│</span>\n",
       "<span style=\"font-weight: bold\">│</span> entertainment value, even if they are presented alongside criticism. This could involve refining the training   <span style=\"font-weight: bold\">│</span>\n",
       "<span style=\"font-weight: bold\">│</span> data to include more examples of mixed sentiment reviews, ensuring the model learns to identify when            <span style=\"font-weight: bold\">│</span>\n",
       "<span style=\"font-weight: bold\">│</span> entertainment is acknowledged, regardless of the overall critical tone.                                         <span style=\"font-weight: bold\">│</span>\n",
       "<span style=\"font-weight: bold\">│</span>                                                                                                                 <span style=\"font-weight: bold\">│</span>\n",
       "<span style=\"font-weight: bold\">╰─────────────────────────────────────────────────────────────────────────────────────────────────────────────────╯</span>\n",
       "</pre>\n"
      ],
      "text/plain": [
       "\u001b[1m╭─\u001b[0m\u001b[1m──────────────────────────────────────────\u001b[0m\u001b[1m False Negatives Analysis \u001b[0m\u001b[1m───────────────────────────────────────────\u001b[0m\u001b[1m─╮\u001b[0m\n",
       "\u001b[1m│\u001b[0m                                                                                                                 \u001b[1m│\u001b[0m\n",
       "\u001b[1m│\u001b[0m 1. **Overemphasis on Negative Language**: The chain of thought heavily focuses on the negative aspects of the   \u001b[1m│\u001b[0m\n",
       "\u001b[1m│\u001b[0m film, such as \"nothing to be taken seriously,\" \"dumb,\" and \"absurdity.\" This leads to a misclassification of    \u001b[1m│\u001b[0m\n",
       "\u001b[1m│\u001b[0m the overall sentiment. To improve recall, the model should be trained to recognize nuanced expressions of       \u001b[1m│\u001b[0m\n",
       "\u001b[1m│\u001b[0m enjoyment or entertainment, even when they are couched in critical language.                                    \u001b[1m│\u001b[0m\n",
       "\u001b[1m│\u001b[0m                                                                                                                 \u001b[1m│\u001b[0m\n",
       "\u001b[1m│\u001b[0m 2. **Misinterpretation of Contextual Positivity**: Phrases like \"mindless fun at its best\" and \"exciting and    \u001b[1m│\u001b[0m\n",
       "\u001b[1m│\u001b[0m fun\" are indicative of positive sentiment but are overshadowed by the surrounding negativity. The model should  \u001b[1m│\u001b[0m\n",
       "\u001b[1m│\u001b[0m be adjusted to weigh positive phrases more heavily, especially when they are explicitly stated, to avoid        \u001b[1m│\u001b[0m\n",
       "\u001b[1m│\u001b[0m overlooking positive sentiment in critical reviews.                                                             \u001b[1m│\u001b[0m\n",
       "\u001b[1m│\u001b[0m                                                                                                                 \u001b[1m│\u001b[0m\n",
       "\u001b[1m│\u001b[0m 3. **Lack of Sentiment Nuance Recognition**: The model fails to capture the complexity of sentiment in mixed    \u001b[1m│\u001b[0m\n",
       "\u001b[1m│\u001b[0m reviews. It should be enhanced to identify and balance both positive and negative sentiments, allowing for a    \u001b[1m│\u001b[0m\n",
       "\u001b[1m│\u001b[0m more accurate classification when the text contains both. This could involve implementing a scoring system that \u001b[1m│\u001b[0m\n",
       "\u001b[1m│\u001b[0m accounts for the frequency and intensity of positive versus negative phrases.                                   \u001b[1m│\u001b[0m\n",
       "\u001b[1m│\u001b[0m                                                                                                                 \u001b[1m│\u001b[0m\n",
       "\u001b[1m│\u001b[0m 4. **Contextual Understanding of Humor**: The review mentions \"unintentional humor\" and \"bad dialog\" in a way   \u001b[1m│\u001b[0m\n",
       "\u001b[1m│\u001b[0m that suggests a form of enjoyment, albeit sarcastic. The model should be trained to recognize humor as a        \u001b[1m│\u001b[0m\n",
       "\u001b[1m│\u001b[0m potential positive sentiment, even when it is framed negatively, to improve its ability to classify mixed       \u001b[1m│\u001b[0m\n",
       "\u001b[1m│\u001b[0m sentiments accurately.                                                                                          \u001b[1m│\u001b[0m\n",
       "\u001b[1m│\u001b[0m                                                                                                                 \u001b[1m│\u001b[0m\n",
       "\u001b[1m│\u001b[0m 5. **Increased Sensitivity to Entertainment Value**: The model should be more sensitive to expressions of       \u001b[1m│\u001b[0m\n",
       "\u001b[1m│\u001b[0m entertainment value, even if they are presented alongside criticism. This could involve refining the training   \u001b[1m│\u001b[0m\n",
       "\u001b[1m│\u001b[0m data to include more examples of mixed sentiment reviews, ensuring the model learns to identify when            \u001b[1m│\u001b[0m\n",
       "\u001b[1m│\u001b[0m entertainment is acknowledged, regardless of the overall critical tone.                                         \u001b[1m│\u001b[0m\n",
       "\u001b[1m│\u001b[0m                                                                                                                 \u001b[1m│\u001b[0m\n",
       "\u001b[1m╰─────────────────────────────────────────────────────────────────────────────────────────────────────────────────╯\u001b[0m\n"
      ]
     },
     "metadata": {},
     "output_type": "display_data"
    },
    {
     "data": {
      "text/html": [
       "<pre style=\"white-space:pre;overflow-x:auto;line-height:normal;font-family:Menlo,'DejaVu Sans Mono',consolas,'Courier New',monospace\"><span style=\"font-weight: bold\">╭──────────────────────────────────────────── True Positives Analysis ────────────────────────────────────────────╮</span>\n",
       "<span style=\"font-weight: bold\">│</span>                                                                                                                 <span style=\"font-weight: bold\">│</span>\n",
       "<span style=\"font-weight: bold\">│</span> 1. **Use of Positive Language**: All true positive examples prominently feature positive language and           <span style=\"font-weight: bold\">│</span>\n",
       "<span style=\"font-weight: bold\">│</span> descriptors. Phrases like \"loved,\" \"great finish,\" \"very well done,\" and \"excellent quality\" are clear          <span style=\"font-weight: bold\">│</span>\n",
       "<span style=\"font-weight: bold\">│</span> indicators of positive sentiment. Reinforcing the identification of such language in future analyses can        <span style=\"font-weight: bold\">│</span>\n",
       "<span style=\"font-weight: bold\">│</span> enhance classification accuracy.                                                                                <span style=\"font-weight: bold\">│</span>\n",
       "<span style=\"font-weight: bold\">│</span>                                                                                                                 <span style=\"font-weight: bold\">│</span>\n",
       "<span style=\"font-weight: bold\">│</span> 2. **Emotional Engagement**: The texts convey strong emotional engagement and personal connection to the        <span style=\"font-weight: bold\">│</span>\n",
       "<span style=\"font-weight: bold\">│</span> subject matter. Expressions of nostalgia, enjoyment, and appreciation (e.g., \"I'm still on the floors           <span style=\"font-weight: bold\">│</span>\n",
       "<span style=\"font-weight: bold\">│</span> laughing,\" \"I loved every second\") signal positive sentiment. Training the model to recognize emotional cues    <span style=\"font-weight: bold\">│</span>\n",
       "<span style=\"font-weight: bold\">│</span> can improve its sensitivity to sentiment.                                                                       <span style=\"font-weight: bold\">│</span>\n",
       "<span style=\"font-weight: bold\">│</span>                                                                                                                 <span style=\"font-weight: bold\">│</span>\n",
       "<span style=\"font-weight: bold\">│</span> 3. **High Ratings and Recommendations**: Each example includes explicit ratings or recommendations (e.g.,       <span style=\"font-weight: bold\">│</span>\n",
       "<span style=\"font-weight: bold\">│</span> \"10/10,\" \"9 out of 10 stars,\" \"highest possible rating\"). These quantitative assessments serve as strong        <span style=\"font-weight: bold\">│</span>\n",
       "<span style=\"font-weight: bold\">│</span> indicators of positive sentiment. Incorporating a focus on numerical ratings and recommendations in the         <span style=\"font-weight: bold\">│</span>\n",
       "<span style=\"font-weight: bold\">│</span> classification process can help solidify positive classifications.                                              <span style=\"font-weight: bold\">│</span>\n",
       "<span style=\"font-weight: bold\">│</span>                                                                                                                 <span style=\"font-weight: bold\">│</span>\n",
       "<span style=\"font-weight: bold\">│</span> 4. **Defensive Stance Against Criticism**: In some examples, the authors defend the subject against negative    <span style=\"font-weight: bold\">│</span>\n",
       "<span style=\"font-weight: bold\">│</span> critiques, which reflects a positive bias. Phrases like \"they did the best they could do\" and \"should be taken  <span style=\"font-weight: bold\">│</span>\n",
       "<span style=\"font-weight: bold\">│</span> more positively\" indicate a protective sentiment. Recognizing this defensive language can aid in identifying    <span style=\"font-weight: bold\">│</span>\n",
       "<span style=\"font-weight: bold\">│</span> positive sentiment even in the face of criticism.                                                               <span style=\"font-weight: bold\">│</span>\n",
       "<span style=\"font-weight: bold\">│</span>                                                                                                                 <span style=\"font-weight: bold\">│</span>\n",
       "<span style=\"font-weight: bold\">│</span> 5. **Consistent Theme of Praise**: The overall tone across all true positives is one of praise and              <span style=\"font-weight: bold\">│</span>\n",
       "<span style=\"font-weight: bold\">│</span> appreciation, with a consistent focus on the quality and impact of the subject matter. Training the model to    <span style=\"font-weight: bold\">│</span>\n",
       "<span style=\"font-weight: bold\">│</span> detect thematic consistency in positive sentiment can enhance its ability to classify similar texts accurately. <span style=\"font-weight: bold\">│</span>\n",
       "<span style=\"font-weight: bold\">│</span>                                                                                                                 <span style=\"font-weight: bold\">│</span>\n",
       "<span style=\"font-weight: bold\">│</span> By emphasizing these key elements in future analyses, the model can improve its classification accuracy for     <span style=\"font-weight: bold\">│</span>\n",
       "<span style=\"font-weight: bold\">│</span> positive sentiment.                                                                                             <span style=\"font-weight: bold\">│</span>\n",
       "<span style=\"font-weight: bold\">│</span>                                                                                                                 <span style=\"font-weight: bold\">│</span>\n",
       "<span style=\"font-weight: bold\">╰─────────────────────────────────────────────────────────────────────────────────────────────────────────────────╯</span>\n",
       "</pre>\n"
      ],
      "text/plain": [
       "\u001b[1m╭─\u001b[0m\u001b[1m───────────────────────────────────────────\u001b[0m\u001b[1m True Positives Analysis \u001b[0m\u001b[1m───────────────────────────────────────────\u001b[0m\u001b[1m─╮\u001b[0m\n",
       "\u001b[1m│\u001b[0m                                                                                                                 \u001b[1m│\u001b[0m\n",
       "\u001b[1m│\u001b[0m 1. **Use of Positive Language**: All true positive examples prominently feature positive language and           \u001b[1m│\u001b[0m\n",
       "\u001b[1m│\u001b[0m descriptors. Phrases like \"loved,\" \"great finish,\" \"very well done,\" and \"excellent quality\" are clear          \u001b[1m│\u001b[0m\n",
       "\u001b[1m│\u001b[0m indicators of positive sentiment. Reinforcing the identification of such language in future analyses can        \u001b[1m│\u001b[0m\n",
       "\u001b[1m│\u001b[0m enhance classification accuracy.                                                                                \u001b[1m│\u001b[0m\n",
       "\u001b[1m│\u001b[0m                                                                                                                 \u001b[1m│\u001b[0m\n",
       "\u001b[1m│\u001b[0m 2. **Emotional Engagement**: The texts convey strong emotional engagement and personal connection to the        \u001b[1m│\u001b[0m\n",
       "\u001b[1m│\u001b[0m subject matter. Expressions of nostalgia, enjoyment, and appreciation (e.g., \"I'm still on the floors           \u001b[1m│\u001b[0m\n",
       "\u001b[1m│\u001b[0m laughing,\" \"I loved every second\") signal positive sentiment. Training the model to recognize emotional cues    \u001b[1m│\u001b[0m\n",
       "\u001b[1m│\u001b[0m can improve its sensitivity to sentiment.                                                                       \u001b[1m│\u001b[0m\n",
       "\u001b[1m│\u001b[0m                                                                                                                 \u001b[1m│\u001b[0m\n",
       "\u001b[1m│\u001b[0m 3. **High Ratings and Recommendations**: Each example includes explicit ratings or recommendations (e.g.,       \u001b[1m│\u001b[0m\n",
       "\u001b[1m│\u001b[0m \"10/10,\" \"9 out of 10 stars,\" \"highest possible rating\"). These quantitative assessments serve as strong        \u001b[1m│\u001b[0m\n",
       "\u001b[1m│\u001b[0m indicators of positive sentiment. Incorporating a focus on numerical ratings and recommendations in the         \u001b[1m│\u001b[0m\n",
       "\u001b[1m│\u001b[0m classification process can help solidify positive classifications.                                              \u001b[1m│\u001b[0m\n",
       "\u001b[1m│\u001b[0m                                                                                                                 \u001b[1m│\u001b[0m\n",
       "\u001b[1m│\u001b[0m 4. **Defensive Stance Against Criticism**: In some examples, the authors defend the subject against negative    \u001b[1m│\u001b[0m\n",
       "\u001b[1m│\u001b[0m critiques, which reflects a positive bias. Phrases like \"they did the best they could do\" and \"should be taken  \u001b[1m│\u001b[0m\n",
       "\u001b[1m│\u001b[0m more positively\" indicate a protective sentiment. Recognizing this defensive language can aid in identifying    \u001b[1m│\u001b[0m\n",
       "\u001b[1m│\u001b[0m positive sentiment even in the face of criticism.                                                               \u001b[1m│\u001b[0m\n",
       "\u001b[1m│\u001b[0m                                                                                                                 \u001b[1m│\u001b[0m\n",
       "\u001b[1m│\u001b[0m 5. **Consistent Theme of Praise**: The overall tone across all true positives is one of praise and              \u001b[1m│\u001b[0m\n",
       "\u001b[1m│\u001b[0m appreciation, with a consistent focus on the quality and impact of the subject matter. Training the model to    \u001b[1m│\u001b[0m\n",
       "\u001b[1m│\u001b[0m detect thematic consistency in positive sentiment can enhance its ability to classify similar texts accurately. \u001b[1m│\u001b[0m\n",
       "\u001b[1m│\u001b[0m                                                                                                                 \u001b[1m│\u001b[0m\n",
       "\u001b[1m│\u001b[0m By emphasizing these key elements in future analyses, the model can improve its classification accuracy for     \u001b[1m│\u001b[0m\n",
       "\u001b[1m│\u001b[0m positive sentiment.                                                                                             \u001b[1m│\u001b[0m\n",
       "\u001b[1m│\u001b[0m                                                                                                                 \u001b[1m│\u001b[0m\n",
       "\u001b[1m╰─────────────────────────────────────────────────────────────────────────────────────────────────────────────────╯\u001b[0m\n"
      ]
     },
     "metadata": {},
     "output_type": "display_data"
    },
    {
     "data": {
      "text/html": [
       "<pre style=\"white-space:pre;overflow-x:auto;line-height:normal;font-family:Menlo,'DejaVu Sans Mono',consolas,'Courier New',monospace\"><span style=\"font-weight: bold\">╭───────── Invalid Outputs Analysis ──────────╮</span>\n",
       "<span style=\"font-weight: bold\">│</span>                                             <span style=\"font-weight: bold\">│</span>\n",
       "<span style=\"font-weight: bold\">│</span> No invalid outputs found in this iteration. <span style=\"font-weight: bold\">│</span>\n",
       "<span style=\"font-weight: bold\">│</span>                                             <span style=\"font-weight: bold\">│</span>\n",
       "<span style=\"font-weight: bold\">╰─────────────────────────────────────────────╯</span>\n",
       "</pre>\n"
      ],
      "text/plain": [
       "\u001b[1m╭─\u001b[0m\u001b[1m────────\u001b[0m\u001b[1m Invalid Outputs Analysis \u001b[0m\u001b[1m─────────\u001b[0m\u001b[1m─╮\u001b[0m\n",
       "\u001b[1m│\u001b[0m                                             \u001b[1m│\u001b[0m\n",
       "\u001b[1m│\u001b[0m No invalid outputs found in this iteration. \u001b[1m│\u001b[0m\n",
       "\u001b[1m│\u001b[0m                                             \u001b[1m│\u001b[0m\n",
       "\u001b[1m╰─────────────────────────────────────────────╯\u001b[0m\n"
      ]
     },
     "metadata": {},
     "output_type": "display_data"
    },
    {
     "name": "stdout",
     "output_type": "stream",
     "text": [
      "\n",
      "Iteration 2/3\n"
     ]
    },
    {
     "data": {
      "text/html": [
       "<pre style=\"white-space:pre;overflow-x:auto;line-height:normal;font-family:Menlo,'DejaVu Sans Mono',consolas,'Courier New',monospace\"><span style=\"color: #000080; text-decoration-color: #000080\">╭────────────────────────────────────────────── Current Full Prompt ──────────────────────────────────────────────╮</span>\n",
       "<span style=\"color: #000080; text-decoration-color: #000080\">│</span> You are a sentiment analysis classifier. Determine whether the provided text expresses a positive sentiment.    <span style=\"color: #000080; text-decoration-color: #000080\">│</span>\n",
       "<span style=\"color: #000080; text-decoration-color: #000080\">│</span> Analyze the text step by step, focusing on identifying positive language, emotional engagement, ratings, and    <span style=\"color: #000080; text-decoration-color: #000080\">│</span>\n",
       "<span style=\"color: #000080; text-decoration-color: #000080\">│</span> any defensive stances against criticism. Pay attention to nuanced expressions of enjoyment, even in critical    <span style=\"color: #000080; text-decoration-color: #000080\">│</span>\n",
       "<span style=\"color: #000080; text-decoration-color: #000080\">│</span> contexts, and recognize humor as a potential indicator of positive sentiment. After your analysis, respond with <span style=\"color: #000080; text-decoration-color: #000080\">│</span>\n",
       "<span style=\"color: #000080; text-decoration-color: #000080\">│</span> a STRICT JSON dictionary containing two keys: \"chain_of_thought\" (your detailed step-by-step reasoning) and     <span style=\"color: #000080; text-decoration-color: #000080\">│</span>\n",
       "<span style=\"color: #000080; text-decoration-color: #000080\">│</span> \"classification\" (1 for positive, 0 for negative).                                                              <span style=\"color: #000080; text-decoration-color: #000080\">│</span>\n",
       "<span style=\"color: #000080; text-decoration-color: #000080\">│</span>                                                                                                                 <span style=\"color: #000080; text-decoration-color: #000080\">│</span>\n",
       "<span style=\"color: #000080; text-decoration-color: #000080\">│</span> Provide your response as a JSON dictionary with the following structure:                                        <span style=\"color: #000080; text-decoration-color: #000080\">│</span>\n",
       "<span style=\"color: #000080; text-decoration-color: #000080\">│</span> {                                                                                                               <span style=\"color: #000080; text-decoration-color: #000080\">│</span>\n",
       "<span style=\"color: #000080; text-decoration-color: #000080\">│</span>     \"chain_of_thought\": \"Your step-by-step reasoning here\",                                                     <span style=\"color: #000080; text-decoration-color: #000080\">│</span>\n",
       "<span style=\"color: #000080; text-decoration-color: #000080\">│</span>     \"classification\": 0 or 1                                                                                    <span style=\"color: #000080; text-decoration-color: #000080\">│</span>\n",
       "<span style=\"color: #000080; text-decoration-color: #000080\">│</span> }                                                                                                               <span style=\"color: #000080; text-decoration-color: #000080\">│</span>\n",
       "<span style=\"color: #000080; text-decoration-color: #000080\">│</span> Ensure that \"chain_of_thought\" contains your detailed analysis, and \"classification\" is strictly 0 or 1.        <span style=\"color: #000080; text-decoration-color: #000080\">│</span>\n",
       "<span style=\"color: #000080; text-decoration-color: #000080\">╰─────────────────────────────────────────────────────────────────────────────────────────────────────────────────╯</span>\n",
       "</pre>\n"
      ],
      "text/plain": [
       "\u001b[34m╭─\u001b[0m\u001b[34m─────────────────────────────────────────────\u001b[0m\u001b[34m Current Full Prompt \u001b[0m\u001b[34m─────────────────────────────────────────────\u001b[0m\u001b[34m─╮\u001b[0m\n",
       "\u001b[34m│\u001b[0m You are a sentiment analysis classifier. Determine whether the provided text expresses a positive sentiment.    \u001b[34m│\u001b[0m\n",
       "\u001b[34m│\u001b[0m Analyze the text step by step, focusing on identifying positive language, emotional engagement, ratings, and    \u001b[34m│\u001b[0m\n",
       "\u001b[34m│\u001b[0m any defensive stances against criticism. Pay attention to nuanced expressions of enjoyment, even in critical    \u001b[34m│\u001b[0m\n",
       "\u001b[34m│\u001b[0m contexts, and recognize humor as a potential indicator of positive sentiment. After your analysis, respond with \u001b[34m│\u001b[0m\n",
       "\u001b[34m│\u001b[0m a STRICT JSON dictionary containing two keys: \"chain_of_thought\" (your detailed step-by-step reasoning) and     \u001b[34m│\u001b[0m\n",
       "\u001b[34m│\u001b[0m \"classification\" (1 for positive, 0 for negative).                                                              \u001b[34m│\u001b[0m\n",
       "\u001b[34m│\u001b[0m                                                                                                                 \u001b[34m│\u001b[0m\n",
       "\u001b[34m│\u001b[0m Provide your response as a JSON dictionary with the following structure:                                        \u001b[34m│\u001b[0m\n",
       "\u001b[34m│\u001b[0m {                                                                                                               \u001b[34m│\u001b[0m\n",
       "\u001b[34m│\u001b[0m     \"chain_of_thought\": \"Your step-by-step reasoning here\",                                                     \u001b[34m│\u001b[0m\n",
       "\u001b[34m│\u001b[0m     \"classification\": 0 or 1                                                                                    \u001b[34m│\u001b[0m\n",
       "\u001b[34m│\u001b[0m }                                                                                                               \u001b[34m│\u001b[0m\n",
       "\u001b[34m│\u001b[0m Ensure that \"chain_of_thought\" contains your detailed analysis, and \"classification\" is strictly 0 or 1.        \u001b[34m│\u001b[0m\n",
       "\u001b[34m╰─────────────────────────────────────────────────────────────────────────────────────────────────────────────────╯\u001b[0m\n"
      ]
     },
     "metadata": {},
     "output_type": "display_data"
    },
    {
     "name": "stdout",
     "output_type": "stream",
     "text": [
      "-----------------------------------\n",
      "Processing text 1/10 .....\n",
      "Prediction 1/10: 1 | Ground Truth: 1 ✅ (TP)\n",
      "-----------------------------------\n",
      "Processing text 2/10 .....\n",
      "Prediction 2/10: 0 | Ground Truth: 0 ✅ (TN)\n",
      "-----------------------------------\n",
      "Processing text 3/10 .....\n",
      "Prediction 3/10: 1 | Ground Truth: 1 ✅ (TP)\n",
      "-----------------------------------\n",
      "Processing text 4/10 .....\n",
      "Prediction 4/10: 1 | Ground Truth: 0 ❌ (FP)\n",
      "-----------------------------------\n",
      "Processing text 5/10 .....\n",
      "Prediction 5/10: 1 | Ground Truth: 1 ✅ (TP)\n",
      "-----------------------------------\n",
      "Processing text 6/10 .....\n",
      "Prediction 6/10: 1 | Ground Truth: 0 ❌ (FP)\n",
      "-----------------------------------\n",
      "Processing text 7/10 .....\n",
      "Prediction 7/10: 1 | Ground Truth: 1 ✅ (TP)\n",
      "-----------------------------------\n",
      "Processing text 8/10 .....\n",
      "Prediction 8/10: 0 | Ground Truth: 0 ✅ (TN)\n",
      "-----------------------------------\n",
      "Processing text 9/10 .....\n",
      "Prediction 9/10: 0 | Ground Truth: 0 ✅ (TN)\n",
      "-----------------------------------\n",
      "Processing text 10/10 .....\n",
      "Prediction 10/10: 1 | Ground Truth: 1 ✅ (TP)\n"
     ]
    },
    {
     "data": {
      "text/html": [
       "<pre style=\"white-space:pre;overflow-x:auto;line-height:normal;font-family:Menlo,'DejaVu Sans Mono',consolas,'Courier New',monospace\"><span style=\"font-style: italic\">Evaluation Metrics - Iteration 2</span>\n",
       "┏━━━━━━━━━━━━━━━━━━━━━┳━━━━━━━━┓\n",
       "┃<span style=\"font-weight: bold\"> Metric              </span>┃<span style=\"font-weight: bold\">  Value </span>┃\n",
       "┡━━━━━━━━━━━━━━━━━━━━━╇━━━━━━━━┩\n",
       "│ Precision           │ 0.7143 │\n",
       "│ Recall              │ 1.0000 │\n",
       "│ Accuracy            │ 0.8000 │\n",
       "│ F1-score            │ 0.8333 │\n",
       "│<span style=\"color: #7f7f7f; text-decoration-color: #7f7f7f\">                     </span>│<span style=\"color: #7f7f7f; text-decoration-color: #7f7f7f\">        </span>│\n",
       "├─────────────────────┼────────┤\n",
       "│ Valid Predictions   │     10 │\n",
       "│ Invalid Predictions │      0 │\n",
       "└─────────────────────┴────────┘\n",
       "</pre>\n"
      ],
      "text/plain": [
       "\u001b[3mEvaluation Metrics - Iteration 2\u001b[0m\n",
       "┏━━━━━━━━━━━━━━━━━━━━━┳━━━━━━━━┓\n",
       "┃\u001b[1m \u001b[0m\u001b[1mMetric             \u001b[0m\u001b[1m \u001b[0m┃\u001b[1m \u001b[0m\u001b[1m Value\u001b[0m\u001b[1m \u001b[0m┃\n",
       "┡━━━━━━━━━━━━━━━━━━━━━╇━━━━━━━━┩\n",
       "│ Precision           │ 0.7143 │\n",
       "│ Recall              │ 1.0000 │\n",
       "│ Accuracy            │ 0.8000 │\n",
       "│ F1-score            │ 0.8333 │\n",
       "│\u001b[2m \u001b[0m\u001b[2m                   \u001b[0m\u001b[2m \u001b[0m│\u001b[2m \u001b[0m\u001b[2m      \u001b[0m\u001b[2m \u001b[0m│\n",
       "├─────────────────────┼────────┤\n",
       "│ Valid Predictions   │     10 │\n",
       "│ Invalid Predictions │      0 │\n",
       "└─────────────────────┴────────┘\n"
      ]
     },
     "metadata": {},
     "output_type": "display_data"
    },
    {
     "data": {
      "text/html": [
       "<pre style=\"white-space:pre;overflow-x:auto;line-height:normal;font-family:Menlo,'DejaVu Sans Mono',consolas,'Courier New',monospace\"><span style=\"font-style: italic\">   Confusion Matrix    </span>\n",
       "┏━━━━━━━━━━━━━┳━━━┳━━━┓\n",
       "┃<span style=\"font-weight: bold\"> True↓/Pred→ </span>┃<span style=\"font-weight: bold\"> 0 </span>┃<span style=\"font-weight: bold\"> 1 </span>┃\n",
       "┡━━━━━━━━━━━━━╇━━━╇━━━┩\n",
       "│ 0           │ <span style=\"font-weight: bold\">3</span> │ 2 │\n",
       "├─────────────┼───┼───┤\n",
       "│ 1           │ 0 │ <span style=\"font-weight: bold\">5</span> │\n",
       "└─────────────┴───┴───┘\n",
       "</pre>\n"
      ],
      "text/plain": [
       "\u001b[3m   Confusion Matrix    \u001b[0m\n",
       "┏━━━━━━━━━━━━━┳━━━┳━━━┓\n",
       "┃\u001b[1m \u001b[0m\u001b[1mTrue↓/Pred→\u001b[0m\u001b[1m \u001b[0m┃\u001b[1m \u001b[0m\u001b[1m0\u001b[0m\u001b[1m \u001b[0m┃\u001b[1m \u001b[0m\u001b[1m1\u001b[0m\u001b[1m \u001b[0m┃\n",
       "┡━━━━━━━━━━━━━╇━━━╇━━━┩\n",
       "│ 0           │ \u001b[1m3\u001b[0m │ 2 │\n",
       "├─────────────┼───┼───┤\n",
       "│ 1           │ 0 │ \u001b[1m5\u001b[0m │\n",
       "└─────────────┴───┴───┘\n"
      ]
     },
     "metadata": {},
     "output_type": "display_data"
    },
    {
     "name": "stdout",
     "output_type": "stream",
     "text": [
      "\n",
      "\n",
      "Analyzing misclassifications, true positives, and invalid outputs...\n"
     ]
    },
    {
     "data": {
      "text/html": [
       "<pre style=\"white-space:pre;overflow-x:auto;line-height:normal;font-family:Menlo,'DejaVu Sans Mono',consolas,'Courier New',monospace\"><span style=\"font-weight: bold\">╭─────────────────────────────────────────── False Positives Analysis ────────────────────────────────────────────╮</span>\n",
       "<span style=\"font-weight: bold\">│</span>                                                                                                                 <span style=\"font-weight: bold\">│</span>\n",
       "<span style=\"font-weight: bold\">│</span> 1. **Ambiguous Sentiment Indicators**: Both texts contain mixed sentiments where the authors express negative   <span style=\"font-weight: bold\">│</span>\n",
       "<span style=\"font-weight: bold\">│</span> views about the films' quality but also highlight aspects that could be perceived as enjoyable. The classifier  <span style=\"font-weight: bold\">│</span>\n",
       "<span style=\"font-weight: bold\">│</span> should improve its ability to discern when enjoyment is derived from irony or absurdity, as this can lead to    <span style=\"font-weight: bold\">│</span>\n",
       "<span style=\"font-weight: bold\">│</span> misclassification.                                                                                              <span style=\"font-weight: bold\">│</span>\n",
       "<span style=\"font-weight: bold\">│</span>                                                                                                                 <span style=\"font-weight: bold\">│</span>\n",
       "<span style=\"font-weight: bold\">│</span> 2. **Contextual Nuance**: The analysis in both cases recognizes humor and sarcasm, which can indicate positive  <span style=\"font-weight: bold\">│</span>\n",
       "<span style=\"font-weight: bold\">│</span> sentiment. However, the classifier may benefit from a more nuanced understanding of context, particularly in    <span style=\"font-weight: bold\">│</span>\n",
       "<span style=\"font-weight: bold\">│</span> recognizing when humor is used to critique rather than endorse. This could help avoid false positives in        <span style=\"font-weight: bold\">│</span>\n",
       "<span style=\"font-weight: bold\">│</span> similar scenarios.                                                                                              <span style=\"font-weight: bold\">│</span>\n",
       "<span style=\"font-weight: bold\">│</span>                                                                                                                 <span style=\"font-weight: bold\">│</span>\n",
       "<span style=\"font-weight: bold\">│</span> 3. **Emotional Engagement vs. Critique**: The texts reflect emotional engagement through recommendations and    <span style=\"font-weight: bold\">│</span>\n",
       "<span style=\"font-weight: bold\">│</span> personal reflections, but they are also heavily critical. The classifier should weigh emotional engagement      <span style=\"font-weight: bold\">│</span>\n",
       "<span style=\"font-weight: bold\">│</span> against the overall critical tone more effectively, ensuring that positive recommendations do not outweigh      <span style=\"font-weight: bold\">│</span>\n",
       "<span style=\"font-weight: bold\">│</span> significant negative commentary.                                                                                <span style=\"font-weight: bold\">│</span>\n",
       "<span style=\"font-weight: bold\">│</span>                                                                                                                 <span style=\"font-weight: bold\">│</span>\n",
       "<span style=\"font-weight: bold\">│</span> 4. **Explicit Language Cues**: The use of explicit negative descriptors (e.g., \"cheap,\" \"awful\") should carry   <span style=\"font-weight: bold\">│</span>\n",
       "<span style=\"font-weight: bold\">│</span> more weight in the classification process. The classifier should prioritize these indicators when they are      <span style=\"font-weight: bold\">│</span>\n",
       "<span style=\"font-weight: bold\">│</span> prominent, even if there are some positive remarks, to reduce the likelihood of misclassification.              <span style=\"font-weight: bold\">│</span>\n",
       "<span style=\"font-weight: bold\">│</span>                                                                                                                 <span style=\"font-weight: bold\">│</span>\n",
       "<span style=\"font-weight: bold\">│</span> 5. **Recommendation Weighting**: The presence of a recommendation does not inherently indicate positive         <span style=\"font-weight: bold\">│</span>\n",
       "<span style=\"font-weight: bold\">│</span> sentiment, especially when it is framed within a context of critique. The classifier should develop a mechanism <span style=\"font-weight: bold\">│</span>\n",
       "<span style=\"font-weight: bold\">│</span> to assess the strength and context of recommendations, ensuring they are not overvalued in the sentiment        <span style=\"font-weight: bold\">│</span>\n",
       "<span style=\"font-weight: bold\">│</span> analysis.                                                                                                       <span style=\"font-weight: bold\">│</span>\n",
       "<span style=\"font-weight: bold\">│</span>                                                                                                                 <span style=\"font-weight: bold\">│</span>\n",
       "<span style=\"font-weight: bold\">│</span> By addressing these key points, the classifier can enhance its precision and reduce the occurrence of false     <span style=\"font-weight: bold\">│</span>\n",
       "<span style=\"font-weight: bold\">│</span> positives in sentiment analysis.                                                                                <span style=\"font-weight: bold\">│</span>\n",
       "<span style=\"font-weight: bold\">│</span>                                                                                                                 <span style=\"font-weight: bold\">│</span>\n",
       "<span style=\"font-weight: bold\">╰─────────────────────────────────────────────────────────────────────────────────────────────────────────────────╯</span>\n",
       "</pre>\n"
      ],
      "text/plain": [
       "\u001b[1m╭─\u001b[0m\u001b[1m──────────────────────────────────────────\u001b[0m\u001b[1m False Positives Analysis \u001b[0m\u001b[1m───────────────────────────────────────────\u001b[0m\u001b[1m─╮\u001b[0m\n",
       "\u001b[1m│\u001b[0m                                                                                                                 \u001b[1m│\u001b[0m\n",
       "\u001b[1m│\u001b[0m 1. **Ambiguous Sentiment Indicators**: Both texts contain mixed sentiments where the authors express negative   \u001b[1m│\u001b[0m\n",
       "\u001b[1m│\u001b[0m views about the films' quality but also highlight aspects that could be perceived as enjoyable. The classifier  \u001b[1m│\u001b[0m\n",
       "\u001b[1m│\u001b[0m should improve its ability to discern when enjoyment is derived from irony or absurdity, as this can lead to    \u001b[1m│\u001b[0m\n",
       "\u001b[1m│\u001b[0m misclassification.                                                                                              \u001b[1m│\u001b[0m\n",
       "\u001b[1m│\u001b[0m                                                                                                                 \u001b[1m│\u001b[0m\n",
       "\u001b[1m│\u001b[0m 2. **Contextual Nuance**: The analysis in both cases recognizes humor and sarcasm, which can indicate positive  \u001b[1m│\u001b[0m\n",
       "\u001b[1m│\u001b[0m sentiment. However, the classifier may benefit from a more nuanced understanding of context, particularly in    \u001b[1m│\u001b[0m\n",
       "\u001b[1m│\u001b[0m recognizing when humor is used to critique rather than endorse. This could help avoid false positives in        \u001b[1m│\u001b[0m\n",
       "\u001b[1m│\u001b[0m similar scenarios.                                                                                              \u001b[1m│\u001b[0m\n",
       "\u001b[1m│\u001b[0m                                                                                                                 \u001b[1m│\u001b[0m\n",
       "\u001b[1m│\u001b[0m 3. **Emotional Engagement vs. Critique**: The texts reflect emotional engagement through recommendations and    \u001b[1m│\u001b[0m\n",
       "\u001b[1m│\u001b[0m personal reflections, but they are also heavily critical. The classifier should weigh emotional engagement      \u001b[1m│\u001b[0m\n",
       "\u001b[1m│\u001b[0m against the overall critical tone more effectively, ensuring that positive recommendations do not outweigh      \u001b[1m│\u001b[0m\n",
       "\u001b[1m│\u001b[0m significant negative commentary.                                                                                \u001b[1m│\u001b[0m\n",
       "\u001b[1m│\u001b[0m                                                                                                                 \u001b[1m│\u001b[0m\n",
       "\u001b[1m│\u001b[0m 4. **Explicit Language Cues**: The use of explicit negative descriptors (e.g., \"cheap,\" \"awful\") should carry   \u001b[1m│\u001b[0m\n",
       "\u001b[1m│\u001b[0m more weight in the classification process. The classifier should prioritize these indicators when they are      \u001b[1m│\u001b[0m\n",
       "\u001b[1m│\u001b[0m prominent, even if there are some positive remarks, to reduce the likelihood of misclassification.              \u001b[1m│\u001b[0m\n",
       "\u001b[1m│\u001b[0m                                                                                                                 \u001b[1m│\u001b[0m\n",
       "\u001b[1m│\u001b[0m 5. **Recommendation Weighting**: The presence of a recommendation does not inherently indicate positive         \u001b[1m│\u001b[0m\n",
       "\u001b[1m│\u001b[0m sentiment, especially when it is framed within a context of critique. The classifier should develop a mechanism \u001b[1m│\u001b[0m\n",
       "\u001b[1m│\u001b[0m to assess the strength and context of recommendations, ensuring they are not overvalued in the sentiment        \u001b[1m│\u001b[0m\n",
       "\u001b[1m│\u001b[0m analysis.                                                                                                       \u001b[1m│\u001b[0m\n",
       "\u001b[1m│\u001b[0m                                                                                                                 \u001b[1m│\u001b[0m\n",
       "\u001b[1m│\u001b[0m By addressing these key points, the classifier can enhance its precision and reduce the occurrence of false     \u001b[1m│\u001b[0m\n",
       "\u001b[1m│\u001b[0m positives in sentiment analysis.                                                                                \u001b[1m│\u001b[0m\n",
       "\u001b[1m│\u001b[0m                                                                                                                 \u001b[1m│\u001b[0m\n",
       "\u001b[1m╰─────────────────────────────────────────────────────────────────────────────────────────────────────────────────╯\u001b[0m\n"
      ]
     },
     "metadata": {},
     "output_type": "display_data"
    },
    {
     "data": {
      "text/html": [
       "<pre style=\"white-space:pre;overflow-x:auto;line-height:normal;font-family:Menlo,'DejaVu Sans Mono',consolas,'Courier New',monospace\"><span style=\"font-weight: bold\">╭───────── False Negatives Analysis ──────────╮</span>\n",
       "<span style=\"font-weight: bold\">│</span>                                             <span style=\"font-weight: bold\">│</span>\n",
       "<span style=\"font-weight: bold\">│</span> No false negatives found in this iteration. <span style=\"font-weight: bold\">│</span>\n",
       "<span style=\"font-weight: bold\">│</span>                                             <span style=\"font-weight: bold\">│</span>\n",
       "<span style=\"font-weight: bold\">╰─────────────────────────────────────────────╯</span>\n",
       "</pre>\n"
      ],
      "text/plain": [
       "\u001b[1m╭─\u001b[0m\u001b[1m────────\u001b[0m\u001b[1m False Negatives Analysis \u001b[0m\u001b[1m─────────\u001b[0m\u001b[1m─╮\u001b[0m\n",
       "\u001b[1m│\u001b[0m                                             \u001b[1m│\u001b[0m\n",
       "\u001b[1m│\u001b[0m No false negatives found in this iteration. \u001b[1m│\u001b[0m\n",
       "\u001b[1m│\u001b[0m                                             \u001b[1m│\u001b[0m\n",
       "\u001b[1m╰─────────────────────────────────────────────╯\u001b[0m\n"
      ]
     },
     "metadata": {},
     "output_type": "display_data"
    },
    {
     "data": {
      "text/html": [
       "<pre style=\"white-space:pre;overflow-x:auto;line-height:normal;font-family:Menlo,'DejaVu Sans Mono',consolas,'Courier New',monospace\"><span style=\"font-weight: bold\">╭──────────────────────────────────────────── True Positives Analysis ────────────────────────────────────────────╮</span>\n",
       "<span style=\"font-weight: bold\">│</span>                                                                                                                 <span style=\"font-weight: bold\">│</span>\n",
       "<span style=\"font-weight: bold\">│</span> 1. **Emotional Engagement and Nostalgia**: Many true positive examples exhibit strong emotional engagement,     <span style=\"font-weight: bold\">│</span>\n",
       "<span style=\"font-weight: bold\">│</span> often through nostalgia or personal connection to the subject matter. Phrases like \"I loved\" and \"I was still   <span style=\"font-weight: bold\">│</span>\n",
       "<span style=\"font-weight: bold\">│</span> on the floors laughing\" indicate a deep affection for the content. Reinforcing this pattern could involve       <span style=\"font-weight: bold\">│</span>\n",
       "<span style=\"font-weight: bold\">│</span> training the model to recognize expressions of nostalgia and personal enjoyment as strong indicators of         <span style=\"font-weight: bold\">│</span>\n",
       "<span style=\"font-weight: bold\">│</span> positive sentiment.                                                                                             <span style=\"font-weight: bold\">│</span>\n",
       "<span style=\"font-weight: bold\">│</span>                                                                                                                 <span style=\"font-weight: bold\">│</span>\n",
       "<span style=\"font-weight: bold\">│</span> 2. **Positive Descriptors and Ratings**: The use of explicit positive language and high ratings (e.g., \"10/10\", <span style=\"font-weight: bold\">│</span>\n",
       "<span style=\"font-weight: bold\">│</span> \"excellent quality\") consistently appears in true positives. These descriptors serve as clear signals of        <span style=\"font-weight: bold\">│</span>\n",
       "<span style=\"font-weight: bold\">│</span> positive sentiment. To enhance this pattern, the model could be fine-tuned to prioritize the identification of  <span style=\"font-weight: bold\">│</span>\n",
       "<span style=\"font-weight: bold\">│</span> positive adjectives and numerical ratings in the text.                                                          <span style=\"font-weight: bold\">│</span>\n",
       "<span style=\"font-weight: bold\">│</span>                                                                                                                 <span style=\"font-weight: bold\">│</span>\n",
       "<span style=\"font-weight: bold\">│</span> 3. **Humor and Light-hearted Critique**: Several examples incorporate humor or a light-hearted critique of      <span style=\"font-weight: bold\">│</span>\n",
       "<span style=\"font-weight: bold\">│</span> flaws, suggesting that even when the text contains criticism, it can still convey a positive sentiment.         <span style=\"font-weight: bold\">│</span>\n",
       "<span style=\"font-weight: bold\">│</span> Recognizing humor as a nuanced expression of enjoyment can help the model classify similar texts more           <span style=\"font-weight: bold\">│</span>\n",
       "<span style=\"font-weight: bold\">│</span> accurately. Training on a wider range of humorous expressions could strengthen this capability.                 <span style=\"font-weight: bold\">│</span>\n",
       "<span style=\"font-weight: bold\">│</span>                                                                                                                 <span style=\"font-weight: bold\">│</span>\n",
       "<span style=\"font-weight: bold\">│</span> 4. **Defensive Stances Against Criticism**: True positives often include a defense of the subject against       <span style=\"font-weight: bold\">│</span>\n",
       "<span style=\"font-weight: bold\">│</span> common criticisms, indicating a strong attachment or appreciation. Phrases like \"they did the best they could   <span style=\"font-weight: bold\">│</span>\n",
       "<span style=\"font-weight: bold\">│</span> do\" show a protective sentiment. The model could benefit from learning to identify defensive language as a      <span style=\"font-weight: bold\">│</span>\n",
       "<span style=\"font-weight: bold\">│</span> potential indicator of positive sentiment.                                                                      <span style=\"font-weight: bold\">│</span>\n",
       "<span style=\"font-weight: bold\">│</span>                                                                                                                 <span style=\"font-weight: bold\">│</span>\n",
       "<span style=\"font-weight: bold\">│</span> 5. **Overall Tone and Context**: The overall tone of the text is crucial in determining sentiment. True         <span style=\"font-weight: bold\">│</span>\n",
       "<span style=\"font-weight: bold\">│</span> positives maintain a generally positive tone, even when discussing negative aspects. The model should be        <span style=\"font-weight: bold\">│</span>\n",
       "<span style=\"font-weight: bold\">│</span> trained to assess the overall tone and context of the text, rather than focusing solely on isolated phrases, to <span style=\"font-weight: bold\">│</span>\n",
       "<span style=\"font-weight: bold\">│</span> improve classification accuracy.                                                                                <span style=\"font-weight: bold\">│</span>\n",
       "<span style=\"font-weight: bold\">│</span>                                                                                                                 <span style=\"font-weight: bold\">│</span>\n",
       "<span style=\"font-weight: bold\">│</span> By focusing on these key elements, the model can enhance its ability to classify texts accurately, particularly <span style=\"font-weight: bold\">│</span>\n",
       "<span style=\"font-weight: bold\">│</span> in nuanced contexts where sentiment may not be overtly expressed.                                               <span style=\"font-weight: bold\">│</span>\n",
       "<span style=\"font-weight: bold\">│</span>                                                                                                                 <span style=\"font-weight: bold\">│</span>\n",
       "<span style=\"font-weight: bold\">╰─────────────────────────────────────────────────────────────────────────────────────────────────────────────────╯</span>\n",
       "</pre>\n"
      ],
      "text/plain": [
       "\u001b[1m╭─\u001b[0m\u001b[1m───────────────────────────────────────────\u001b[0m\u001b[1m True Positives Analysis \u001b[0m\u001b[1m───────────────────────────────────────────\u001b[0m\u001b[1m─╮\u001b[0m\n",
       "\u001b[1m│\u001b[0m                                                                                                                 \u001b[1m│\u001b[0m\n",
       "\u001b[1m│\u001b[0m 1. **Emotional Engagement and Nostalgia**: Many true positive examples exhibit strong emotional engagement,     \u001b[1m│\u001b[0m\n",
       "\u001b[1m│\u001b[0m often through nostalgia or personal connection to the subject matter. Phrases like \"I loved\" and \"I was still   \u001b[1m│\u001b[0m\n",
       "\u001b[1m│\u001b[0m on the floors laughing\" indicate a deep affection for the content. Reinforcing this pattern could involve       \u001b[1m│\u001b[0m\n",
       "\u001b[1m│\u001b[0m training the model to recognize expressions of nostalgia and personal enjoyment as strong indicators of         \u001b[1m│\u001b[0m\n",
       "\u001b[1m│\u001b[0m positive sentiment.                                                                                             \u001b[1m│\u001b[0m\n",
       "\u001b[1m│\u001b[0m                                                                                                                 \u001b[1m│\u001b[0m\n",
       "\u001b[1m│\u001b[0m 2. **Positive Descriptors and Ratings**: The use of explicit positive language and high ratings (e.g., \"10/10\", \u001b[1m│\u001b[0m\n",
       "\u001b[1m│\u001b[0m \"excellent quality\") consistently appears in true positives. These descriptors serve as clear signals of        \u001b[1m│\u001b[0m\n",
       "\u001b[1m│\u001b[0m positive sentiment. To enhance this pattern, the model could be fine-tuned to prioritize the identification of  \u001b[1m│\u001b[0m\n",
       "\u001b[1m│\u001b[0m positive adjectives and numerical ratings in the text.                                                          \u001b[1m│\u001b[0m\n",
       "\u001b[1m│\u001b[0m                                                                                                                 \u001b[1m│\u001b[0m\n",
       "\u001b[1m│\u001b[0m 3. **Humor and Light-hearted Critique**: Several examples incorporate humor or a light-hearted critique of      \u001b[1m│\u001b[0m\n",
       "\u001b[1m│\u001b[0m flaws, suggesting that even when the text contains criticism, it can still convey a positive sentiment.         \u001b[1m│\u001b[0m\n",
       "\u001b[1m│\u001b[0m Recognizing humor as a nuanced expression of enjoyment can help the model classify similar texts more           \u001b[1m│\u001b[0m\n",
       "\u001b[1m│\u001b[0m accurately. Training on a wider range of humorous expressions could strengthen this capability.                 \u001b[1m│\u001b[0m\n",
       "\u001b[1m│\u001b[0m                                                                                                                 \u001b[1m│\u001b[0m\n",
       "\u001b[1m│\u001b[0m 4. **Defensive Stances Against Criticism**: True positives often include a defense of the subject against       \u001b[1m│\u001b[0m\n",
       "\u001b[1m│\u001b[0m common criticisms, indicating a strong attachment or appreciation. Phrases like \"they did the best they could   \u001b[1m│\u001b[0m\n",
       "\u001b[1m│\u001b[0m do\" show a protective sentiment. The model could benefit from learning to identify defensive language as a      \u001b[1m│\u001b[0m\n",
       "\u001b[1m│\u001b[0m potential indicator of positive sentiment.                                                                      \u001b[1m│\u001b[0m\n",
       "\u001b[1m│\u001b[0m                                                                                                                 \u001b[1m│\u001b[0m\n",
       "\u001b[1m│\u001b[0m 5. **Overall Tone and Context**: The overall tone of the text is crucial in determining sentiment. True         \u001b[1m│\u001b[0m\n",
       "\u001b[1m│\u001b[0m positives maintain a generally positive tone, even when discussing negative aspects. The model should be        \u001b[1m│\u001b[0m\n",
       "\u001b[1m│\u001b[0m trained to assess the overall tone and context of the text, rather than focusing solely on isolated phrases, to \u001b[1m│\u001b[0m\n",
       "\u001b[1m│\u001b[0m improve classification accuracy.                                                                                \u001b[1m│\u001b[0m\n",
       "\u001b[1m│\u001b[0m                                                                                                                 \u001b[1m│\u001b[0m\n",
       "\u001b[1m│\u001b[0m By focusing on these key elements, the model can enhance its ability to classify texts accurately, particularly \u001b[1m│\u001b[0m\n",
       "\u001b[1m│\u001b[0m in nuanced contexts where sentiment may not be overtly expressed.                                               \u001b[1m│\u001b[0m\n",
       "\u001b[1m│\u001b[0m                                                                                                                 \u001b[1m│\u001b[0m\n",
       "\u001b[1m╰─────────────────────────────────────────────────────────────────────────────────────────────────────────────────╯\u001b[0m\n"
      ]
     },
     "metadata": {},
     "output_type": "display_data"
    },
    {
     "data": {
      "text/html": [
       "<pre style=\"white-space:pre;overflow-x:auto;line-height:normal;font-family:Menlo,'DejaVu Sans Mono',consolas,'Courier New',monospace\"><span style=\"font-weight: bold\">╭───────── Invalid Outputs Analysis ──────────╮</span>\n",
       "<span style=\"font-weight: bold\">│</span>                                             <span style=\"font-weight: bold\">│</span>\n",
       "<span style=\"font-weight: bold\">│</span> No invalid outputs found in this iteration. <span style=\"font-weight: bold\">│</span>\n",
       "<span style=\"font-weight: bold\">│</span>                                             <span style=\"font-weight: bold\">│</span>\n",
       "<span style=\"font-weight: bold\">╰─────────────────────────────────────────────╯</span>\n",
       "</pre>\n"
      ],
      "text/plain": [
       "\u001b[1m╭─\u001b[0m\u001b[1m────────\u001b[0m\u001b[1m Invalid Outputs Analysis \u001b[0m\u001b[1m─────────\u001b[0m\u001b[1m─╮\u001b[0m\n",
       "\u001b[1m│\u001b[0m                                             \u001b[1m│\u001b[0m\n",
       "\u001b[1m│\u001b[0m No invalid outputs found in this iteration. \u001b[1m│\u001b[0m\n",
       "\u001b[1m│\u001b[0m                                             \u001b[1m│\u001b[0m\n",
       "\u001b[1m╰─────────────────────────────────────────────╯\u001b[0m\n"
      ]
     },
     "metadata": {},
     "output_type": "display_data"
    },
    {
     "name": "stdout",
     "output_type": "stream",
     "text": [
      "\n",
      "Iteration 3/3\n"
     ]
    },
    {
     "data": {
      "text/html": [
       "<pre style=\"white-space:pre;overflow-x:auto;line-height:normal;font-family:Menlo,'DejaVu Sans Mono',consolas,'Courier New',monospace\"><span style=\"color: #000080; text-decoration-color: #000080\">╭────────────────────────────────────────────── Current Full Prompt ──────────────────────────────────────────────╮</span>\n",
       "<span style=\"color: #000080; text-decoration-color: #000080\">│</span> You are a sentiment analysis classifier. Determine whether the provided text expresses a positive sentiment.    <span style=\"color: #000080; text-decoration-color: #000080\">│</span>\n",
       "<span style=\"color: #000080; text-decoration-color: #000080\">│</span> Analyze the text step by step, focusing on identifying positive language, emotional engagement, nostalgia,      <span style=\"color: #000080; text-decoration-color: #000080\">│</span>\n",
       "<span style=\"color: #000080; text-decoration-color: #000080\">│</span> explicit positive descriptors, humor, and any defensive stances against criticism. Be cautious of ambiguous     <span style=\"color: #000080; text-decoration-color: #000080\">│</span>\n",
       "<span style=\"color: #000080; text-decoration-color: #000080\">│</span> sentiment indicators and ensure that positive remarks do not outweigh significant negative commentary. After    <span style=\"color: #000080; text-decoration-color: #000080\">│</span>\n",
       "<span style=\"color: #000080; text-decoration-color: #000080\">│</span> your analysis, respond with a STRICT JSON dictionary containing two keys: \"chain_of_thought\" (your detailed     <span style=\"color: #000080; text-decoration-color: #000080\">│</span>\n",
       "<span style=\"color: #000080; text-decoration-color: #000080\">│</span> step-by-step reasoning) and \"classification\" (1 for positive, 0 for negative).                                  <span style=\"color: #000080; text-decoration-color: #000080\">│</span>\n",
       "<span style=\"color: #000080; text-decoration-color: #000080\">│</span>                                                                                                                 <span style=\"color: #000080; text-decoration-color: #000080\">│</span>\n",
       "<span style=\"color: #000080; text-decoration-color: #000080\">│</span> Provide your response as a JSON dictionary with the following structure:                                        <span style=\"color: #000080; text-decoration-color: #000080\">│</span>\n",
       "<span style=\"color: #000080; text-decoration-color: #000080\">│</span> {                                                                                                               <span style=\"color: #000080; text-decoration-color: #000080\">│</span>\n",
       "<span style=\"color: #000080; text-decoration-color: #000080\">│</span>     \"chain_of_thought\": \"Your step-by-step reasoning here\",                                                     <span style=\"color: #000080; text-decoration-color: #000080\">│</span>\n",
       "<span style=\"color: #000080; text-decoration-color: #000080\">│</span>     \"classification\": 0 or 1                                                                                    <span style=\"color: #000080; text-decoration-color: #000080\">│</span>\n",
       "<span style=\"color: #000080; text-decoration-color: #000080\">│</span> }                                                                                                               <span style=\"color: #000080; text-decoration-color: #000080\">│</span>\n",
       "<span style=\"color: #000080; text-decoration-color: #000080\">│</span> Ensure that \"chain_of_thought\" contains your detailed analysis, and \"classification\" is strictly 0 or 1.        <span style=\"color: #000080; text-decoration-color: #000080\">│</span>\n",
       "<span style=\"color: #000080; text-decoration-color: #000080\">╰─────────────────────────────────────────────────────────────────────────────────────────────────────────────────╯</span>\n",
       "</pre>\n"
      ],
      "text/plain": [
       "\u001b[34m╭─\u001b[0m\u001b[34m─────────────────────────────────────────────\u001b[0m\u001b[34m Current Full Prompt \u001b[0m\u001b[34m─────────────────────────────────────────────\u001b[0m\u001b[34m─╮\u001b[0m\n",
       "\u001b[34m│\u001b[0m You are a sentiment analysis classifier. Determine whether the provided text expresses a positive sentiment.    \u001b[34m│\u001b[0m\n",
       "\u001b[34m│\u001b[0m Analyze the text step by step, focusing on identifying positive language, emotional engagement, nostalgia,      \u001b[34m│\u001b[0m\n",
       "\u001b[34m│\u001b[0m explicit positive descriptors, humor, and any defensive stances against criticism. Be cautious of ambiguous     \u001b[34m│\u001b[0m\n",
       "\u001b[34m│\u001b[0m sentiment indicators and ensure that positive remarks do not outweigh significant negative commentary. After    \u001b[34m│\u001b[0m\n",
       "\u001b[34m│\u001b[0m your analysis, respond with a STRICT JSON dictionary containing two keys: \"chain_of_thought\" (your detailed     \u001b[34m│\u001b[0m\n",
       "\u001b[34m│\u001b[0m step-by-step reasoning) and \"classification\" (1 for positive, 0 for negative).                                  \u001b[34m│\u001b[0m\n",
       "\u001b[34m│\u001b[0m                                                                                                                 \u001b[34m│\u001b[0m\n",
       "\u001b[34m│\u001b[0m Provide your response as a JSON dictionary with the following structure:                                        \u001b[34m│\u001b[0m\n",
       "\u001b[34m│\u001b[0m {                                                                                                               \u001b[34m│\u001b[0m\n",
       "\u001b[34m│\u001b[0m     \"chain_of_thought\": \"Your step-by-step reasoning here\",                                                     \u001b[34m│\u001b[0m\n",
       "\u001b[34m│\u001b[0m     \"classification\": 0 or 1                                                                                    \u001b[34m│\u001b[0m\n",
       "\u001b[34m│\u001b[0m }                                                                                                               \u001b[34m│\u001b[0m\n",
       "\u001b[34m│\u001b[0m Ensure that \"chain_of_thought\" contains your detailed analysis, and \"classification\" is strictly 0 or 1.        \u001b[34m│\u001b[0m\n",
       "\u001b[34m╰─────────────────────────────────────────────────────────────────────────────────────────────────────────────────╯\u001b[0m\n"
      ]
     },
     "metadata": {},
     "output_type": "display_data"
    },
    {
     "name": "stdout",
     "output_type": "stream",
     "text": [
      "-----------------------------------\n",
      "Processing text 1/10 .....\n",
      "Prediction 1/10: 0 | Ground Truth: 1 ❌ (FN)\n",
      "-----------------------------------\n",
      "Processing text 2/10 .....\n",
      "Prediction 2/10: 0 | Ground Truth: 0 ✅ (TN)\n",
      "-----------------------------------\n",
      "Processing text 3/10 .....\n",
      "Extracted value is None. Raw output: {\n",
      "    \"chain_of_thought\": \"The text begins with a nostalgic reflection on childhood, which sets a positive tone. The phrase 'I loved \"\n",
      "\n",
      "    \t}\n",
      "Prediction 3/10: None | Ground Truth: 1 🛠️ (Invalid Output Format) - Raw output: {    \"chain_of_thought\": \"The text begins with a nostalgic reflection on childhood, which sets a positive tone. The phrase 'I loved \"    \t}\n",
      "-----------------------------------\n",
      "Processing text 4/10 .....\n",
      "Prediction 4/10: 1 | Ground Truth: 0 ❌ (FP)\n",
      "-----------------------------------\n",
      "Processing text 5/10 .....\n",
      "Prediction 5/10: 1 | Ground Truth: 1 ✅ (TP)\n",
      "-----------------------------------\n",
      "Processing text 6/10 .....\n",
      "Prediction 6/10: 0 | Ground Truth: 0 ✅ (TN)\n",
      "-----------------------------------\n",
      "Processing text 7/10 .....\n",
      "Prediction 7/10: 1 | Ground Truth: 1 ✅ (TP)\n",
      "-----------------------------------\n",
      "Processing text 8/10 .....\n",
      "Prediction 8/10: 0 | Ground Truth: 0 ✅ (TN)\n",
      "-----------------------------------\n",
      "Processing text 9/10 .....\n",
      "Prediction 9/10: 0 | Ground Truth: 0 ✅ (TN)\n",
      "-----------------------------------\n",
      "Processing text 10/10 .....\n",
      "Prediction 10/10: 1 | Ground Truth: 1 ✅ (TP)\n"
     ]
    },
    {
     "data": {
      "text/html": [
       "<pre style=\"white-space:pre;overflow-x:auto;line-height:normal;font-family:Menlo,'DejaVu Sans Mono',consolas,'Courier New',monospace\"><span style=\"font-style: italic\">Evaluation Metrics - Iteration 3</span>\n",
       "┏━━━━━━━━━━━━━━━━━━━━━┳━━━━━━━━┓\n",
       "┃<span style=\"font-weight: bold\"> Metric              </span>┃<span style=\"font-weight: bold\">  Value </span>┃\n",
       "┡━━━━━━━━━━━━━━━━━━━━━╇━━━━━━━━┩\n",
       "│ Precision           │ 0.7500 │\n",
       "│ Recall              │ 0.7500 │\n",
       "│ Accuracy            │ 0.7778 │\n",
       "│ F1-score            │ 0.7500 │\n",
       "│<span style=\"color: #7f7f7f; text-decoration-color: #7f7f7f\">                     </span>│<span style=\"color: #7f7f7f; text-decoration-color: #7f7f7f\">        </span>│\n",
       "├─────────────────────┼────────┤\n",
       "│ Valid Predictions   │      9 │\n",
       "│ Invalid Predictions │      1 │\n",
       "└─────────────────────┴────────┘\n",
       "</pre>\n"
      ],
      "text/plain": [
       "\u001b[3mEvaluation Metrics - Iteration 3\u001b[0m\n",
       "┏━━━━━━━━━━━━━━━━━━━━━┳━━━━━━━━┓\n",
       "┃\u001b[1m \u001b[0m\u001b[1mMetric             \u001b[0m\u001b[1m \u001b[0m┃\u001b[1m \u001b[0m\u001b[1m Value\u001b[0m\u001b[1m \u001b[0m┃\n",
       "┡━━━━━━━━━━━━━━━━━━━━━╇━━━━━━━━┩\n",
       "│ Precision           │ 0.7500 │\n",
       "│ Recall              │ 0.7500 │\n",
       "│ Accuracy            │ 0.7778 │\n",
       "│ F1-score            │ 0.7500 │\n",
       "│\u001b[2m \u001b[0m\u001b[2m                   \u001b[0m\u001b[2m \u001b[0m│\u001b[2m \u001b[0m\u001b[2m      \u001b[0m\u001b[2m \u001b[0m│\n",
       "├─────────────────────┼────────┤\n",
       "│ Valid Predictions   │      9 │\n",
       "│ Invalid Predictions │      1 │\n",
       "└─────────────────────┴────────┘\n"
      ]
     },
     "metadata": {},
     "output_type": "display_data"
    },
    {
     "data": {
      "text/html": [
       "<pre style=\"white-space:pre;overflow-x:auto;line-height:normal;font-family:Menlo,'DejaVu Sans Mono',consolas,'Courier New',monospace\"><span style=\"font-style: italic\">   Confusion Matrix    </span>\n",
       "┏━━━━━━━━━━━━━┳━━━┳━━━┓\n",
       "┃<span style=\"font-weight: bold\"> True↓/Pred→ </span>┃<span style=\"font-weight: bold\"> 0 </span>┃<span style=\"font-weight: bold\"> 1 </span>┃\n",
       "┡━━━━━━━━━━━━━╇━━━╇━━━┩\n",
       "│ 0           │ <span style=\"font-weight: bold\">4</span> │ 1 │\n",
       "├─────────────┼───┼───┤\n",
       "│ 1           │ 1 │ <span style=\"font-weight: bold\">3</span> │\n",
       "└─────────────┴───┴───┘\n",
       "</pre>\n"
      ],
      "text/plain": [
       "\u001b[3m   Confusion Matrix    \u001b[0m\n",
       "┏━━━━━━━━━━━━━┳━━━┳━━━┓\n",
       "┃\u001b[1m \u001b[0m\u001b[1mTrue↓/Pred→\u001b[0m\u001b[1m \u001b[0m┃\u001b[1m \u001b[0m\u001b[1m0\u001b[0m\u001b[1m \u001b[0m┃\u001b[1m \u001b[0m\u001b[1m1\u001b[0m\u001b[1m \u001b[0m┃\n",
       "┡━━━━━━━━━━━━━╇━━━╇━━━┩\n",
       "│ 0           │ \u001b[1m4\u001b[0m │ 1 │\n",
       "├─────────────┼───┼───┤\n",
       "│ 1           │ 1 │ \u001b[1m3\u001b[0m │\n",
       "└─────────────┴───┴───┘\n"
      ]
     },
     "metadata": {},
     "output_type": "display_data"
    },
    {
     "name": "stdout",
     "output_type": "stream",
     "text": [
      "\n"
     ]
    },
    {
     "data": {
      "text/html": [
       "<pre style=\"white-space:pre;overflow-x:auto;line-height:normal;font-family:Menlo,'DejaVu Sans Mono',consolas,'Courier New',monospace\">╭──────────────╮\n",
       "│ <span style=\"color: #008000; text-decoration-color: #008000; font-weight: bold\">Best Prompt:</span> │\n",
       "╰──────────────╯\n",
       "</pre>\n"
      ],
      "text/plain": [
       "╭──────────────╮\n",
       "│ \u001b[1;32mBest Prompt:\u001b[0m │\n",
       "╰──────────────╯\n"
      ]
     },
     "metadata": {},
     "output_type": "display_data"
    },
    {
     "data": {
      "text/html": [
       "<pre style=\"white-space:pre;overflow-x:auto;line-height:normal;font-family:Menlo,'DejaVu Sans Mono',consolas,'Courier New',monospace\">\n",
       "You are a sentiment analysis classifier. Determine whether the provided text expresses a positive sentiment. \n",
       "Think through your analysis step by step using chain of thought reasoning. \n",
       "After your analysis, respond with a STRIC JSON dictionary containing two keys: \n",
       "<span style=\"color: #008000; text-decoration-color: #008000\">\"chain_of_thought\"</span> <span style=\"font-weight: bold\">(</span>your step-by-step reasoning<span style=\"font-weight: bold\">)</span> and <span style=\"color: #008000; text-decoration-color: #008000\">\"classification\"</span> <span style=\"font-weight: bold\">(</span><span style=\"color: #008080; text-decoration-color: #008080; font-weight: bold\">1</span> for positive, <span style=\"color: #008080; text-decoration-color: #008080; font-weight: bold\">0</span> for negative<span style=\"font-weight: bold\">)</span>.\n",
       "\n",
       "Provide your response as a JSON dictionary with the following structure:\n",
       "<span style=\"font-weight: bold\">{</span>\n",
       "    <span style=\"color: #008000; text-decoration-color: #008000\">\"chain_of_thought\"</span>: <span style=\"color: #008000; text-decoration-color: #008000\">\"Your step-by-step reasoning here\"</span>\n",
       "    <span style=\"color: #008000; text-decoration-color: #008000\">\"classification\"</span>: <span style=\"color: #008080; text-decoration-color: #008080; font-weight: bold\">0</span> or <span style=\"color: #008080; text-decoration-color: #008080; font-weight: bold\">1</span>,\n",
       "<span style=\"font-weight: bold\">}</span>\n",
       "Ensure that <span style=\"color: #008000; text-decoration-color: #008000\">\"chain_of_thought\"</span> contains your detailed analysis, and <span style=\"color: #008000; text-decoration-color: #008000\">\"classification\"</span> is strictly <span style=\"color: #008080; text-decoration-color: #008080; font-weight: bold\">0</span> or <span style=\"color: #008080; text-decoration-color: #008080; font-weight: bold\">1</span>\n",
       "\n",
       "</pre>\n"
      ],
      "text/plain": [
       "\n",
       "You are a sentiment analysis classifier. Determine whether the provided text expresses a positive sentiment. \n",
       "Think through your analysis step by step using chain of thought reasoning. \n",
       "After your analysis, respond with a STRIC JSON dictionary containing two keys: \n",
       "\u001b[32m\"chain_of_thought\"\u001b[0m \u001b[1m(\u001b[0myour step-by-step reasoning\u001b[1m)\u001b[0m and \u001b[32m\"classification\"\u001b[0m \u001b[1m(\u001b[0m\u001b[1;36m1\u001b[0m for positive, \u001b[1;36m0\u001b[0m for negative\u001b[1m)\u001b[0m.\n",
       "\n",
       "Provide your response as a JSON dictionary with the following structure:\n",
       "\u001b[1m{\u001b[0m\n",
       "    \u001b[32m\"chain_of_thought\"\u001b[0m: \u001b[32m\"Your step-by-step reasoning here\"\u001b[0m\n",
       "    \u001b[32m\"classification\"\u001b[0m: \u001b[1;36m0\u001b[0m or \u001b[1;36m1\u001b[0m,\n",
       "\u001b[1m}\u001b[0m\n",
       "Ensure that \u001b[32m\"chain_of_thought\"\u001b[0m contains your detailed analysis, and \u001b[32m\"classification\"\u001b[0m is strictly \u001b[1;36m0\u001b[0m or \u001b[1;36m1\u001b[0m\n",
       "\n"
      ]
     },
     "metadata": {},
     "output_type": "display_data"
    },
    {
     "data": {
      "text/html": [
       "<pre style=\"white-space:pre;overflow-x:auto;line-height:normal;font-family:Menlo,'DejaVu Sans Mono',consolas,'Courier New',monospace\">╭────────────────╮\n",
       "│ <span style=\"color: #008000; text-decoration-color: #008000; font-weight: bold\">Output Format:</span> │\n",
       "╰────────────────╯\n",
       "</pre>\n"
      ],
      "text/plain": [
       "╭────────────────╮\n",
       "│ \u001b[1;32mOutput Format:\u001b[0m │\n",
       "╰────────────────╯\n"
      ]
     },
     "metadata": {},
     "output_type": "display_data"
    },
    {
     "data": {
      "text/html": [
       "<pre style=\"white-space:pre;overflow-x:auto;line-height:normal;font-family:Menlo,'DejaVu Sans Mono',consolas,'Courier New',monospace\">\n",
       "Provide your response as a JSON dictionary with the following structure:\n",
       "<span style=\"font-weight: bold\">{</span>\n",
       "    <span style=\"color: #008000; text-decoration-color: #008000\">\"chain_of_thought\"</span>: <span style=\"color: #008000; text-decoration-color: #008000\">\"Your step-by-step reasoning here\"</span>\n",
       "    <span style=\"color: #008000; text-decoration-color: #008000\">\"classification\"</span>: <span style=\"color: #008080; text-decoration-color: #008080; font-weight: bold\">0</span> or <span style=\"color: #008080; text-decoration-color: #008080; font-weight: bold\">1</span>,\n",
       "<span style=\"font-weight: bold\">}</span>\n",
       "Ensure that <span style=\"color: #008000; text-decoration-color: #008000\">\"chain_of_thought\"</span> contains your detailed analysis, and <span style=\"color: #008000; text-decoration-color: #008000\">\"classification\"</span> is strictly <span style=\"color: #008080; text-decoration-color: #008080; font-weight: bold\">0</span> or <span style=\"color: #008080; text-decoration-color: #008080; font-weight: bold\">1</span>\n",
       "\n",
       "</pre>\n"
      ],
      "text/plain": [
       "\n",
       "Provide your response as a JSON dictionary with the following structure:\n",
       "\u001b[1m{\u001b[0m\n",
       "    \u001b[32m\"chain_of_thought\"\u001b[0m: \u001b[32m\"Your step-by-step reasoning here\"\u001b[0m\n",
       "    \u001b[32m\"classification\"\u001b[0m: \u001b[1;36m0\u001b[0m or \u001b[1;36m1\u001b[0m,\n",
       "\u001b[1m}\u001b[0m\n",
       "Ensure that \u001b[32m\"chain_of_thought\"\u001b[0m contains your detailed analysis, and \u001b[32m\"classification\"\u001b[0m is strictly \u001b[1;36m0\u001b[0m or \u001b[1;36m1\u001b[0m\n",
       "\n"
      ]
     },
     "metadata": {},
     "output_type": "display_data"
    },
    {
     "data": {
      "text/html": [
       "<pre style=\"white-space:pre;overflow-x:auto;line-height:normal;font-family:Menlo,'DejaVu Sans Mono',consolas,'Courier New',monospace\"><span style=\"font-style: italic\">                                   Comparison of All Iterations                                   </span>\n",
       "┏━━━━━━━━━━━┳━━━━━━━━━━━┳━━━━━━━━┳━━━━━━━━━━┳━━━━━━━━━━┳━━━━━━━━━━━━━━━━━━━┳━━━━━━━━━━━━━━━━━━━━━┓\n",
       "┃<span style=\"font-weight: bold\"> Iteration </span>┃<span style=\"font-weight: bold\"> Precision </span>┃<span style=\"font-weight: bold\"> Recall </span>┃<span style=\"font-weight: bold\"> Accuracy </span>┃<span style=\"font-weight: bold\"> F1-score </span>┃<span style=\"font-weight: bold\"> Valid Predictions </span>┃<span style=\"font-weight: bold\"> Invalid Predictions </span>┃\n",
       "┡━━━━━━━━━━━╇━━━━━━━━━━━╇━━━━━━━━╇━━━━━━━━━━╇━━━━━━━━━━╇━━━━━━━━━━━━━━━━━━━╇━━━━━━━━━━━━━━━━━━━━━┩\n",
       "│     1     │    <span style=\"font-weight: bold\">1.0000</span> │ 0.8000 │   <span style=\"font-weight: bold\">0.9000</span> │   <span style=\"font-weight: bold\">0.8889</span> │           <span style=\"font-weight: bold\">10.0000</span> │              <span style=\"font-weight: bold\">0.0000</span> │\n",
       "│     2     │    0.7143 │ <span style=\"font-weight: bold\">1.0000</span> │   0.8000 │   0.8333 │           <span style=\"font-weight: bold\">10.0000</span> │              <span style=\"font-weight: bold\">0.0000</span> │\n",
       "│     3     │    0.7500 │ 0.7500 │   0.7778 │   0.7500 │            9.0000 │              1.0000 │\n",
       "└───────────┴───────────┴────────┴──────────┴──────────┴───────────────────┴─────────────────────┘\n",
       "</pre>\n"
      ],
      "text/plain": [
       "\u001b[3m                                   Comparison of All Iterations                                   \u001b[0m\n",
       "┏━━━━━━━━━━━┳━━━━━━━━━━━┳━━━━━━━━┳━━━━━━━━━━┳━━━━━━━━━━┳━━━━━━━━━━━━━━━━━━━┳━━━━━━━━━━━━━━━━━━━━━┓\n",
       "┃\u001b[1m \u001b[0m\u001b[1mIteration\u001b[0m\u001b[1m \u001b[0m┃\u001b[1m \u001b[0m\u001b[1mPrecision\u001b[0m\u001b[1m \u001b[0m┃\u001b[1m \u001b[0m\u001b[1mRecall\u001b[0m\u001b[1m \u001b[0m┃\u001b[1m \u001b[0m\u001b[1mAccuracy\u001b[0m\u001b[1m \u001b[0m┃\u001b[1m \u001b[0m\u001b[1mF1-score\u001b[0m\u001b[1m \u001b[0m┃\u001b[1m \u001b[0m\u001b[1mValid Predictions\u001b[0m\u001b[1m \u001b[0m┃\u001b[1m \u001b[0m\u001b[1mInvalid Predictions\u001b[0m\u001b[1m \u001b[0m┃\n",
       "┡━━━━━━━━━━━╇━━━━━━━━━━━╇━━━━━━━━╇━━━━━━━━━━╇━━━━━━━━━━╇━━━━━━━━━━━━━━━━━━━╇━━━━━━━━━━━━━━━━━━━━━┩\n",
       "│     1     │    \u001b[1m1.0000\u001b[0m │ 0.8000 │   \u001b[1m0.9000\u001b[0m │   \u001b[1m0.8889\u001b[0m │           \u001b[1m10.0000\u001b[0m │              \u001b[1m0.0000\u001b[0m │\n",
       "│     2     │    0.7143 │ \u001b[1m1.0000\u001b[0m │   0.8000 │   0.8333 │           \u001b[1m10.0000\u001b[0m │              \u001b[1m0.0000\u001b[0m │\n",
       "│     3     │    0.7500 │ 0.7500 │   0.7778 │   0.7500 │            9.0000 │              1.0000 │\n",
       "└───────────┴───────────┴────────┴──────────┴──────────┴───────────────────┴─────────────────────┘\n"
      ]
     },
     "metadata": {},
     "output_type": "display_data"
    },
    {
     "name": "stdout",
     "output_type": "stream",
     "text": [
      "\n",
      "All logs saved in directory: /Users/danielfiuzadosil/Documents/GitHub/AI-Prompt-Optimiser/examples/binary_classifier/runs/test_dashboard_new_Mon_28-Oct-2024_16-48-21\n"
     ]
    }
   ],
   "source": [
    "# Run the prompt optimization process\n",
    "best_prompt, best_metrics = optimize_prompt(\n",
    "    initial_prompt = initial_prompt,\n",
    "    eval_data = eval_data,\n",
    "    iterations = iterations,\n",
    "    eval_provider = eval_provider,\n",
    "    eval_model = eval_model,\n",
    "    eval_temperature = 0.7,\n",
    "    optim_provider = optim_provider,\n",
    "    optim_model = optim_model,\n",
    "    optim_temperature = 0,\n",
    "    use_cache = True,\n",
    "    output_format_prompt = output_format_prompt,\n",
    "    output_schema = output_schema,\n",
    "    fp_comments = fp_comments,\n",
    "    fn_comments = fn_comments,\n",
    "    tp_comments = tp_comments,\n",
    "    invalid_comments = invalid_comments,\n",
    "    prompt_engineering_comments = prompt_engineering_comments,\n",
    "    validation_comments = validation_comments,\n",
    "    experiment_name = experiment_name,\n",
    "    skip_prompt_validation = True,\n",
    ")"
   ]
  }
 ],
 "metadata": {
  "kernelspec": {
   "display_name": "base",
   "language": "python",
   "name": "python3"
  },
  "language_info": {
   "codemirror_mode": {
    "name": "ipython",
    "version": 3
   },
   "file_extension": ".py",
   "mimetype": "text/x-python",
   "name": "python",
   "nbconvert_exporter": "python",
   "pygments_lexer": "ipython3",
   "version": "3.12.2"
  }
 },
 "nbformat": 4,
 "nbformat_minor": 2
}
