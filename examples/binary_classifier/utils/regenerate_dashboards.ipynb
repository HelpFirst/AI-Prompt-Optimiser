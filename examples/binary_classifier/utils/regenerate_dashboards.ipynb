{
 "cells": [
  {
   "cell_type": "code",
   "execution_count": 1,
   "metadata": {},
   "outputs": [
    {
     "name": "stdout",
     "output_type": "stream",
     "text": [
      "Detected problem type: binary\n",
      "\n",
      "Iteration 1 data:\n",
      "Available keys: ['prompt', 'metrics', 'evaluations', 'precision', 'recall', 'accuracy', 'f1', 'confusion_matrix', 'valid_predictions', 'invalid_predictions', 'analysis_results', 'prompts_for_analysis', 'initial_prompt', 'new_prompt']\n",
      "Metrics: {'precision': 1.0, 'recall': 0.8, 'accuracy': 0.9, 'f1': 0.8888888888888888, 'confusion_matrix': [[5, 0], [1, 4]], 'valid_predictions': 10, 'invalid_predictions': 0}\n",
      "Number of samples: 10\n",
      "Number of NaN in y_true: 0\n",
      "Number of NaN in y_pred: 0\n",
      "Sample of y_pred: [0, 0, 1, 0, 1, 0, 1, 0, 0, 1]\n",
      "\n",
      "Iteration 2 data:\n",
      "Available keys: ['prompt', 'metrics', 'evaluations', 'precision', 'recall', 'accuracy', 'f1', 'confusion_matrix', 'valid_predictions', 'invalid_predictions']\n",
      "Metrics: {'precision': 0.6666666666666666, 'recall': 0.8, 'accuracy': 0.7, 'f1': 0.7272727272727273, 'confusion_matrix': [[3, 2], [1, 4]], 'valid_predictions': 10, 'invalid_predictions': 0}\n",
      "Number of samples: 10\n",
      "Number of NaN in y_true: 0\n",
      "Number of NaN in y_pred: 0\n",
      "Sample of y_pred: [0, 0, 1, 1, 1, 1, 1, 0, 0, 1]\n",
      "Successfully regenerated dashboards for /Users/danielfiuzadosil/Documents/GitHub/AI-Prompt-Optimiser/examples/binary_classifier/runs/sentiment_exp_Wed_30-Oct-2024_16-18-07\n",
      "Problem type: binary\n",
      "Number of iterations processed: 2\n"
     ]
    }
   ],
   "source": [
    "import sys\n",
    "sys.path.append(\"../../../src\")  # Add path to src folder\n",
    "from iterative_prompt_optimization.utils import regenerate_dashboards\n",
    "# Regenerate dashboards for a specific experiment\n",
    "path_to_data = \"/Users/danielfiuzadosil/Documents/GitHub/AI-Prompt-Optimiser/examples/binary_classifier/runs/sentiment_exp_Wed_30-Oct-2024_16-18-07\"\n",
    "regenerate_dashboards(path_to_data)"
   ]
  },
  {
   "cell_type": "code",
   "execution_count": null,
   "metadata": {},
   "outputs": [],
   "source": []
  }
 ],
 "metadata": {
  "kernelspec": {
   "display_name": "base",
   "language": "python",
   "name": "python3"
  },
  "language_info": {
   "codemirror_mode": {
    "name": "ipython",
    "version": 3
   },
   "file_extension": ".py",
   "mimetype": "text/x-python",
   "name": "python",
   "nbconvert_exporter": "python",
   "pygments_lexer": "ipython3",
   "version": "3.12.2"
  }
 },
 "nbformat": 4,
 "nbformat_minor": 2
}
