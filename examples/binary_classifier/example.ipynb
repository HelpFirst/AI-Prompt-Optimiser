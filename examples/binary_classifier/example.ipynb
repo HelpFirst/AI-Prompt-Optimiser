{
 "cells": [
  {
   "cell_type": "code",
   "execution_count": 1,
   "metadata": {},
   "outputs": [],
   "source": [
    "import sys\n",
    "import os\n",
    "# Add the parent directory to sys.path\n",
    "# Use getcwd() to get the current working directory for Jupyter notebooks\n",
    "current_dir = os.getcwd()\n",
    "parent_dir = os.path.dirname(current_dir)\n",
    "sys.path.append(parent_dir)\n"
   ]
  },
  {
   "cell_type": "code",
   "execution_count": 2,
   "metadata": {},
   "outputs": [
    {
     "ename": "ModuleNotFoundError",
     "evalue": "No module named 'src'",
     "output_type": "error",
     "traceback": [
      "\u001b[0;31m---------------------------------------------------------------------------\u001b[0m",
      "\u001b[0;31mModuleNotFoundError\u001b[0m                       Traceback (most recent call last)",
      "Cell \u001b[0;32mIn[2], line 1\u001b[0m\n\u001b[0;32m----> 1\u001b[0m \u001b[38;5;28;01mfrom\u001b[39;00m \u001b[38;5;21;01msrc\u001b[39;00m\u001b[38;5;21;01m.\u001b[39;00m\u001b[38;5;21;01miterative_prompt_optimization\u001b[39;00m \u001b[38;5;28;01mimport\u001b[39;00m optimize_prompt\n\u001b[1;32m      2\u001b[0m \u001b[38;5;28;01mimport\u001b[39;00m \u001b[38;5;21;01mpandas\u001b[39;00m \u001b[38;5;28;01mas\u001b[39;00m \u001b[38;5;21;01mpd\u001b[39;00m\n\u001b[1;32m      4\u001b[0m \u001b[38;5;66;03m# Prepare your evaluation data\u001b[39;00m\n",
      "\u001b[0;31mModuleNotFoundError\u001b[0m: No module named 'src'"
     ]
    }
   ],
   "source": [
    "from src.iterative_prompt_optimization import optimize_prompt\n",
    "import pandas as pd\n",
    "\n",
    "# Prepare your evaluation data\n",
    "eval_data = pd.DataFrame({\n",
    "    'text': ['I am happy!', 'excited about the trip', 'I am sad!', ' i am not sure how i feel'],\n",
    "    'label': [1, 1, 0, 1]\n",
    "    })\n",
    "\n",
    "# Define your initial prompt and output format\n",
    "initial_prompt = \"Classify the following text as either positive (1) or negative (0):\"\n",
    "output_format_prompt = \"Output your classification as a single digit: 0 or 1\"\n",
    "#Define the output schema\n",
    "output_schema = {\n",
    "    'regex_pattern': r'^(\\d)$',\n",
    "    'value_mapping': {'0': 0, '1': 1}\n",
    "    }\n",
    "# Run the optimization process\n",
    "best_prompt, best_metrics = optimize_prompt(\n",
    "    initial_prompt=initial_prompt,\n",
    "    output_format_prompt=output_format_prompt,\n",
    "    eval_data=eval_data,\n",
    "    iterations=5,\n",
    "    output_schema=output_schema\n",
    ")\n",
    "print(\"Best Prompt:\", best_prompt)\n",
    "print(\"Best Metrics:\", best_metrics)"
   ]
  },
  {
   "cell_type": "code",
   "execution_count": null,
   "metadata": {},
   "outputs": [],
   "source": []
  }
 ],
 "metadata": {
  "kernelspec": {
   "display_name": "base",
   "language": "python",
   "name": "python3"
  },
  "language_info": {
   "codemirror_mode": {
    "name": "ipython",
    "version": 3
   },
   "file_extension": ".py",
   "mimetype": "text/x-python",
   "name": "python",
   "nbconvert_exporter": "python",
   "pygments_lexer": "ipython3",
   "version": "3.12.2"
  }
 },
 "nbformat": 4,
 "nbformat_minor": 2
}
