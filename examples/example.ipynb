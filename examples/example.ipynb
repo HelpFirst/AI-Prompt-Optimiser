{
 "cells": [
  {
   "cell_type": "code",
   "execution_count": 1,
   "metadata": {},
   "outputs": [],
   "source": [
    "import sys\n",
    "import os\n",
    "# Add the parent directory to sys.path\n",
    "# Use getcwd() to get the current working directory for Jupyter notebooks\n",
    "current_dir = os.getcwd()\n",
    "parent_dir = os.path.dirname(current_dir)\n",
    "sys.path.append(parent_dir)\n"
   ]
  },
  {
   "cell_type": "code",
   "execution_count": 2,
   "metadata": {},
   "outputs": [
    {
     "name": "stdout",
     "output_type": "stream",
     "text": [
      "\n",
      "Select a model provider for evaluation:\n",
      "1. ollama\n",
      "2. openai\n",
      "3. azure_openai\n",
      "4. anthropic\n",
      "5. google\n",
      "\n",
      "Select a model from ollama for evaluation:\n",
      "1. llama2\n",
      "2. llama3.1\n",
      "3. mistral\n",
      "4. vicuna\n",
      "\n",
      "Select a model provider for optimization:\n",
      "1. ollama\n",
      "2. openai\n",
      "3. azure_openai\n",
      "4. anthropic\n",
      "5. google\n",
      "\n",
      "Select a model from ollama for optimization:\n",
      "1. llama2\n",
      "2. llama3.1\n",
      "3. mistral\n",
      "4. vicuna\n",
      "Selected evaluation provider: ollama\n",
      "Selected evaluation model: llama3.1\n",
      "Evaluation temperature: 0.7\n",
      "Selected optimization provider: ollama\n",
      "Selected optimization model: llama3.1\n",
      "Optimization temperature: 0.9\n",
      "Estimated token usage: 10980\n",
      "Estimated cost: $0 API Costs - Running on Local Hardware\n",
      "\n",
      "Do you want to proceed with the optimization? (Y/N): \n",
      "Iteration 1/5\n"
     ]
    },
    {
     "data": {
      "text/html": [
       "<pre style=\"white-space:pre;overflow-x:auto;line-height:normal;font-family:Menlo,'DejaVu Sans Mono',consolas,'Courier New',monospace\"><span style=\"color: #000080; text-decoration-color: #000080\">╭──────────────────────── Current Full Prompt ────────────────────────╮</span>\n",
       "<span style=\"color: #000080; text-decoration-color: #000080\">│</span> Classify the following text as either positive (1) or negative (0): <span style=\"color: #000080; text-decoration-color: #000080\">│</span>\n",
       "<span style=\"color: #000080; text-decoration-color: #000080\">│</span>                                                                     <span style=\"color: #000080; text-decoration-color: #000080\">│</span>\n",
       "<span style=\"color: #000080; text-decoration-color: #000080\">│</span> Output your classification as a single digit: 0 or 1                <span style=\"color: #000080; text-decoration-color: #000080\">│</span>\n",
       "<span style=\"color: #000080; text-decoration-color: #000080\">╰─────────────────────────────────────────────────────────────────────╯</span>\n",
       "</pre>\n"
      ],
      "text/plain": [
       "\u001b[34m╭─\u001b[0m\u001b[34m───────────────────────\u001b[0m\u001b[34m Current Full Prompt \u001b[0m\u001b[34m───────────────────────\u001b[0m\u001b[34m─╮\u001b[0m\n",
       "\u001b[34m│\u001b[0m Classify the following text as either positive (1) or negative (0): \u001b[34m│\u001b[0m\n",
       "\u001b[34m│\u001b[0m                                                                     \u001b[34m│\u001b[0m\n",
       "\u001b[34m│\u001b[0m Output your classification as a single digit: 0 or 1                \u001b[34m│\u001b[0m\n",
       "\u001b[34m╰─────────────────────────────────────────────────────────────────────╯\u001b[0m\n"
      ]
     },
     "metadata": {},
     "output_type": "display_data"
    },
    {
     "name": "stdout",
     "output_type": "stream",
     "text": [
      "Processing text 1/4\n",
      "Using cached output for text 1/4\n",
      "Prediction 1/4: 1 | Ground Truth: 1 ✅ (TP)\n",
      "Processing text 2/4\n",
      "Using cached output for text 2/4\n",
      "Prediction 2/4: 1 | Ground Truth: 1 ✅ (TP)\n",
      "Processing text 3/4\n",
      "Using cached output for text 3/4\n",
      "Prediction 3/4: 0 | Ground Truth: 0 ✅ (TN)\n",
      "Processing text 4/4\n",
      "Prediction 4/4: 0 | Ground Truth: 1 ❌ (FN)\n"
     ]
    },
    {
     "data": {
      "text/html": [
       "<pre style=\"white-space:pre;overflow-x:auto;line-height:normal;font-family:Menlo,'DejaVu Sans Mono',consolas,'Courier New',monospace\"><span style=\"font-style: italic\">Evaluation Metrics - Iteration 1</span>\n",
       "┏━━━━━━━━━━━━━━━━━━━━━┳━━━━━━━━┓\n",
       "┃<span style=\"font-weight: bold\"> Metric              </span>┃<span style=\"font-weight: bold\">  Value </span>┃\n",
       "┡━━━━━━━━━━━━━━━━━━━━━╇━━━━━━━━┩\n",
       "│ Precision           │ 1.0000 │\n",
       "│ Recall              │ 0.6667 │\n",
       "│ Accuracy            │ 0.7500 │\n",
       "│ F1-score            │ 0.8000 │\n",
       "│ Valid Predictions   │      4 │\n",
       "│ Invalid Predictions │      0 │\n",
       "└─────────────────────┴────────┘\n",
       "</pre>\n"
      ],
      "text/plain": [
       "\u001b[3mEvaluation Metrics - Iteration 1\u001b[0m\n",
       "┏━━━━━━━━━━━━━━━━━━━━━┳━━━━━━━━┓\n",
       "┃\u001b[1m \u001b[0m\u001b[1mMetric             \u001b[0m\u001b[1m \u001b[0m┃\u001b[1m \u001b[0m\u001b[1m Value\u001b[0m\u001b[1m \u001b[0m┃\n",
       "┡━━━━━━━━━━━━━━━━━━━━━╇━━━━━━━━┩\n",
       "│ Precision           │ 1.0000 │\n",
       "│ Recall              │ 0.6667 │\n",
       "│ Accuracy            │ 0.7500 │\n",
       "│ F1-score            │ 0.8000 │\n",
       "│ Valid Predictions   │      4 │\n",
       "│ Invalid Predictions │      0 │\n",
       "└─────────────────────┴────────┘\n"
      ]
     },
     "metadata": {},
     "output_type": "display_data"
    },
    {
     "name": "stdout",
     "output_type": "stream",
     "text": [
      "\n",
      "Analyzing misclassifications, true positives, and invalid outputs...\n"
     ]
    },
    {
     "data": {
      "text/html": [
       "<pre style=\"white-space:pre;overflow-x:auto;line-height:normal;font-family:Menlo,'DejaVu Sans Mono',consolas,'Courier New',monospace\"><span style=\"font-weight: bold\">╭───────── False Positives Analysis ──────────╮</span>\n",
       "<span style=\"font-weight: bold\">│</span>                                             <span style=\"font-weight: bold\">│</span>\n",
       "<span style=\"font-weight: bold\">│</span> No false positives found in this iteration. <span style=\"font-weight: bold\">│</span>\n",
       "<span style=\"font-weight: bold\">│</span>                                             <span style=\"font-weight: bold\">│</span>\n",
       "<span style=\"font-weight: bold\">╰─────────────────────────────────────────────╯</span>\n",
       "</pre>\n"
      ],
      "text/plain": [
       "\u001b[1m╭─\u001b[0m\u001b[1m────────\u001b[0m\u001b[1m False Positives Analysis \u001b[0m\u001b[1m─────────\u001b[0m\u001b[1m─╮\u001b[0m\n",
       "\u001b[1m│\u001b[0m                                             \u001b[1m│\u001b[0m\n",
       "\u001b[1m│\u001b[0m No false positives found in this iteration. \u001b[1m│\u001b[0m\n",
       "\u001b[1m│\u001b[0m                                             \u001b[1m│\u001b[0m\n",
       "\u001b[1m╰─────────────────────────────────────────────╯\u001b[0m\n"
      ]
     },
     "metadata": {},
     "output_type": "display_data"
    },
    {
     "data": {
      "text/html": [
       "<pre style=\"white-space:pre;overflow-x:auto;line-height:normal;font-family:Menlo,'DejaVu Sans Mono',consolas,'Courier New',monospace\"><span style=\"font-weight: bold\">╭─────────────────────────────────────────── False Negatives Analysis ────────────────────────────────────────────╮</span>\n",
       "<span style=\"font-weight: bold\">│</span>                                                                                                                 <span style=\"font-weight: bold\">│</span>\n",
       "<span style=\"font-weight: bold\">│</span> Based on the provided false negative examples, here's a concise analysis:                                       <span style=\"font-weight: bold\">│</span>\n",
       "<span style=\"font-weight: bold\">│</span>                                                                                                                 <span style=\"font-weight: bold\">│</span>\n",
       "<span style=\"font-weight: bold\">│</span> **Key Observations:**                                                                                           <span style=\"font-weight: bold\">│</span>\n",
       "<span style=\"font-weight: bold\">│</span>                                                                                                                 <span style=\"font-weight: bold\">│</span>\n",
       "<span style=\"font-weight: bold\">│</span> 1. **Ambiguity and uncertainty**: The example \"i am not sure how i feel\" indicates that the text may express    <span style=\"font-weight: bold\">│</span>\n",
       "<span style=\"font-weight: bold\">│</span> mixed emotions or uncertainty, which can be challenging to classify as positive or negative.                    <span style=\"font-weight: bold\">│</span>\n",
       "<span style=\"font-weight: bold\">│</span> 2. **Lack of emotional intensity**: In contrast to more explicit negative expressions, this example lacks a     <span style=\"font-weight: bold\">│</span>\n",
       "<span style=\"font-weight: bold\">│</span> strong negative tone, making it harder for classification models to detect.                                     <span style=\"font-weight: bold\">│</span>\n",
       "<span style=\"font-weight: bold\">│</span> 3. **Imprecision and subjectivity**: The text uses phrases like \"not sure how I feel,\" which implies that the   <span style=\"font-weight: bold\">│</span>\n",
       "<span style=\"font-weight: bold\">│</span> speaker's emotions are not strongly aligned with either positive or negative categories.                        <span style=\"font-weight: bold\">│</span>\n",
       "<span style=\"font-weight: bold\">│</span>                                                                                                                 <span style=\"font-weight: bold\">│</span>\n",
       "<span style=\"font-weight: bold\">│</span> **High-Impact Improvements:**                                                                                   <span style=\"font-weight: bold\">│</span>\n",
       "<span style=\"font-weight: bold\">│</span>                                                                                                                 <span style=\"font-weight: bold\">│</span>\n",
       "<span style=\"font-weight: bold\">│</span> 1. **Train on nuance and subtlety**: Incorporate more training data that includes subtle expressions of         <span style=\"font-weight: bold\">│</span>\n",
       "<span style=\"font-weight: bold\">│</span> uncertainty, ambiguity, or mixed emotions to improve classification accuracy in such cases.                     <span style=\"font-weight: bold\">│</span>\n",
       "<span style=\"font-weight: bold\">│</span> 2. **Enhance context-awareness**: Consider using contextual information (e.g., tone, intent, or other           <span style=\"font-weight: bold\">│</span>\n",
       "<span style=\"font-weight: bold\">│</span> sentence-level features) to disambiguate and provide a more informed classification decision when encountering  <span style=\"font-weight: bold\">│</span>\n",
       "<span style=\"font-weight: bold\">│</span> texts like \"i am not sure how I feel.\"                                                                          <span style=\"font-weight: bold\">│</span>\n",
       "<span style=\"font-weight: bold\">│</span> 3. **Prioritize recall over precision**: Since the false negative rate is significant (25%), consider adjusting <span style=\"font-weight: bold\">│</span>\n",
       "<span style=\"font-weight: bold\">│</span> model hyperparameters or adding regularization techniques to prioritize recalling true negatives, even if it    <span style=\"font-weight: bold\">│</span>\n",
       "<span style=\"font-weight: bold\">│</span> means compromising on precision slightly.                                                                       <span style=\"font-weight: bold\">│</span>\n",
       "<span style=\"font-weight: bold\">│</span>                                                                                                                 <span style=\"font-weight: bold\">│</span>\n",
       "<span style=\"font-weight: bold\">╰─────────────────────────────────────────────────────────────────────────────────────────────────────────────────╯</span>\n",
       "</pre>\n"
      ],
      "text/plain": [
       "\u001b[1m╭─\u001b[0m\u001b[1m──────────────────────────────────────────\u001b[0m\u001b[1m False Negatives Analysis \u001b[0m\u001b[1m───────────────────────────────────────────\u001b[0m\u001b[1m─╮\u001b[0m\n",
       "\u001b[1m│\u001b[0m                                                                                                                 \u001b[1m│\u001b[0m\n",
       "\u001b[1m│\u001b[0m Based on the provided false negative examples, here's a concise analysis:                                       \u001b[1m│\u001b[0m\n",
       "\u001b[1m│\u001b[0m                                                                                                                 \u001b[1m│\u001b[0m\n",
       "\u001b[1m│\u001b[0m **Key Observations:**                                                                                           \u001b[1m│\u001b[0m\n",
       "\u001b[1m│\u001b[0m                                                                                                                 \u001b[1m│\u001b[0m\n",
       "\u001b[1m│\u001b[0m 1. **Ambiguity and uncertainty**: The example \"i am not sure how i feel\" indicates that the text may express    \u001b[1m│\u001b[0m\n",
       "\u001b[1m│\u001b[0m mixed emotions or uncertainty, which can be challenging to classify as positive or negative.                    \u001b[1m│\u001b[0m\n",
       "\u001b[1m│\u001b[0m 2. **Lack of emotional intensity**: In contrast to more explicit negative expressions, this example lacks a     \u001b[1m│\u001b[0m\n",
       "\u001b[1m│\u001b[0m strong negative tone, making it harder for classification models to detect.                                     \u001b[1m│\u001b[0m\n",
       "\u001b[1m│\u001b[0m 3. **Imprecision and subjectivity**: The text uses phrases like \"not sure how I feel,\" which implies that the   \u001b[1m│\u001b[0m\n",
       "\u001b[1m│\u001b[0m speaker's emotions are not strongly aligned with either positive or negative categories.                        \u001b[1m│\u001b[0m\n",
       "\u001b[1m│\u001b[0m                                                                                                                 \u001b[1m│\u001b[0m\n",
       "\u001b[1m│\u001b[0m **High-Impact Improvements:**                                                                                   \u001b[1m│\u001b[0m\n",
       "\u001b[1m│\u001b[0m                                                                                                                 \u001b[1m│\u001b[0m\n",
       "\u001b[1m│\u001b[0m 1. **Train on nuance and subtlety**: Incorporate more training data that includes subtle expressions of         \u001b[1m│\u001b[0m\n",
       "\u001b[1m│\u001b[0m uncertainty, ambiguity, or mixed emotions to improve classification accuracy in such cases.                     \u001b[1m│\u001b[0m\n",
       "\u001b[1m│\u001b[0m 2. **Enhance context-awareness**: Consider using contextual information (e.g., tone, intent, or other           \u001b[1m│\u001b[0m\n",
       "\u001b[1m│\u001b[0m sentence-level features) to disambiguate and provide a more informed classification decision when encountering  \u001b[1m│\u001b[0m\n",
       "\u001b[1m│\u001b[0m texts like \"i am not sure how I feel.\"                                                                          \u001b[1m│\u001b[0m\n",
       "\u001b[1m│\u001b[0m 3. **Prioritize recall over precision**: Since the false negative rate is significant (25%), consider adjusting \u001b[1m│\u001b[0m\n",
       "\u001b[1m│\u001b[0m model hyperparameters or adding regularization techniques to prioritize recalling true negatives, even if it    \u001b[1m│\u001b[0m\n",
       "\u001b[1m│\u001b[0m means compromising on precision slightly.                                                                       \u001b[1m│\u001b[0m\n",
       "\u001b[1m│\u001b[0m                                                                                                                 \u001b[1m│\u001b[0m\n",
       "\u001b[1m╰─────────────────────────────────────────────────────────────────────────────────────────────────────────────────╯\u001b[0m\n"
      ]
     },
     "metadata": {},
     "output_type": "display_data"
    },
    {
     "data": {
      "text/html": [
       "<pre style=\"white-space:pre;overflow-x:auto;line-height:normal;font-family:Menlo,'DejaVu Sans Mono',consolas,'Courier New',monospace\"><span style=\"font-weight: bold\">╭──────────────────────────────────────────── True Positives Analysis ────────────────────────────────────────────╮</span>\n",
       "<span style=\"font-weight: bold\">│</span>                                                                                                                 <span style=\"font-weight: bold\">│</span>\n",
       "<span style=\"font-weight: bold\">│</span> Here is the analysis:                                                                                           <span style=\"font-weight: bold\">│</span>\n",
       "<span style=\"font-weight: bold\">│</span>                                                                                                                 <span style=\"font-weight: bold\">│</span>\n",
       "<span style=\"font-weight: bold\">│</span> **High-confidence observations:**                                                                               <span style=\"font-weight: bold\">│</span>\n",
       "<span style=\"font-weight: bold\">│</span>                                                                                                                 <span style=\"font-weight: bold\">│</span>\n",
       "<span style=\"font-weight: bold\">│</span> 1. **Emotive language use**: Both true positive examples (\"I am happy!\" and \"excited about the trip\") exhibit   <span style=\"font-weight: bold\">│</span>\n",
       "<span style=\"font-weight: bold\">│</span> explicit expressions of positive emotions, which are strong indicators of a positive sentiment.                 <span style=\"font-weight: bold\">│</span>\n",
       "<span style=\"font-weight: bold\">│</span> 2. **Focus on personal experience**: The texts mention personal experiences or feelings (happiness and          <span style=\"font-weight: bold\">│</span>\n",
       "<span style=\"font-weight: bold\">│</span> excitement), which is a common trait in positive statements. This suggests that statements centered around      <span style=\"font-weight: bold\">│</span>\n",
       "<span style=\"font-weight: bold\">│</span> individual experiences tend to be positive.                                                                     <span style=\"font-weight: bold\">│</span>\n",
       "<span style=\"font-weight: bold\">│</span> 3. **Lack of negative connotations**: Neither example contains any language that might suggest a negative       <span style=\"font-weight: bold\">│</span>\n",
       "<span style=\"font-weight: bold\">│</span> sentiment, such as words related to problems, dissatisfaction, or disappointment.                               <span style=\"font-weight: bold\">│</span>\n",
       "<span style=\"font-weight: bold\">│</span>                                                                                                                 <span style=\"font-weight: bold\">│</span>\n",
       "<span style=\"font-weight: bold\">│</span> **Reinforcing these patterns:**                                                                                 <span style=\"font-weight: bold\">│</span>\n",
       "<span style=\"font-weight: bold\">│</span>                                                                                                                 <span style=\"font-weight: bold\">│</span>\n",
       "<span style=\"font-weight: bold\">│</span> 1. **Trained models can recognize emotive language**: Emphasize the importance of detecting emotional           <span style=\"font-weight: bold\">│</span>\n",
       "<span style=\"font-weight: bold\">│</span> expressions in training data, ensuring that models are equipped to identify positive emotions.                  <span style=\"font-weight: bold\">│</span>\n",
       "<span style=\"font-weight: bold\">│</span> 2. **Personal experiences and stories are indicative of positivity**: Encourage the use of examples that        <span style=\"font-weight: bold\">│</span>\n",
       "<span style=\"font-weight: bold\">│</span> highlight personal experiences or stories as a way to reinforce positive sentiment detection.                   <span style=\"font-weight: bold\">│</span>\n",
       "<span style=\"font-weight: bold\">│</span> 3. **Detecting absence of negative connotations is crucial**: Incorporate strategies for identifying the        <span style=\"font-weight: bold\">│</span>\n",
       "<span style=\"font-weight: bold\">│</span> absence of negative language, which can be just as important as detecting positive expressions in determining   <span style=\"font-weight: bold\">│</span>\n",
       "<span style=\"font-weight: bold\">│</span> overall sentiment.                                                                                              <span style=\"font-weight: bold\">│</span>\n",
       "<span style=\"font-weight: bold\">│</span>                                                                                                                 <span style=\"font-weight: bold\">│</span>\n",
       "<span style=\"font-weight: bold\">╰─────────────────────────────────────────────────────────────────────────────────────────────────────────────────╯</span>\n",
       "</pre>\n"
      ],
      "text/plain": [
       "\u001b[1m╭─\u001b[0m\u001b[1m───────────────────────────────────────────\u001b[0m\u001b[1m True Positives Analysis \u001b[0m\u001b[1m───────────────────────────────────────────\u001b[0m\u001b[1m─╮\u001b[0m\n",
       "\u001b[1m│\u001b[0m                                                                                                                 \u001b[1m│\u001b[0m\n",
       "\u001b[1m│\u001b[0m Here is the analysis:                                                                                           \u001b[1m│\u001b[0m\n",
       "\u001b[1m│\u001b[0m                                                                                                                 \u001b[1m│\u001b[0m\n",
       "\u001b[1m│\u001b[0m **High-confidence observations:**                                                                               \u001b[1m│\u001b[0m\n",
       "\u001b[1m│\u001b[0m                                                                                                                 \u001b[1m│\u001b[0m\n",
       "\u001b[1m│\u001b[0m 1. **Emotive language use**: Both true positive examples (\"I am happy!\" and \"excited about the trip\") exhibit   \u001b[1m│\u001b[0m\n",
       "\u001b[1m│\u001b[0m explicit expressions of positive emotions, which are strong indicators of a positive sentiment.                 \u001b[1m│\u001b[0m\n",
       "\u001b[1m│\u001b[0m 2. **Focus on personal experience**: The texts mention personal experiences or feelings (happiness and          \u001b[1m│\u001b[0m\n",
       "\u001b[1m│\u001b[0m excitement), which is a common trait in positive statements. This suggests that statements centered around      \u001b[1m│\u001b[0m\n",
       "\u001b[1m│\u001b[0m individual experiences tend to be positive.                                                                     \u001b[1m│\u001b[0m\n",
       "\u001b[1m│\u001b[0m 3. **Lack of negative connotations**: Neither example contains any language that might suggest a negative       \u001b[1m│\u001b[0m\n",
       "\u001b[1m│\u001b[0m sentiment, such as words related to problems, dissatisfaction, or disappointment.                               \u001b[1m│\u001b[0m\n",
       "\u001b[1m│\u001b[0m                                                                                                                 \u001b[1m│\u001b[0m\n",
       "\u001b[1m│\u001b[0m **Reinforcing these patterns:**                                                                                 \u001b[1m│\u001b[0m\n",
       "\u001b[1m│\u001b[0m                                                                                                                 \u001b[1m│\u001b[0m\n",
       "\u001b[1m│\u001b[0m 1. **Trained models can recognize emotive language**: Emphasize the importance of detecting emotional           \u001b[1m│\u001b[0m\n",
       "\u001b[1m│\u001b[0m expressions in training data, ensuring that models are equipped to identify positive emotions.                  \u001b[1m│\u001b[0m\n",
       "\u001b[1m│\u001b[0m 2. **Personal experiences and stories are indicative of positivity**: Encourage the use of examples that        \u001b[1m│\u001b[0m\n",
       "\u001b[1m│\u001b[0m highlight personal experiences or stories as a way to reinforce positive sentiment detection.                   \u001b[1m│\u001b[0m\n",
       "\u001b[1m│\u001b[0m 3. **Detecting absence of negative connotations is crucial**: Incorporate strategies for identifying the        \u001b[1m│\u001b[0m\n",
       "\u001b[1m│\u001b[0m absence of negative language, which can be just as important as detecting positive expressions in determining   \u001b[1m│\u001b[0m\n",
       "\u001b[1m│\u001b[0m overall sentiment.                                                                                              \u001b[1m│\u001b[0m\n",
       "\u001b[1m│\u001b[0m                                                                                                                 \u001b[1m│\u001b[0m\n",
       "\u001b[1m╰─────────────────────────────────────────────────────────────────────────────────────────────────────────────────╯\u001b[0m\n"
      ]
     },
     "metadata": {},
     "output_type": "display_data"
    },
    {
     "data": {
      "text/html": [
       "<pre style=\"white-space:pre;overflow-x:auto;line-height:normal;font-family:Menlo,'DejaVu Sans Mono',consolas,'Courier New',monospace\"><span style=\"font-weight: bold\">╭───────── Invalid Outputs Analysis ──────────╮</span>\n",
       "<span style=\"font-weight: bold\">│</span>                                             <span style=\"font-weight: bold\">│</span>\n",
       "<span style=\"font-weight: bold\">│</span> No invalid outputs found in this iteration. <span style=\"font-weight: bold\">│</span>\n",
       "<span style=\"font-weight: bold\">│</span>                                             <span style=\"font-weight: bold\">│</span>\n",
       "<span style=\"font-weight: bold\">╰─────────────────────────────────────────────╯</span>\n",
       "</pre>\n"
      ],
      "text/plain": [
       "\u001b[1m╭─\u001b[0m\u001b[1m────────\u001b[0m\u001b[1m Invalid Outputs Analysis \u001b[0m\u001b[1m─────────\u001b[0m\u001b[1m─╮\u001b[0m\n",
       "\u001b[1m│\u001b[0m                                             \u001b[1m│\u001b[0m\n",
       "\u001b[1m│\u001b[0m No invalid outputs found in this iteration. \u001b[1m│\u001b[0m\n",
       "\u001b[1m│\u001b[0m                                             \u001b[1m│\u001b[0m\n",
       "\u001b[1m╰─────────────────────────────────────────────╯\u001b[0m\n"
      ]
     },
     "metadata": {},
     "output_type": "display_data"
    },
    {
     "name": "stdout",
     "output_type": "stream",
     "text": [
      "\n",
      "Validating and improving the new prompt...\n"
     ]
    },
    {
     "data": {
      "text/html": [
       "<pre style=\"white-space:pre;overflow-x:auto;line-height:normal;font-family:Menlo,'DejaVu Sans Mono',consolas,'Courier New',monospace\">╭────────────────────────────────────── Original Prompt ──────────────────────────────────────╮\n",
       "│ Classify the text as positive (1) if it:                                                    │\n",
       "│ - Expresses clear and explicit emotions, such as happiness, excitement, or satisfaction     │\n",
       "│ - Focuses on personal experiences or stories that convey a sense of joy or fulfillment      │\n",
       "│ - Does not contain language indicative of negative sentiments, problems, or dissatisfaction │\n",
       "│ - Has a tone that strongly suggests a positive emotional intensity                          │\n",
       "│                                                                                             │\n",
       "│ Output your classification as a single digit: 0 or 1.                                       │\n",
       "╰─────────────────────────────────────────────────────────────────────────────────────────────╯\n",
       "</pre>\n"
      ],
      "text/plain": [
       "╭────────────────────────────────────── Original Prompt ──────────────────────────────────────╮\n",
       "│ Classify the text as positive (1) if it:                                                    │\n",
       "│ - Expresses clear and explicit emotions, such as happiness, excitement, or satisfaction     │\n",
       "│ - Focuses on personal experiences or stories that convey a sense of joy or fulfillment      │\n",
       "│ - Does not contain language indicative of negative sentiments, problems, or dissatisfaction │\n",
       "│ - Has a tone that strongly suggests a positive emotional intensity                          │\n",
       "│                                                                                             │\n",
       "│ Output your classification as a single digit: 0 or 1.                                       │\n",
       "╰─────────────────────────────────────────────────────────────────────────────────────────────╯\n"
      ]
     },
     "metadata": {},
     "output_type": "display_data"
    },
    {
     "data": {
      "text/html": [
       "<pre style=\"white-space:pre;overflow-x:auto;line-height:normal;font-family:Menlo,'DejaVu Sans Mono',consolas,'Courier New',monospace\"><span style=\"font-weight: bold\">╭─────────────────────────────────────── Prompt Validation and Improvement ───────────────────────────────────────╮</span>\n",
       "<span style=\"font-weight: bold\">│</span>                                                                                                                 <span style=\"font-weight: bold\">│</span>\n",
       "<span style=\"font-weight: bold\">│</span> Validation: VALID                                                                                               <span style=\"font-weight: bold\">│</span>\n",
       "<span style=\"font-weight: bold\">│</span> Improved Prompt: The original prompt is already clear and comprehensive in its specifications for text          <span style=\"font-weight: bold\">│</span>\n",
       "<span style=\"font-weight: bold\">│</span> classification.                                                                                                 <span style=\"font-weight: bold\">│</span>\n",
       "<span style=\"font-weight: bold\">│</span> Explanation: The original prompt clearly states the criteria for classifying a text as positive (1), providing  <span style=\"font-weight: bold\">│</span>\n",
       "<span style=\"font-weight: bold\">│</span> necessary context, explicit instructions, and avoiding biases. It also includes relevant details about tone,    <span style=\"font-weight: bold\">│</span>\n",
       "<span style=\"font-weight: bold\">│</span> language, and emotional intensity. Furthermore, it adheres to the required output format of a single digit (0   <span style=\"font-weight: bold\">│</span>\n",
       "<span style=\"font-weight: bold\">│</span> or 1). As a result, no changes are needed to improve its validity.                                              <span style=\"font-weight: bold\">│</span>\n",
       "<span style=\"font-weight: bold\">│</span>                                                                                                                 <span style=\"font-weight: bold\">│</span>\n",
       "<span style=\"font-weight: bold\">│</span> The prompt effectively addresses all the best practices listed, ensuring clarity and specificity in the task    <span style=\"font-weight: bold\">│</span>\n",
       "<span style=\"font-weight: bold\">│</span> description, providing contextual information necessary for classification, and giving explicit instructions on <span style=\"font-weight: bold\">│</span>\n",
       "<span style=\"font-weight: bold\">│</span> how to approach the task. It also avoids introducing unintended biases and is concise yet comprehensive in its  <span style=\"font-weight: bold\">│</span>\n",
       "<span style=\"font-weight: bold\">│</span> length.                                                                                                         <span style=\"font-weight: bold\">│</span>\n",
       "<span style=\"font-weight: bold\">│</span>                                                                                                                 <span style=\"font-weight: bold\">│</span>\n",
       "<span style=\"font-weight: bold\">╰─────────────────────────────────────────────────────────────────────────────────────────────────────────────────╯</span>\n",
       "</pre>\n"
      ],
      "text/plain": [
       "\u001b[1m╭─\u001b[0m\u001b[1m──────────────────────────────────────\u001b[0m\u001b[1m Prompt Validation and Improvement \u001b[0m\u001b[1m──────────────────────────────────────\u001b[0m\u001b[1m─╮\u001b[0m\n",
       "\u001b[1m│\u001b[0m                                                                                                                 \u001b[1m│\u001b[0m\n",
       "\u001b[1m│\u001b[0m Validation: VALID                                                                                               \u001b[1m│\u001b[0m\n",
       "\u001b[1m│\u001b[0m Improved Prompt: The original prompt is already clear and comprehensive in its specifications for text          \u001b[1m│\u001b[0m\n",
       "\u001b[1m│\u001b[0m classification.                                                                                                 \u001b[1m│\u001b[0m\n",
       "\u001b[1m│\u001b[0m Explanation: The original prompt clearly states the criteria for classifying a text as positive (1), providing  \u001b[1m│\u001b[0m\n",
       "\u001b[1m│\u001b[0m necessary context, explicit instructions, and avoiding biases. It also includes relevant details about tone,    \u001b[1m│\u001b[0m\n",
       "\u001b[1m│\u001b[0m language, and emotional intensity. Furthermore, it adheres to the required output format of a single digit (0   \u001b[1m│\u001b[0m\n",
       "\u001b[1m│\u001b[0m or 1). As a result, no changes are needed to improve its validity.                                              \u001b[1m│\u001b[0m\n",
       "\u001b[1m│\u001b[0m                                                                                                                 \u001b[1m│\u001b[0m\n",
       "\u001b[1m│\u001b[0m The prompt effectively addresses all the best practices listed, ensuring clarity and specificity in the task    \u001b[1m│\u001b[0m\n",
       "\u001b[1m│\u001b[0m description, providing contextual information necessary for classification, and giving explicit instructions on \u001b[1m│\u001b[0m\n",
       "\u001b[1m│\u001b[0m how to approach the task. It also avoids introducing unintended biases and is concise yet comprehensive in its  \u001b[1m│\u001b[0m\n",
       "\u001b[1m│\u001b[0m length.                                                                                                         \u001b[1m│\u001b[0m\n",
       "\u001b[1m│\u001b[0m                                                                                                                 \u001b[1m│\u001b[0m\n",
       "\u001b[1m╰─────────────────────────────────────────────────────────────────────────────────────────────────────────────────╯\u001b[0m\n"
      ]
     },
     "metadata": {},
     "output_type": "display_data"
    },
    {
     "name": "stdout",
     "output_type": "stream",
     "text": [
      "No improvements were necessary. The original prompt is valid.\n",
      "\n",
      "Iteration 2/5\n"
     ]
    },
    {
     "data": {
      "text/html": [
       "<pre style=\"white-space:pre;overflow-x:auto;line-height:normal;font-family:Menlo,'DejaVu Sans Mono',consolas,'Courier New',monospace\"><span style=\"color: #000080; text-decoration-color: #000080\">╭──────────────────────────────────── Current Full Prompt ────────────────────────────────────╮</span>\n",
       "<span style=\"color: #000080; text-decoration-color: #000080\">│</span> Classify the text as positive (1) if it:                                                    <span style=\"color: #000080; text-decoration-color: #000080\">│</span>\n",
       "<span style=\"color: #000080; text-decoration-color: #000080\">│</span> - Expresses clear and explicit emotions, such as happiness, excitement, or satisfaction     <span style=\"color: #000080; text-decoration-color: #000080\">│</span>\n",
       "<span style=\"color: #000080; text-decoration-color: #000080\">│</span> - Focuses on personal experiences or stories that convey a sense of joy or fulfillment      <span style=\"color: #000080; text-decoration-color: #000080\">│</span>\n",
       "<span style=\"color: #000080; text-decoration-color: #000080\">│</span> - Does not contain language indicative of negative sentiments, problems, or dissatisfaction <span style=\"color: #000080; text-decoration-color: #000080\">│</span>\n",
       "<span style=\"color: #000080; text-decoration-color: #000080\">│</span> - Has a tone that strongly suggests a positive emotional intensity                          <span style=\"color: #000080; text-decoration-color: #000080\">│</span>\n",
       "<span style=\"color: #000080; text-decoration-color: #000080\">│</span>                                                                                             <span style=\"color: #000080; text-decoration-color: #000080\">│</span>\n",
       "<span style=\"color: #000080; text-decoration-color: #000080\">│</span> Output your classification as a single digit: 0 or 1.                                       <span style=\"color: #000080; text-decoration-color: #000080\">│</span>\n",
       "<span style=\"color: #000080; text-decoration-color: #000080\">╰─────────────────────────────────────────────────────────────────────────────────────────────╯</span>\n",
       "</pre>\n"
      ],
      "text/plain": [
       "\u001b[34m╭─\u001b[0m\u001b[34m───────────────────────────────────\u001b[0m\u001b[34m Current Full Prompt \u001b[0m\u001b[34m───────────────────────────────────\u001b[0m\u001b[34m─╮\u001b[0m\n",
       "\u001b[34m│\u001b[0m Classify the text as positive (1) if it:                                                    \u001b[34m│\u001b[0m\n",
       "\u001b[34m│\u001b[0m - Expresses clear and explicit emotions, such as happiness, excitement, or satisfaction     \u001b[34m│\u001b[0m\n",
       "\u001b[34m│\u001b[0m - Focuses on personal experiences or stories that convey a sense of joy or fulfillment      \u001b[34m│\u001b[0m\n",
       "\u001b[34m│\u001b[0m - Does not contain language indicative of negative sentiments, problems, or dissatisfaction \u001b[34m│\u001b[0m\n",
       "\u001b[34m│\u001b[0m - Has a tone that strongly suggests a positive emotional intensity                          \u001b[34m│\u001b[0m\n",
       "\u001b[34m│\u001b[0m                                                                                             \u001b[34m│\u001b[0m\n",
       "\u001b[34m│\u001b[0m Output your classification as a single digit: 0 or 1.                                       \u001b[34m│\u001b[0m\n",
       "\u001b[34m╰─────────────────────────────────────────────────────────────────────────────────────────────╯\u001b[0m\n"
      ]
     },
     "metadata": {},
     "output_type": "display_data"
    },
    {
     "name": "stdout",
     "output_type": "stream",
     "text": [
      "Processing text 1/4\n",
      "Prediction 1/4: 1 | Ground Truth: 1 ✅ (TP)\n",
      "Processing text 2/4\n",
      "Prediction 2/4: 1 | Ground Truth: 1 ✅ (TP)\n",
      "Processing text 3/4\n",
      "Unable to match the output pattern: ^(\\d)$\n",
      "Prediction 3/4: None | Ground Truth: 0 🛠️ (Invalid Output Format) - Raw output: Since the text expresses sadness and is likely to have a tone that suggests a negative emotional intensity, I would classify it as:0\n",
      "Processing text 4/4\n",
      "Unable to match the output pattern: ^(\\d)$\n",
      "Prediction 4/4: None | Ground Truth: 1 🛠️ (Invalid Output Format) - Raw output: That text doesn't really convey any clear emotions one way or the other. It's more of a neutral statement. Classification: 0\n"
     ]
    },
    {
     "data": {
      "text/html": [
       "<pre style=\"white-space:pre;overflow-x:auto;line-height:normal;font-family:Menlo,'DejaVu Sans Mono',consolas,'Courier New',monospace\"><span style=\"font-style: italic\">Evaluation Metrics - Iteration 2</span>\n",
       "┏━━━━━━━━━━━━━━━━━━━━━┳━━━━━━━━┓\n",
       "┃<span style=\"font-weight: bold\"> Metric              </span>┃<span style=\"font-weight: bold\">  Value </span>┃\n",
       "┡━━━━━━━━━━━━━━━━━━━━━╇━━━━━━━━┩\n",
       "│ Precision           │ 1.0000 │\n",
       "│ Recall              │ 1.0000 │\n",
       "│ Accuracy            │ 1.0000 │\n",
       "│ F1-score            │ 1.0000 │\n",
       "│ Valid Predictions   │      2 │\n",
       "│ Invalid Predictions │      2 │\n",
       "└─────────────────────┴────────┘\n",
       "</pre>\n"
      ],
      "text/plain": [
       "\u001b[3mEvaluation Metrics - Iteration 2\u001b[0m\n",
       "┏━━━━━━━━━━━━━━━━━━━━━┳━━━━━━━━┓\n",
       "┃\u001b[1m \u001b[0m\u001b[1mMetric             \u001b[0m\u001b[1m \u001b[0m┃\u001b[1m \u001b[0m\u001b[1m Value\u001b[0m\u001b[1m \u001b[0m┃\n",
       "┡━━━━━━━━━━━━━━━━━━━━━╇━━━━━━━━┩\n",
       "│ Precision           │ 1.0000 │\n",
       "│ Recall              │ 1.0000 │\n",
       "│ Accuracy            │ 1.0000 │\n",
       "│ F1-score            │ 1.0000 │\n",
       "│ Valid Predictions   │      2 │\n",
       "│ Invalid Predictions │      2 │\n",
       "└─────────────────────┴────────┘\n"
      ]
     },
     "metadata": {},
     "output_type": "display_data"
    },
    {
     "name": "stdout",
     "output_type": "stream",
     "text": [
      "\n",
      "Analyzing misclassifications, true positives, and invalid outputs...\n"
     ]
    },
    {
     "data": {
      "text/html": [
       "<pre style=\"white-space:pre;overflow-x:auto;line-height:normal;font-family:Menlo,'DejaVu Sans Mono',consolas,'Courier New',monospace\"><span style=\"font-weight: bold\">╭───────── False Positives Analysis ──────────╮</span>\n",
       "<span style=\"font-weight: bold\">│</span>                                             <span style=\"font-weight: bold\">│</span>\n",
       "<span style=\"font-weight: bold\">│</span> No false positives found in this iteration. <span style=\"font-weight: bold\">│</span>\n",
       "<span style=\"font-weight: bold\">│</span>                                             <span style=\"font-weight: bold\">│</span>\n",
       "<span style=\"font-weight: bold\">╰─────────────────────────────────────────────╯</span>\n",
       "</pre>\n"
      ],
      "text/plain": [
       "\u001b[1m╭─\u001b[0m\u001b[1m────────\u001b[0m\u001b[1m False Positives Analysis \u001b[0m\u001b[1m─────────\u001b[0m\u001b[1m─╮\u001b[0m\n",
       "\u001b[1m│\u001b[0m                                             \u001b[1m│\u001b[0m\n",
       "\u001b[1m│\u001b[0m No false positives found in this iteration. \u001b[1m│\u001b[0m\n",
       "\u001b[1m│\u001b[0m                                             \u001b[1m│\u001b[0m\n",
       "\u001b[1m╰─────────────────────────────────────────────╯\u001b[0m\n"
      ]
     },
     "metadata": {},
     "output_type": "display_data"
    },
    {
     "data": {
      "text/html": [
       "<pre style=\"white-space:pre;overflow-x:auto;line-height:normal;font-family:Menlo,'DejaVu Sans Mono',consolas,'Courier New',monospace\"><span style=\"font-weight: bold\">╭───────── False Negatives Analysis ──────────╮</span>\n",
       "<span style=\"font-weight: bold\">│</span>                                             <span style=\"font-weight: bold\">│</span>\n",
       "<span style=\"font-weight: bold\">│</span> No false negatives found in this iteration. <span style=\"font-weight: bold\">│</span>\n",
       "<span style=\"font-weight: bold\">│</span>                                             <span style=\"font-weight: bold\">│</span>\n",
       "<span style=\"font-weight: bold\">╰─────────────────────────────────────────────╯</span>\n",
       "</pre>\n"
      ],
      "text/plain": [
       "\u001b[1m╭─\u001b[0m\u001b[1m────────\u001b[0m\u001b[1m False Negatives Analysis \u001b[0m\u001b[1m─────────\u001b[0m\u001b[1m─╮\u001b[0m\n",
       "\u001b[1m│\u001b[0m                                             \u001b[1m│\u001b[0m\n",
       "\u001b[1m│\u001b[0m No false negatives found in this iteration. \u001b[1m│\u001b[0m\n",
       "\u001b[1m│\u001b[0m                                             \u001b[1m│\u001b[0m\n",
       "\u001b[1m╰─────────────────────────────────────────────╯\u001b[0m\n"
      ]
     },
     "metadata": {},
     "output_type": "display_data"
    },
    {
     "data": {
      "text/html": [
       "<pre style=\"white-space:pre;overflow-x:auto;line-height:normal;font-family:Menlo,'DejaVu Sans Mono',consolas,'Courier New',monospace\"><span style=\"font-weight: bold\">╭──────────────────────────────────────────── True Positives Analysis ────────────────────────────────────────────╮</span>\n",
       "<span style=\"font-weight: bold\">│</span>                                                                                                                 <span style=\"font-weight: bold\">│</span>\n",
       "<span style=\"font-weight: bold\">│</span> Here is the analysis of the true positive examples:                                                             <span style=\"font-weight: bold\">│</span>\n",
       "<span style=\"font-weight: bold\">│</span>                                                                                                                 <span style=\"font-weight: bold\">│</span>\n",
       "<span style=\"font-weight: bold\">│</span> **Key Observations:**                                                                                           <span style=\"font-weight: bold\">│</span>\n",
       "<span style=\"font-weight: bold\">│</span>                                                                                                                 <span style=\"font-weight: bold\">│</span>\n",
       "<span style=\"font-weight: bold\">│</span> 1. **Explicit Emotion Expression**: Both examples explicitly express happiness (\"I am happy!\") and excitement   <span style=\"font-weight: bold\">│</span>\n",
       "<span style=\"font-weight: bold\">│</span> (\"excited about the trip\"), which are clear indicators of positive emotions.                                    <span style=\"font-weight: bold\">│</span>\n",
       "<span style=\"font-weight: bold\">│</span> 2. **Emotional Intensity Tone**: The tone in both examples strongly suggests a high emotional intensity,        <span style=\"font-weight: bold\">│</span>\n",
       "<span style=\"font-weight: bold\">│</span> conveying a sense of enthusiasm and eagerness.                                                                  <span style=\"font-weight: bold\">│</span>\n",
       "<span style=\"font-weight: bold\">│</span> 3. **Lack of Negative Indicators**: Neither example contains language indicative of negative sentiments,        <span style=\"font-weight: bold\">│</span>\n",
       "<span style=\"font-weight: bold\">│</span> problems, or dissatisfaction, further reinforcing the classification as positive.                               <span style=\"font-weight: bold\">│</span>\n",
       "<span style=\"font-weight: bold\">│</span>                                                                                                                 <span style=\"font-weight: bold\">│</span>\n",
       "<span style=\"font-weight: bold\">│</span> **Recommendations:**                                                                                            <span style=\"font-weight: bold\">│</span>\n",
       "<span style=\"font-weight: bold\">│</span>                                                                                                                 <span style=\"font-weight: bold\">│</span>\n",
       "<span style=\"font-weight: bold\">│</span> * To reinforce these patterns, consider adding more examples with explicit emotion expression and strong tone   <span style=\"font-weight: bold\">│</span>\n",
       "<span style=\"font-weight: bold\">│</span> indicators in your training data.                                                                               <span style=\"font-weight: bold\">│</span>\n",
       "<span style=\"font-weight: bold\">│</span> * Use more diverse vocabulary for emotional intensity, such as \"thrilled\" or \"ecstatic\", to improve model       <span style=\"font-weight: bold\">│</span>\n",
       "<span style=\"font-weight: bold\">│</span> robustness.                                                                                                     <span style=\"font-weight: bold\">│</span>\n",
       "<span style=\"font-weight: bold\">│</span>                                                                                                                 <span style=\"font-weight: bold\">│</span>\n",
       "<span style=\"font-weight: bold\">╰─────────────────────────────────────────────────────────────────────────────────────────────────────────────────╯</span>\n",
       "</pre>\n"
      ],
      "text/plain": [
       "\u001b[1m╭─\u001b[0m\u001b[1m───────────────────────────────────────────\u001b[0m\u001b[1m True Positives Analysis \u001b[0m\u001b[1m───────────────────────────────────────────\u001b[0m\u001b[1m─╮\u001b[0m\n",
       "\u001b[1m│\u001b[0m                                                                                                                 \u001b[1m│\u001b[0m\n",
       "\u001b[1m│\u001b[0m Here is the analysis of the true positive examples:                                                             \u001b[1m│\u001b[0m\n",
       "\u001b[1m│\u001b[0m                                                                                                                 \u001b[1m│\u001b[0m\n",
       "\u001b[1m│\u001b[0m **Key Observations:**                                                                                           \u001b[1m│\u001b[0m\n",
       "\u001b[1m│\u001b[0m                                                                                                                 \u001b[1m│\u001b[0m\n",
       "\u001b[1m│\u001b[0m 1. **Explicit Emotion Expression**: Both examples explicitly express happiness (\"I am happy!\") and excitement   \u001b[1m│\u001b[0m\n",
       "\u001b[1m│\u001b[0m (\"excited about the trip\"), which are clear indicators of positive emotions.                                    \u001b[1m│\u001b[0m\n",
       "\u001b[1m│\u001b[0m 2. **Emotional Intensity Tone**: The tone in both examples strongly suggests a high emotional intensity,        \u001b[1m│\u001b[0m\n",
       "\u001b[1m│\u001b[0m conveying a sense of enthusiasm and eagerness.                                                                  \u001b[1m│\u001b[0m\n",
       "\u001b[1m│\u001b[0m 3. **Lack of Negative Indicators**: Neither example contains language indicative of negative sentiments,        \u001b[1m│\u001b[0m\n",
       "\u001b[1m│\u001b[0m problems, or dissatisfaction, further reinforcing the classification as positive.                               \u001b[1m│\u001b[0m\n",
       "\u001b[1m│\u001b[0m                                                                                                                 \u001b[1m│\u001b[0m\n",
       "\u001b[1m│\u001b[0m **Recommendations:**                                                                                            \u001b[1m│\u001b[0m\n",
       "\u001b[1m│\u001b[0m                                                                                                                 \u001b[1m│\u001b[0m\n",
       "\u001b[1m│\u001b[0m * To reinforce these patterns, consider adding more examples with explicit emotion expression and strong tone   \u001b[1m│\u001b[0m\n",
       "\u001b[1m│\u001b[0m indicators in your training data.                                                                               \u001b[1m│\u001b[0m\n",
       "\u001b[1m│\u001b[0m * Use more diverse vocabulary for emotional intensity, such as \"thrilled\" or \"ecstatic\", to improve model       \u001b[1m│\u001b[0m\n",
       "\u001b[1m│\u001b[0m robustness.                                                                                                     \u001b[1m│\u001b[0m\n",
       "\u001b[1m│\u001b[0m                                                                                                                 \u001b[1m│\u001b[0m\n",
       "\u001b[1m╰─────────────────────────────────────────────────────────────────────────────────────────────────────────────────╯\u001b[0m\n"
      ]
     },
     "metadata": {},
     "output_type": "display_data"
    },
    {
     "data": {
      "text/html": [
       "<pre style=\"white-space:pre;overflow-x:auto;line-height:normal;font-family:Menlo,'DejaVu Sans Mono',consolas,'Courier New',monospace\"><span style=\"font-weight: bold\">╭─────────────────────────────────────────── Invalid Outputs Analysis ────────────────────────────────────────────╮</span>\n",
       "<span style=\"font-weight: bold\">│</span>                                                                                                                 <span style=\"font-weight: bold\">│</span>\n",
       "<span style=\"font-weight: bold\">│</span> Based on the provided context and analysis of invalid outputs, here are three key points for improving the      <span style=\"font-weight: bold\">│</span>\n",
       "<span style=\"font-weight: bold\">│</span> prompt to achieve consistent output formatting:                                                                 <span style=\"font-weight: bold\">│</span>\n",
       "<span style=\"font-weight: bold\">│</span>                                                                                                                 <span style=\"font-weight: bold\">│</span>\n",
       "<span style=\"font-weight: bold\">│</span> 1. **Clarify the expectation of \"0\" classification**: In the first invalid output, the model correctly          <span style=\"font-weight: bold\">│</span>\n",
       "<span style=\"font-weight: bold\">│</span> identifies a negative sentiment but incorrectly classifies it as 0. The prompt should emphasize that any text   <span style=\"font-weight: bold\">│</span>\n",
       "<span style=\"font-weight: bold\">│</span> expressing negative emotions or dissatisfaction should be classified as 0, regardless of tone.                  <span style=\"font-weight: bold\">│</span>\n",
       "<span style=\"font-weight: bold\">│</span> 2. **Emphasize neutral statements as ambiguous**: In the second invalid output, the model acknowledges a        <span style=\"font-weight: bold\">│</span>\n",
       "<span style=\"font-weight: bold\">│</span> neutral statement but incorrectly classifies it as 0. The prompt should highlight that neutral statements are   <span style=\"font-weight: bold\">│</span>\n",
       "<span style=\"font-weight: bold\">│</span> inherently uncertain and might not meet the criteria for either positive (1) or negative (0) classification.    <span style=\"font-weight: bold\">│</span>\n",
       "<span style=\"font-weight: bold\">│</span> 3. **Strengthen the condition for \"positive\" (1) classification**: To reduce invalid outputs, the prompt should <span style=\"font-weight: bold\">│</span>\n",
       "<span style=\"font-weight: bold\">│</span> more explicitly define what characteristics or language features indicate a strong likelihood of a positive     <span style=\"font-weight: bold\">│</span>\n",
       "<span style=\"font-weight: bold\">│</span> emotional intensity, ensuring that the model accurately classifies texts as 1 only when they meet these         <span style=\"font-weight: bold\">│</span>\n",
       "<span style=\"font-weight: bold\">│</span> criteria.                                                                                                       <span style=\"font-weight: bold\">│</span>\n",
       "<span style=\"font-weight: bold\">│</span>                                                                                                                 <span style=\"font-weight: bold\">│</span>\n",
       "<span style=\"font-weight: bold\">│</span> By refining these aspects, you can guide the model to produce outputs that align with the specified format and  <span style=\"font-weight: bold\">│</span>\n",
       "<span style=\"font-weight: bold\">│</span> reduce formatting errors.                                                                                       <span style=\"font-weight: bold\">│</span>\n",
       "<span style=\"font-weight: bold\">│</span>                                                                                                                 <span style=\"font-weight: bold\">│</span>\n",
       "<span style=\"font-weight: bold\">╰─────────────────────────────────────────────────────────────────────────────────────────────────────────────────╯</span>\n",
       "</pre>\n"
      ],
      "text/plain": [
       "\u001b[1m╭─\u001b[0m\u001b[1m──────────────────────────────────────────\u001b[0m\u001b[1m Invalid Outputs Analysis \u001b[0m\u001b[1m───────────────────────────────────────────\u001b[0m\u001b[1m─╮\u001b[0m\n",
       "\u001b[1m│\u001b[0m                                                                                                                 \u001b[1m│\u001b[0m\n",
       "\u001b[1m│\u001b[0m Based on the provided context and analysis of invalid outputs, here are three key points for improving the      \u001b[1m│\u001b[0m\n",
       "\u001b[1m│\u001b[0m prompt to achieve consistent output formatting:                                                                 \u001b[1m│\u001b[0m\n",
       "\u001b[1m│\u001b[0m                                                                                                                 \u001b[1m│\u001b[0m\n",
       "\u001b[1m│\u001b[0m 1. **Clarify the expectation of \"0\" classification**: In the first invalid output, the model correctly          \u001b[1m│\u001b[0m\n",
       "\u001b[1m│\u001b[0m identifies a negative sentiment but incorrectly classifies it as 0. The prompt should emphasize that any text   \u001b[1m│\u001b[0m\n",
       "\u001b[1m│\u001b[0m expressing negative emotions or dissatisfaction should be classified as 0, regardless of tone.                  \u001b[1m│\u001b[0m\n",
       "\u001b[1m│\u001b[0m 2. **Emphasize neutral statements as ambiguous**: In the second invalid output, the model acknowledges a        \u001b[1m│\u001b[0m\n",
       "\u001b[1m│\u001b[0m neutral statement but incorrectly classifies it as 0. The prompt should highlight that neutral statements are   \u001b[1m│\u001b[0m\n",
       "\u001b[1m│\u001b[0m inherently uncertain and might not meet the criteria for either positive (1) or negative (0) classification.    \u001b[1m│\u001b[0m\n",
       "\u001b[1m│\u001b[0m 3. **Strengthen the condition for \"positive\" (1) classification**: To reduce invalid outputs, the prompt should \u001b[1m│\u001b[0m\n",
       "\u001b[1m│\u001b[0m more explicitly define what characteristics or language features indicate a strong likelihood of a positive     \u001b[1m│\u001b[0m\n",
       "\u001b[1m│\u001b[0m emotional intensity, ensuring that the model accurately classifies texts as 1 only when they meet these         \u001b[1m│\u001b[0m\n",
       "\u001b[1m│\u001b[0m criteria.                                                                                                       \u001b[1m│\u001b[0m\n",
       "\u001b[1m│\u001b[0m                                                                                                                 \u001b[1m│\u001b[0m\n",
       "\u001b[1m│\u001b[0m By refining these aspects, you can guide the model to produce outputs that align with the specified format and  \u001b[1m│\u001b[0m\n",
       "\u001b[1m│\u001b[0m reduce formatting errors.                                                                                       \u001b[1m│\u001b[0m\n",
       "\u001b[1m│\u001b[0m                                                                                                                 \u001b[1m│\u001b[0m\n",
       "\u001b[1m╰─────────────────────────────────────────────────────────────────────────────────────────────────────────────────╯\u001b[0m\n"
      ]
     },
     "metadata": {},
     "output_type": "display_data"
    },
    {
     "name": "stdout",
     "output_type": "stream",
     "text": [
      "\n",
      "Validating and improving the new prompt...\n"
     ]
    },
    {
     "data": {
      "text/html": [
       "<pre style=\"white-space:pre;overflow-x:auto;line-height:normal;font-family:Menlo,'DejaVu Sans Mono',consolas,'Courier New',monospace\">╭──────────────────────────────────────────────── Original Prompt ────────────────────────────────────────────────╮\n",
       "│ Classify the text as positive (1) if it:                                                                        │\n",
       "│ - Expresses explicit emotions such as happiness, excitement, or satisfaction, and their intensity is strong     │\n",
       "│ enough to overshadow any neutral tone                                                                           │\n",
       "│ - Focuses on personal experiences or stories that convey a sense of joy or fulfillment without hints of         │\n",
       "│ negative sentiments or problems                                                                                 │\n",
       "│ - Does not contain language indicative of dissatisfaction, criticism, or negative emotional intensity           │\n",
       "│ - Is written in a way that the overall tone strongly suggests an enthusiasm, eagerness, or other positive       │\n",
       "│ emotions rather than neutrality or negativity                                                                   │\n",
       "│                                                                                                                 │\n",
       "│ Output your classification as a single digit: 0 (if it does not meet all criteria) or 1.                        │\n",
       "╰─────────────────────────────────────────────────────────────────────────────────────────────────────────────────╯\n",
       "</pre>\n"
      ],
      "text/plain": [
       "╭──────────────────────────────────────────────── Original Prompt ────────────────────────────────────────────────╮\n",
       "│ Classify the text as positive (1) if it:                                                                        │\n",
       "│ - Expresses explicit emotions such as happiness, excitement, or satisfaction, and their intensity is strong     │\n",
       "│ enough to overshadow any neutral tone                                                                           │\n",
       "│ - Focuses on personal experiences or stories that convey a sense of joy or fulfillment without hints of         │\n",
       "│ negative sentiments or problems                                                                                 │\n",
       "│ - Does not contain language indicative of dissatisfaction, criticism, or negative emotional intensity           │\n",
       "│ - Is written in a way that the overall tone strongly suggests an enthusiasm, eagerness, or other positive       │\n",
       "│ emotions rather than neutrality or negativity                                                                   │\n",
       "│                                                                                                                 │\n",
       "│ Output your classification as a single digit: 0 (if it does not meet all criteria) or 1.                        │\n",
       "╰─────────────────────────────────────────────────────────────────────────────────────────────────────────────────╯\n"
      ]
     },
     "metadata": {},
     "output_type": "display_data"
    },
    {
     "data": {
      "text/html": [
       "<pre style=\"white-space:pre;overflow-x:auto;line-height:normal;font-family:Menlo,'DejaVu Sans Mono',consolas,'Courier New',monospace\"><span style=\"font-weight: bold\">╭─────────────────────────────────────── Prompt Validation and Improvement ───────────────────────────────────────╮</span>\n",
       "<span style=\"font-weight: bold\">│</span>                                                                                                                 <span style=\"font-weight: bold\">│</span>\n",
       "<span style=\"font-weight: bold\">│</span> Validation: VALID                                                                                               <span style=\"font-weight: bold\">│</span>\n",
       "<span style=\"font-weight: bold\">│</span> Improved Prompt:                                                                                                <span style=\"font-weight: bold\">│</span>\n",
       "<span style=\"font-weight: bold\">│</span> Explanation: The original prompt is clear and specific about the task, provides necessary context, gives        <span style=\"font-weight: bold\">│</span>\n",
       "<span style=\"font-weight: bold\">│</span> explicit instructions, includes relevant criteria for classification (e.g., expression of emotions, focus on    <span style=\"font-weight: bold\">│</span>\n",
       "<span style=\"font-weight: bold\">│</span> personal experiences), and clearly specifies the desired output format. It also does a good job avoiding biases <span style=\"font-weight: bold\">│</span>\n",
       "<span style=\"font-weight: bold\">│</span> by specifying strong enough intensity to overshadow neutral tone. However, it could be improved slightly in     <span style=\"font-weight: bold\">│</span>\n",
       "<span style=\"font-weight: bold\">│</span> terms of clarity and conciseness while maintaining its original intent.                                         <span style=\"font-weight: bold\">│</span>\n",
       "<span style=\"font-weight: bold\">│</span>                                                                                                                 <span style=\"font-weight: bold\">│</span>\n",
       "<span style=\"font-weight: bold\">╰─────────────────────────────────────────────────────────────────────────────────────────────────────────────────╯</span>\n",
       "</pre>\n"
      ],
      "text/plain": [
       "\u001b[1m╭─\u001b[0m\u001b[1m──────────────────────────────────────\u001b[0m\u001b[1m Prompt Validation and Improvement \u001b[0m\u001b[1m──────────────────────────────────────\u001b[0m\u001b[1m─╮\u001b[0m\n",
       "\u001b[1m│\u001b[0m                                                                                                                 \u001b[1m│\u001b[0m\n",
       "\u001b[1m│\u001b[0m Validation: VALID                                                                                               \u001b[1m│\u001b[0m\n",
       "\u001b[1m│\u001b[0m Improved Prompt:                                                                                                \u001b[1m│\u001b[0m\n",
       "\u001b[1m│\u001b[0m Explanation: The original prompt is clear and specific about the task, provides necessary context, gives        \u001b[1m│\u001b[0m\n",
       "\u001b[1m│\u001b[0m explicit instructions, includes relevant criteria for classification (e.g., expression of emotions, focus on    \u001b[1m│\u001b[0m\n",
       "\u001b[1m│\u001b[0m personal experiences), and clearly specifies the desired output format. It also does a good job avoiding biases \u001b[1m│\u001b[0m\n",
       "\u001b[1m│\u001b[0m by specifying strong enough intensity to overshadow neutral tone. However, it could be improved slightly in     \u001b[1m│\u001b[0m\n",
       "\u001b[1m│\u001b[0m terms of clarity and conciseness while maintaining its original intent.                                         \u001b[1m│\u001b[0m\n",
       "\u001b[1m│\u001b[0m                                                                                                                 \u001b[1m│\u001b[0m\n",
       "\u001b[1m╰─────────────────────────────────────────────────────────────────────────────────────────────────────────────────╯\u001b[0m\n"
      ]
     },
     "metadata": {},
     "output_type": "display_data"
    },
    {
     "name": "stdout",
     "output_type": "stream",
     "text": [
      "No improvements were necessary. The original prompt is valid.\n",
      "\n",
      "Iteration 3/5\n"
     ]
    },
    {
     "data": {
      "text/html": [
       "<pre style=\"white-space:pre;overflow-x:auto;line-height:normal;font-family:Menlo,'DejaVu Sans Mono',consolas,'Courier New',monospace\"><span style=\"color: #000080; text-decoration-color: #000080\">╭────────────────────────────────────────────── Current Full Prompt ──────────────────────────────────────────────╮</span>\n",
       "<span style=\"color: #000080; text-decoration-color: #000080\">│</span> Classify the text as positive (1) if it:                                                                        <span style=\"color: #000080; text-decoration-color: #000080\">│</span>\n",
       "<span style=\"color: #000080; text-decoration-color: #000080\">│</span> - Expresses explicit emotions such as happiness, excitement, or satisfaction, and their intensity is strong     <span style=\"color: #000080; text-decoration-color: #000080\">│</span>\n",
       "<span style=\"color: #000080; text-decoration-color: #000080\">│</span> enough to overshadow any neutral tone                                                                           <span style=\"color: #000080; text-decoration-color: #000080\">│</span>\n",
       "<span style=\"color: #000080; text-decoration-color: #000080\">│</span> - Focuses on personal experiences or stories that convey a sense of joy or fulfillment without hints of         <span style=\"color: #000080; text-decoration-color: #000080\">│</span>\n",
       "<span style=\"color: #000080; text-decoration-color: #000080\">│</span> negative sentiments or problems                                                                                 <span style=\"color: #000080; text-decoration-color: #000080\">│</span>\n",
       "<span style=\"color: #000080; text-decoration-color: #000080\">│</span> - Does not contain language indicative of dissatisfaction, criticism, or negative emotional intensity           <span style=\"color: #000080; text-decoration-color: #000080\">│</span>\n",
       "<span style=\"color: #000080; text-decoration-color: #000080\">│</span> - Is written in a way that the overall tone strongly suggests an enthusiasm, eagerness, or other positive       <span style=\"color: #000080; text-decoration-color: #000080\">│</span>\n",
       "<span style=\"color: #000080; text-decoration-color: #000080\">│</span> emotions rather than neutrality or negativity                                                                   <span style=\"color: #000080; text-decoration-color: #000080\">│</span>\n",
       "<span style=\"color: #000080; text-decoration-color: #000080\">│</span>                                                                                                                 <span style=\"color: #000080; text-decoration-color: #000080\">│</span>\n",
       "<span style=\"color: #000080; text-decoration-color: #000080\">│</span> Output your classification as a single digit: 0 (if it does not meet all criteria) or 1.                        <span style=\"color: #000080; text-decoration-color: #000080\">│</span>\n",
       "<span style=\"color: #000080; text-decoration-color: #000080\">╰─────────────────────────────────────────────────────────────────────────────────────────────────────────────────╯</span>\n",
       "</pre>\n"
      ],
      "text/plain": [
       "\u001b[34m╭─\u001b[0m\u001b[34m─────────────────────────────────────────────\u001b[0m\u001b[34m Current Full Prompt \u001b[0m\u001b[34m─────────────────────────────────────────────\u001b[0m\u001b[34m─╮\u001b[0m\n",
       "\u001b[34m│\u001b[0m Classify the text as positive (1) if it:                                                                        \u001b[34m│\u001b[0m\n",
       "\u001b[34m│\u001b[0m - Expresses explicit emotions such as happiness, excitement, or satisfaction, and their intensity is strong     \u001b[34m│\u001b[0m\n",
       "\u001b[34m│\u001b[0m enough to overshadow any neutral tone                                                                           \u001b[34m│\u001b[0m\n",
       "\u001b[34m│\u001b[0m - Focuses on personal experiences or stories that convey a sense of joy or fulfillment without hints of         \u001b[34m│\u001b[0m\n",
       "\u001b[34m│\u001b[0m negative sentiments or problems                                                                                 \u001b[34m│\u001b[0m\n",
       "\u001b[34m│\u001b[0m - Does not contain language indicative of dissatisfaction, criticism, or negative emotional intensity           \u001b[34m│\u001b[0m\n",
       "\u001b[34m│\u001b[0m - Is written in a way that the overall tone strongly suggests an enthusiasm, eagerness, or other positive       \u001b[34m│\u001b[0m\n",
       "\u001b[34m│\u001b[0m emotions rather than neutrality or negativity                                                                   \u001b[34m│\u001b[0m\n",
       "\u001b[34m│\u001b[0m                                                                                                                 \u001b[34m│\u001b[0m\n",
       "\u001b[34m│\u001b[0m Output your classification as a single digit: 0 (if it does not meet all criteria) or 1.                        \u001b[34m│\u001b[0m\n",
       "\u001b[34m╰─────────────────────────────────────────────────────────────────────────────────────────────────────────────────╯\u001b[0m\n"
      ]
     },
     "metadata": {},
     "output_type": "display_data"
    },
    {
     "name": "stdout",
     "output_type": "stream",
     "text": [
      "Processing text 1/4\n",
      "Unable to match the output pattern: ^(\\d)$\n",
      "Prediction 1/4: None | Ground Truth: 1 🛠️ (Invalid Output Format) - Raw output: Classification: 1\n",
      "Processing text 2/4\n",
      "Unable to match the output pattern: ^(\\d)$\n",
      "Prediction 2/4: None | Ground Truth: 1 🛠️ (Invalid Output Format) - Raw output: Classification: 1\n",
      "Processing text 3/4\n",
      "Unable to match the output pattern: ^(\\d)$\n",
      "Prediction 3/4: None | Ground Truth: 0 🛠️ (Invalid Output Format) - Raw output: Since you've mentioned feeling \"sad\", that indicates the presence of negative emotional intensity, which doesn't align with the criteria for a positive tone. Therefore:Output classification: 0\n",
      "Processing text 4/4\n",
      "Unable to match the output pattern: ^(\\d)$\n",
      "Prediction 4/4: None | Ground Truth: 1 🛠️ (Invalid Output Format) - Raw output: That's a pretty neutral statement.Classification: 0\n"
     ]
    },
    {
     "data": {
      "text/html": [
       "<pre style=\"white-space:pre;overflow-x:auto;line-height:normal;font-family:Menlo,'DejaVu Sans Mono',consolas,'Courier New',monospace\"><span style=\"font-style: italic\">Evaluation Metrics - Iteration 3</span>\n",
       "┏━━━━━━━━━━━━━━━━━━━━━┳━━━━━━━━┓\n",
       "┃<span style=\"font-weight: bold\"> Metric              </span>┃<span style=\"font-weight: bold\">  Value </span>┃\n",
       "┡━━━━━━━━━━━━━━━━━━━━━╇━━━━━━━━┩\n",
       "│ Precision           │ 0.0000 │\n",
       "│ Recall              │ 0.0000 │\n",
       "│ Accuracy            │ 0.0000 │\n",
       "│ F1-score            │ 0.0000 │\n",
       "│ Valid Predictions   │      0 │\n",
       "│ Invalid Predictions │      4 │\n",
       "└─────────────────────┴────────┘\n",
       "</pre>\n"
      ],
      "text/plain": [
       "\u001b[3mEvaluation Metrics - Iteration 3\u001b[0m\n",
       "┏━━━━━━━━━━━━━━━━━━━━━┳━━━━━━━━┓\n",
       "┃\u001b[1m \u001b[0m\u001b[1mMetric             \u001b[0m\u001b[1m \u001b[0m┃\u001b[1m \u001b[0m\u001b[1m Value\u001b[0m\u001b[1m \u001b[0m┃\n",
       "┡━━━━━━━━━━━━━━━━━━━━━╇━━━━━━━━┩\n",
       "│ Precision           │ 0.0000 │\n",
       "│ Recall              │ 0.0000 │\n",
       "│ Accuracy            │ 0.0000 │\n",
       "│ F1-score            │ 0.0000 │\n",
       "│ Valid Predictions   │      0 │\n",
       "│ Invalid Predictions │      4 │\n",
       "└─────────────────────┴────────┘\n"
      ]
     },
     "metadata": {},
     "output_type": "display_data"
    },
    {
     "name": "stdout",
     "output_type": "stream",
     "text": [
      "\n",
      "Analyzing misclassifications, true positives, and invalid outputs...\n"
     ]
    },
    {
     "data": {
      "text/html": [
       "<pre style=\"white-space:pre;overflow-x:auto;line-height:normal;font-family:Menlo,'DejaVu Sans Mono',consolas,'Courier New',monospace\"><span style=\"font-weight: bold\">╭───────── False Positives Analysis ──────────╮</span>\n",
       "<span style=\"font-weight: bold\">│</span>                                             <span style=\"font-weight: bold\">│</span>\n",
       "<span style=\"font-weight: bold\">│</span> No false positives found in this iteration. <span style=\"font-weight: bold\">│</span>\n",
       "<span style=\"font-weight: bold\">│</span>                                             <span style=\"font-weight: bold\">│</span>\n",
       "<span style=\"font-weight: bold\">╰─────────────────────────────────────────────╯</span>\n",
       "</pre>\n"
      ],
      "text/plain": [
       "\u001b[1m╭─\u001b[0m\u001b[1m────────\u001b[0m\u001b[1m False Positives Analysis \u001b[0m\u001b[1m─────────\u001b[0m\u001b[1m─╮\u001b[0m\n",
       "\u001b[1m│\u001b[0m                                             \u001b[1m│\u001b[0m\n",
       "\u001b[1m│\u001b[0m No false positives found in this iteration. \u001b[1m│\u001b[0m\n",
       "\u001b[1m│\u001b[0m                                             \u001b[1m│\u001b[0m\n",
       "\u001b[1m╰─────────────────────────────────────────────╯\u001b[0m\n"
      ]
     },
     "metadata": {},
     "output_type": "display_data"
    },
    {
     "data": {
      "text/html": [
       "<pre style=\"white-space:pre;overflow-x:auto;line-height:normal;font-family:Menlo,'DejaVu Sans Mono',consolas,'Courier New',monospace\"><span style=\"font-weight: bold\">╭───────── False Negatives Analysis ──────────╮</span>\n",
       "<span style=\"font-weight: bold\">│</span>                                             <span style=\"font-weight: bold\">│</span>\n",
       "<span style=\"font-weight: bold\">│</span> No false negatives found in this iteration. <span style=\"font-weight: bold\">│</span>\n",
       "<span style=\"font-weight: bold\">│</span>                                             <span style=\"font-weight: bold\">│</span>\n",
       "<span style=\"font-weight: bold\">╰─────────────────────────────────────────────╯</span>\n",
       "</pre>\n"
      ],
      "text/plain": [
       "\u001b[1m╭─\u001b[0m\u001b[1m────────\u001b[0m\u001b[1m False Negatives Analysis \u001b[0m\u001b[1m─────────\u001b[0m\u001b[1m─╮\u001b[0m\n",
       "\u001b[1m│\u001b[0m                                             \u001b[1m│\u001b[0m\n",
       "\u001b[1m│\u001b[0m No false negatives found in this iteration. \u001b[1m│\u001b[0m\n",
       "\u001b[1m│\u001b[0m                                             \u001b[1m│\u001b[0m\n",
       "\u001b[1m╰─────────────────────────────────────────────╯\u001b[0m\n"
      ]
     },
     "metadata": {},
     "output_type": "display_data"
    },
    {
     "data": {
      "text/html": [
       "<pre style=\"white-space:pre;overflow-x:auto;line-height:normal;font-family:Menlo,'DejaVu Sans Mono',consolas,'Courier New',monospace\"><span style=\"font-weight: bold\">╭───────── True Positives Analysis ──────────╮</span>\n",
       "<span style=\"font-weight: bold\">│</span>                                            <span style=\"font-weight: bold\">│</span>\n",
       "<span style=\"font-weight: bold\">│</span> No true positives found in this iteration. <span style=\"font-weight: bold\">│</span>\n",
       "<span style=\"font-weight: bold\">│</span>                                            <span style=\"font-weight: bold\">│</span>\n",
       "<span style=\"font-weight: bold\">╰────────────────────────────────────────────╯</span>\n",
       "</pre>\n"
      ],
      "text/plain": [
       "\u001b[1m╭─\u001b[0m\u001b[1m────────\u001b[0m\u001b[1m True Positives Analysis \u001b[0m\u001b[1m─────────\u001b[0m\u001b[1m─╮\u001b[0m\n",
       "\u001b[1m│\u001b[0m                                            \u001b[1m│\u001b[0m\n",
       "\u001b[1m│\u001b[0m No true positives found in this iteration. \u001b[1m│\u001b[0m\n",
       "\u001b[1m│\u001b[0m                                            \u001b[1m│\u001b[0m\n",
       "\u001b[1m╰────────────────────────────────────────────╯\u001b[0m\n"
      ]
     },
     "metadata": {},
     "output_type": "display_data"
    },
    {
     "data": {
      "text/html": [
       "<pre style=\"white-space:pre;overflow-x:auto;line-height:normal;font-family:Menlo,'DejaVu Sans Mono',consolas,'Courier New',monospace\"><span style=\"font-weight: bold\">╭─────────────────────────────────────────── Invalid Outputs Analysis ────────────────────────────────────────────╮</span>\n",
       "<span style=\"font-weight: bold\">│</span>                                                                                                                 <span style=\"font-weight: bold\">│</span>\n",
       "<span style=\"font-weight: bold\">│</span> Based on the provided invalid outputs and context, here are three key points to improve the prompt and reduce   <span style=\"font-weight: bold\">│</span>\n",
       "<span style=\"font-weight: bold\">│</span> formatting errors:                                                                                              <span style=\"font-weight: bold\">│</span>\n",
       "<span style=\"font-weight: bold\">│</span>                                                                                                                 <span style=\"font-weight: bold\">│</span>\n",
       "<span style=\"font-weight: bold\">│</span> 1. **Clarify the presence of negative emotions**: The current prompt does not explicitly address how to handle  <span style=\"font-weight: bold\">│</span>\n",
       "<span style=\"font-weight: bold\">│</span> texts that express mixed or neutral emotions. To fix this, add a sentence to the prompt that suggests checking  <span style=\"font-weight: bold\">│</span>\n",
       "<span style=\"font-weight: bold\">│</span> for any indication of negative sentiments or emotional intensity. This would prevent outputs like \"I am happy!\" <span style=\"font-weight: bold\">│</span>\n",
       "<span style=\"font-weight: bold\">│</span> and \"excited about the trip\" from being incorrectly classified as positive.                                     <span style=\"font-weight: bold\">│</span>\n",
       "<span style=\"font-weight: bold\">│</span> 2. **Specify handling of explicit negativity**: The prompt does not account for texts that explicitly state     <span style=\"font-weight: bold\">│</span>\n",
       "<span style=\"font-weight: bold\">│</span> negative emotions, like \"I am sad!\". To address this, add a sentence to the prompt that advises checking if the <span style=\"font-weight: bold\">│</span>\n",
       "<span style=\"font-weight: bold\">│</span> text contains language indicative of dissatisfaction, criticism, or other negative emotional intensity.         <span style=\"font-weight: bold\">│</span>\n",
       "<span style=\"font-weight: bold\">│</span> 3. **Emphasize the importance of overall tone**: The current prompt focuses on specific keywords and phrases    <span style=\"font-weight: bold\">│</span>\n",
       "<span style=\"font-weight: bold\">│</span> but does not emphasize the significance of the overall tone in determining the classification. To fix this, add <span style=\"font-weight: bold\">│</span>\n",
       "<span style=\"font-weight: bold\">│</span> a sentence to the prompt that highlights the need to consider the text's overall tone when making the           <span style=\"font-weight: bold\">│</span>\n",
       "<span style=\"font-weight: bold\">│</span> classification. This would prevent outputs like \"i am not sure how i feel\" from being incorrectly classified as <span style=\"font-weight: bold\">│</span>\n",
       "<span style=\"font-weight: bold\">│</span> 0.                                                                                                              <span style=\"font-weight: bold\">│</span>\n",
       "<span style=\"font-weight: bold\">│</span>                                                                                                                 <span style=\"font-weight: bold\">│</span>\n",
       "<span style=\"font-weight: bold\">│</span> These improvements should help guide the model to produce outputs that match the existing schema more           <span style=\"font-weight: bold\">│</span>\n",
       "<span style=\"font-weight: bold\">│</span> accurately and reduce formatting errors.                                                                        <span style=\"font-weight: bold\">│</span>\n",
       "<span style=\"font-weight: bold\">│</span>                                                                                                                 <span style=\"font-weight: bold\">│</span>\n",
       "<span style=\"font-weight: bold\">╰─────────────────────────────────────────────────────────────────────────────────────────────────────────────────╯</span>\n",
       "</pre>\n"
      ],
      "text/plain": [
       "\u001b[1m╭─\u001b[0m\u001b[1m──────────────────────────────────────────\u001b[0m\u001b[1m Invalid Outputs Analysis \u001b[0m\u001b[1m───────────────────────────────────────────\u001b[0m\u001b[1m─╮\u001b[0m\n",
       "\u001b[1m│\u001b[0m                                                                                                                 \u001b[1m│\u001b[0m\n",
       "\u001b[1m│\u001b[0m Based on the provided invalid outputs and context, here are three key points to improve the prompt and reduce   \u001b[1m│\u001b[0m\n",
       "\u001b[1m│\u001b[0m formatting errors:                                                                                              \u001b[1m│\u001b[0m\n",
       "\u001b[1m│\u001b[0m                                                                                                                 \u001b[1m│\u001b[0m\n",
       "\u001b[1m│\u001b[0m 1. **Clarify the presence of negative emotions**: The current prompt does not explicitly address how to handle  \u001b[1m│\u001b[0m\n",
       "\u001b[1m│\u001b[0m texts that express mixed or neutral emotions. To fix this, add a sentence to the prompt that suggests checking  \u001b[1m│\u001b[0m\n",
       "\u001b[1m│\u001b[0m for any indication of negative sentiments or emotional intensity. This would prevent outputs like \"I am happy!\" \u001b[1m│\u001b[0m\n",
       "\u001b[1m│\u001b[0m and \"excited about the trip\" from being incorrectly classified as positive.                                     \u001b[1m│\u001b[0m\n",
       "\u001b[1m│\u001b[0m 2. **Specify handling of explicit negativity**: The prompt does not account for texts that explicitly state     \u001b[1m│\u001b[0m\n",
       "\u001b[1m│\u001b[0m negative emotions, like \"I am sad!\". To address this, add a sentence to the prompt that advises checking if the \u001b[1m│\u001b[0m\n",
       "\u001b[1m│\u001b[0m text contains language indicative of dissatisfaction, criticism, or other negative emotional intensity.         \u001b[1m│\u001b[0m\n",
       "\u001b[1m│\u001b[0m 3. **Emphasize the importance of overall tone**: The current prompt focuses on specific keywords and phrases    \u001b[1m│\u001b[0m\n",
       "\u001b[1m│\u001b[0m but does not emphasize the significance of the overall tone in determining the classification. To fix this, add \u001b[1m│\u001b[0m\n",
       "\u001b[1m│\u001b[0m a sentence to the prompt that highlights the need to consider the text's overall tone when making the           \u001b[1m│\u001b[0m\n",
       "\u001b[1m│\u001b[0m classification. This would prevent outputs like \"i am not sure how i feel\" from being incorrectly classified as \u001b[1m│\u001b[0m\n",
       "\u001b[1m│\u001b[0m 0.                                                                                                              \u001b[1m│\u001b[0m\n",
       "\u001b[1m│\u001b[0m                                                                                                                 \u001b[1m│\u001b[0m\n",
       "\u001b[1m│\u001b[0m These improvements should help guide the model to produce outputs that match the existing schema more           \u001b[1m│\u001b[0m\n",
       "\u001b[1m│\u001b[0m accurately and reduce formatting errors.                                                                        \u001b[1m│\u001b[0m\n",
       "\u001b[1m│\u001b[0m                                                                                                                 \u001b[1m│\u001b[0m\n",
       "\u001b[1m╰─────────────────────────────────────────────────────────────────────────────────────────────────────────────────╯\u001b[0m\n"
      ]
     },
     "metadata": {},
     "output_type": "display_data"
    },
    {
     "name": "stdout",
     "output_type": "stream",
     "text": [
      "\n",
      "Validating and improving the new prompt...\n"
     ]
    },
    {
     "data": {
      "text/html": [
       "<pre style=\"white-space:pre;overflow-x:auto;line-height:normal;font-family:Menlo,'DejaVu Sans Mono',consolas,'Courier New',monospace\">╭──────────────────────────────────────────────── Original Prompt ────────────────────────────────────────────────╮\n",
       "│ Classify the text as positive (1) if it:                                                                        │\n",
       "│ - Expresses explicit emotions such as happiness, excitement, or satisfaction, and their intensity is strong     │\n",
       "│ enough to overshadow any neutral tone                                                                           │\n",
       "│ - Contains language that exclusively conveys a sense of joy, fulfillment, or enthusiasm without hints of        │\n",
       "│ negative sentiments or problems                                                                                 │\n",
       "│ - Does not contain language indicative of dissatisfaction, criticism, or other negative emotional intensity;    │\n",
       "│ specifically, ensure the text does not express mixed emotions, state explicit negativity, or convey apathy      │\n",
       "│ - The overall tone strongly suggests an enthusiasm, eagerness, or other positive emotions rather than           │\n",
       "│ neutrality or negativity                                                                                        │\n",
       "│                                                                                                                 │\n",
       "│ Output your classification as a single digit: 0 (if it does not meet all criteria) or 1.                        │\n",
       "╰─────────────────────────────────────────────────────────────────────────────────────────────────────────────────╯\n",
       "</pre>\n"
      ],
      "text/plain": [
       "╭──────────────────────────────────────────────── Original Prompt ────────────────────────────────────────────────╮\n",
       "│ Classify the text as positive (1) if it:                                                                        │\n",
       "│ - Expresses explicit emotions such as happiness, excitement, or satisfaction, and their intensity is strong     │\n",
       "│ enough to overshadow any neutral tone                                                                           │\n",
       "│ - Contains language that exclusively conveys a sense of joy, fulfillment, or enthusiasm without hints of        │\n",
       "│ negative sentiments or problems                                                                                 │\n",
       "│ - Does not contain language indicative of dissatisfaction, criticism, or other negative emotional intensity;    │\n",
       "│ specifically, ensure the text does not express mixed emotions, state explicit negativity, or convey apathy      │\n",
       "│ - The overall tone strongly suggests an enthusiasm, eagerness, or other positive emotions rather than           │\n",
       "│ neutrality or negativity                                                                                        │\n",
       "│                                                                                                                 │\n",
       "│ Output your classification as a single digit: 0 (if it does not meet all criteria) or 1.                        │\n",
       "╰─────────────────────────────────────────────────────────────────────────────────────────────────────────────────╯\n"
      ]
     },
     "metadata": {},
     "output_type": "display_data"
    },
    {
     "data": {
      "text/html": [
       "<pre style=\"white-space:pre;overflow-x:auto;line-height:normal;font-family:Menlo,'DejaVu Sans Mono',consolas,'Courier New',monospace\"><span style=\"font-weight: bold\">╭─────────────────────────────────────── Prompt Validation and Improvement ───────────────────────────────────────╮</span>\n",
       "<span style=\"font-weight: bold\">│</span>                                                                                                                 <span style=\"font-weight: bold\">│</span>\n",
       "<span style=\"font-weight: bold\">│</span> Validation: NEEDS IMPROVEMENT                                                                                   <span style=\"font-weight: bold\">│</span>\n",
       "<span style=\"font-weight: bold\">│</span>                                                                                                                 <span style=\"font-weight: bold\">│</span>\n",
       "<span style=\"font-weight: bold\">│</span> Improved Prompt:                                                                                                <span style=\"font-weight: bold\">│</span>\n",
       "<span style=\"font-weight: bold\">│</span>                                                                                                                 <span style=\"font-weight: bold\">│</span>\n",
       "<span style=\"font-weight: bold\">│</span> Classify the text as positive (1) if it:                                                                        <span style=\"font-weight: bold\">│</span>\n",
       "<span style=\"font-weight: bold\">│</span> - Exhibits explicit emotions like happiness, excitement, or satisfaction that dominate any neutral tone.        <span style=\"font-weight: bold\">│</span>\n",
       "<span style=\"font-weight: bold\">│</span> - Contains language exclusively conveying joy, fulfillment, or enthusiasm without hinting at negative           <span style=\"font-weight: bold\">│</span>\n",
       "<span style=\"font-weight: bold\">│</span> sentiments or problems.                                                                                         <span style=\"font-weight: bold\">│</span>\n",
       "<span style=\"font-weight: bold\">│</span> - Does not contain words or phrases indicative of dissatisfaction, criticism, or other negative emotional       <span style=\"font-weight: bold\">│</span>\n",
       "<span style=\"font-weight: bold\">│</span> intensity; specifically, avoid texts expressing mixed emotions, explicit negativity, or apathy.                 <span style=\"font-weight: bold\">│</span>\n",
       "<span style=\"font-weight: bold\">│</span> - The overall tone strongly suggests an enthusiasm, eagerness, or other positive emotion rather than neutrality <span style=\"font-weight: bold\">│</span>\n",
       "<span style=\"font-weight: bold\">│</span> or negativity.                                                                                                  <span style=\"font-weight: bold\">│</span>\n",
       "<span style=\"font-weight: bold\">│</span>                                                                                                                 <span style=\"font-weight: bold\">│</span>\n",
       "<span style=\"font-weight: bold\">│</span> Output your classification as a single digit: 0 (if it does not meet all criteria) or 1.                        <span style=\"font-weight: bold\">│</span>\n",
       "<span style=\"font-weight: bold\">│</span>                                                                                                                 <span style=\"font-weight: bold\">│</span>\n",
       "<span style=\"font-weight: bold\">│</span> Explanation:                                                                                                    <span style=\"font-weight: bold\">│</span>\n",
       "<span style=\"font-weight: bold\">│</span>                                                                                                                 <span style=\"font-weight: bold\">│</span>\n",
       "<span style=\"font-weight: bold\">│</span> The original prompt is clear and specific about the task. However, to improve it, I made the following changes: <span style=\"font-weight: bold\">│</span>\n",
       "<span style=\"font-weight: bold\">│</span> - Changed \"Expresses explicit emotions\" to \"Exhibits explicit emotions\" for better clarity.                     <span style=\"font-weight: bold\">│</span>\n",
       "<span style=\"font-weight: bold\">│</span> - Added an 'exclusively' before \"conveying joy\" for precision in understanding what type of language should be  <span style=\"font-weight: bold\">│</span>\n",
       "<span style=\"font-weight: bold\">│</span> considered.                                                                                                     <span style=\"font-weight: bold\">│</span>\n",
       "<span style=\"font-weight: bold\">│</span> - Changed \"state explicit negativity\" to \"expressing mixed emotions, explicit negativity, or apathy\" to include <span style=\"font-weight: bold\">│</span>\n",
       "<span style=\"font-weight: bold\">│</span> apathy as a negative sentiment that might be present.                                                           <span style=\"font-weight: bold\">│</span>\n",
       "<span style=\"font-weight: bold\">│</span> - Maintained the output format instruction as specified.                                                        <span style=\"font-weight: bold\">│</span>\n",
       "<span style=\"font-weight: bold\">│</span>                                                                                                                 <span style=\"font-weight: bold\">│</span>\n",
       "<span style=\"font-weight: bold\">│</span> These changes enhance clarity and specificity while keeping the prompt concise yet comprehensive. The revised   <span style=\"font-weight: bold\">│</span>\n",
       "<span style=\"font-weight: bold\">│</span> version maintains its original intent and is compatible with the desired output format.                         <span style=\"font-weight: bold\">│</span>\n",
       "<span style=\"font-weight: bold\">│</span>                                                                                                                 <span style=\"font-weight: bold\">│</span>\n",
       "<span style=\"font-weight: bold\">╰─────────────────────────────────────────────────────────────────────────────────────────────────────────────────╯</span>\n",
       "</pre>\n"
      ],
      "text/plain": [
       "\u001b[1m╭─\u001b[0m\u001b[1m──────────────────────────────────────\u001b[0m\u001b[1m Prompt Validation and Improvement \u001b[0m\u001b[1m──────────────────────────────────────\u001b[0m\u001b[1m─╮\u001b[0m\n",
       "\u001b[1m│\u001b[0m                                                                                                                 \u001b[1m│\u001b[0m\n",
       "\u001b[1m│\u001b[0m Validation: NEEDS IMPROVEMENT                                                                                   \u001b[1m│\u001b[0m\n",
       "\u001b[1m│\u001b[0m                                                                                                                 \u001b[1m│\u001b[0m\n",
       "\u001b[1m│\u001b[0m Improved Prompt:                                                                                                \u001b[1m│\u001b[0m\n",
       "\u001b[1m│\u001b[0m                                                                                                                 \u001b[1m│\u001b[0m\n",
       "\u001b[1m│\u001b[0m Classify the text as positive (1) if it:                                                                        \u001b[1m│\u001b[0m\n",
       "\u001b[1m│\u001b[0m - Exhibits explicit emotions like happiness, excitement, or satisfaction that dominate any neutral tone.        \u001b[1m│\u001b[0m\n",
       "\u001b[1m│\u001b[0m - Contains language exclusively conveying joy, fulfillment, or enthusiasm without hinting at negative           \u001b[1m│\u001b[0m\n",
       "\u001b[1m│\u001b[0m sentiments or problems.                                                                                         \u001b[1m│\u001b[0m\n",
       "\u001b[1m│\u001b[0m - Does not contain words or phrases indicative of dissatisfaction, criticism, or other negative emotional       \u001b[1m│\u001b[0m\n",
       "\u001b[1m│\u001b[0m intensity; specifically, avoid texts expressing mixed emotions, explicit negativity, or apathy.                 \u001b[1m│\u001b[0m\n",
       "\u001b[1m│\u001b[0m - The overall tone strongly suggests an enthusiasm, eagerness, or other positive emotion rather than neutrality \u001b[1m│\u001b[0m\n",
       "\u001b[1m│\u001b[0m or negativity.                                                                                                  \u001b[1m│\u001b[0m\n",
       "\u001b[1m│\u001b[0m                                                                                                                 \u001b[1m│\u001b[0m\n",
       "\u001b[1m│\u001b[0m Output your classification as a single digit: 0 (if it does not meet all criteria) or 1.                        \u001b[1m│\u001b[0m\n",
       "\u001b[1m│\u001b[0m                                                                                                                 \u001b[1m│\u001b[0m\n",
       "\u001b[1m│\u001b[0m Explanation:                                                                                                    \u001b[1m│\u001b[0m\n",
       "\u001b[1m│\u001b[0m                                                                                                                 \u001b[1m│\u001b[0m\n",
       "\u001b[1m│\u001b[0m The original prompt is clear and specific about the task. However, to improve it, I made the following changes: \u001b[1m│\u001b[0m\n",
       "\u001b[1m│\u001b[0m - Changed \"Expresses explicit emotions\" to \"Exhibits explicit emotions\" for better clarity.                     \u001b[1m│\u001b[0m\n",
       "\u001b[1m│\u001b[0m - Added an 'exclusively' before \"conveying joy\" for precision in understanding what type of language should be  \u001b[1m│\u001b[0m\n",
       "\u001b[1m│\u001b[0m considered.                                                                                                     \u001b[1m│\u001b[0m\n",
       "\u001b[1m│\u001b[0m - Changed \"state explicit negativity\" to \"expressing mixed emotions, explicit negativity, or apathy\" to include \u001b[1m│\u001b[0m\n",
       "\u001b[1m│\u001b[0m apathy as a negative sentiment that might be present.                                                           \u001b[1m│\u001b[0m\n",
       "\u001b[1m│\u001b[0m - Maintained the output format instruction as specified.                                                        \u001b[1m│\u001b[0m\n",
       "\u001b[1m│\u001b[0m                                                                                                                 \u001b[1m│\u001b[0m\n",
       "\u001b[1m│\u001b[0m These changes enhance clarity and specificity while keeping the prompt concise yet comprehensive. The revised   \u001b[1m│\u001b[0m\n",
       "\u001b[1m│\u001b[0m version maintains its original intent and is compatible with the desired output format.                         \u001b[1m│\u001b[0m\n",
       "\u001b[1m│\u001b[0m                                                                                                                 \u001b[1m│\u001b[0m\n",
       "\u001b[1m╰─────────────────────────────────────────────────────────────────────────────────────────────────────────────────╯\u001b[0m\n"
      ]
     },
     "metadata": {},
     "output_type": "display_data"
    },
    {
     "data": {
      "text/html": [
       "<pre style=\"white-space:pre;overflow-x:auto;line-height:normal;font-family:Menlo,'DejaVu Sans Mono',consolas,'Courier New',monospace\">╭──────────────────────────────────────────────── Improved Prompt ────────────────────────────────────────────────╮\n",
       "│ Classify the text as positive (1) if it:                                                                        │\n",
       "│ - Exhibits explicit emotions like happiness, excitement, or satisfaction that dominate any neutral tone.        │\n",
       "│ - Contains language exclusively conveying joy, fulfillment, or enthusiasm without hinting at negative           │\n",
       "│ sentiments or problems.                                                                                         │\n",
       "│ - Does not contain words or phrases indicative of dissatisfaction, criticism, or other negative emotional       │\n",
       "│ intensity; specifically, avoid texts expressing mixed emotions, explicit negativity, or apathy.                 │\n",
       "│ - The overall tone strongly suggests an enthusiasm, eagerness, or other positive emotion rather than neutrality │\n",
       "│ or negativity.                                                                                                  │\n",
       "│                                                                                                                 │\n",
       "│ Output your classification as a single digit: 0 (if it does not meet all criteria) or 1.                        │\n",
       "╰─────────────────────────────────────────────────────────────────────────────────────────────────────────────────╯\n",
       "</pre>\n"
      ],
      "text/plain": [
       "╭──────────────────────────────────────────────── Improved Prompt ────────────────────────────────────────────────╮\n",
       "│ Classify the text as positive (1) if it:                                                                        │\n",
       "│ - Exhibits explicit emotions like happiness, excitement, or satisfaction that dominate any neutral tone.        │\n",
       "│ - Contains language exclusively conveying joy, fulfillment, or enthusiasm without hinting at negative           │\n",
       "│ sentiments or problems.                                                                                         │\n",
       "│ - Does not contain words or phrases indicative of dissatisfaction, criticism, or other negative emotional       │\n",
       "│ intensity; specifically, avoid texts expressing mixed emotions, explicit negativity, or apathy.                 │\n",
       "│ - The overall tone strongly suggests an enthusiasm, eagerness, or other positive emotion rather than neutrality │\n",
       "│ or negativity.                                                                                                  │\n",
       "│                                                                                                                 │\n",
       "│ Output your classification as a single digit: 0 (if it does not meet all criteria) or 1.                        │\n",
       "╰─────────────────────────────────────────────────────────────────────────────────────────────────────────────────╯\n"
      ]
     },
     "metadata": {},
     "output_type": "display_data"
    },
    {
     "name": "stdout",
     "output_type": "stream",
     "text": [
      "\n",
      "Iteration 4/5\n"
     ]
    },
    {
     "data": {
      "text/html": [
       "<pre style=\"white-space:pre;overflow-x:auto;line-height:normal;font-family:Menlo,'DejaVu Sans Mono',consolas,'Courier New',monospace\"><span style=\"color: #000080; text-decoration-color: #000080\">╭────────────────────────────────────────────── Current Full Prompt ──────────────────────────────────────────────╮</span>\n",
       "<span style=\"color: #000080; text-decoration-color: #000080\">│</span> Classify the text as positive (1) if it:                                                                        <span style=\"color: #000080; text-decoration-color: #000080\">│</span>\n",
       "<span style=\"color: #000080; text-decoration-color: #000080\">│</span> - Exhibits explicit emotions like happiness, excitement, or satisfaction that dominate any neutral tone.        <span style=\"color: #000080; text-decoration-color: #000080\">│</span>\n",
       "<span style=\"color: #000080; text-decoration-color: #000080\">│</span> - Contains language exclusively conveying joy, fulfillment, or enthusiasm without hinting at negative           <span style=\"color: #000080; text-decoration-color: #000080\">│</span>\n",
       "<span style=\"color: #000080; text-decoration-color: #000080\">│</span> sentiments or problems.                                                                                         <span style=\"color: #000080; text-decoration-color: #000080\">│</span>\n",
       "<span style=\"color: #000080; text-decoration-color: #000080\">│</span> - Does not contain words or phrases indicative of dissatisfaction, criticism, or other negative emotional       <span style=\"color: #000080; text-decoration-color: #000080\">│</span>\n",
       "<span style=\"color: #000080; text-decoration-color: #000080\">│</span> intensity; specifically, avoid texts expressing mixed emotions, explicit negativity, or apathy.                 <span style=\"color: #000080; text-decoration-color: #000080\">│</span>\n",
       "<span style=\"color: #000080; text-decoration-color: #000080\">│</span> - The overall tone strongly suggests an enthusiasm, eagerness, or other positive emotion rather than neutrality <span style=\"color: #000080; text-decoration-color: #000080\">│</span>\n",
       "<span style=\"color: #000080; text-decoration-color: #000080\">│</span> or negativity.                                                                                                  <span style=\"color: #000080; text-decoration-color: #000080\">│</span>\n",
       "<span style=\"color: #000080; text-decoration-color: #000080\">│</span>                                                                                                                 <span style=\"color: #000080; text-decoration-color: #000080\">│</span>\n",
       "<span style=\"color: #000080; text-decoration-color: #000080\">│</span> Output your classification as a single digit: 0 (if it does not meet all criteria) or 1.                        <span style=\"color: #000080; text-decoration-color: #000080\">│</span>\n",
       "<span style=\"color: #000080; text-decoration-color: #000080\">╰─────────────────────────────────────────────────────────────────────────────────────────────────────────────────╯</span>\n",
       "</pre>\n"
      ],
      "text/plain": [
       "\u001b[34m╭─\u001b[0m\u001b[34m─────────────────────────────────────────────\u001b[0m\u001b[34m Current Full Prompt \u001b[0m\u001b[34m─────────────────────────────────────────────\u001b[0m\u001b[34m─╮\u001b[0m\n",
       "\u001b[34m│\u001b[0m Classify the text as positive (1) if it:                                                                        \u001b[34m│\u001b[0m\n",
       "\u001b[34m│\u001b[0m - Exhibits explicit emotions like happiness, excitement, or satisfaction that dominate any neutral tone.        \u001b[34m│\u001b[0m\n",
       "\u001b[34m│\u001b[0m - Contains language exclusively conveying joy, fulfillment, or enthusiasm without hinting at negative           \u001b[34m│\u001b[0m\n",
       "\u001b[34m│\u001b[0m sentiments or problems.                                                                                         \u001b[34m│\u001b[0m\n",
       "\u001b[34m│\u001b[0m - Does not contain words or phrases indicative of dissatisfaction, criticism, or other negative emotional       \u001b[34m│\u001b[0m\n",
       "\u001b[34m│\u001b[0m intensity; specifically, avoid texts expressing mixed emotions, explicit negativity, or apathy.                 \u001b[34m│\u001b[0m\n",
       "\u001b[34m│\u001b[0m - The overall tone strongly suggests an enthusiasm, eagerness, or other positive emotion rather than neutrality \u001b[34m│\u001b[0m\n",
       "\u001b[34m│\u001b[0m or negativity.                                                                                                  \u001b[34m│\u001b[0m\n",
       "\u001b[34m│\u001b[0m                                                                                                                 \u001b[34m│\u001b[0m\n",
       "\u001b[34m│\u001b[0m Output your classification as a single digit: 0 (if it does not meet all criteria) or 1.                        \u001b[34m│\u001b[0m\n",
       "\u001b[34m╰─────────────────────────────────────────────────────────────────────────────────────────────────────────────────╯\u001b[0m\n"
      ]
     },
     "metadata": {},
     "output_type": "display_data"
    },
    {
     "name": "stdout",
     "output_type": "stream",
     "text": [
      "Processing text 1/4\n",
      "Unable to match the output pattern: ^(\\d)$\n",
      "Prediction 1/4: None | Ground Truth: 1 🛠️ (Invalid Output Format) - Raw output: Classification: 1\n",
      "Processing text 2/4\n",
      "Unable to match the output pattern: ^(\\d)$\n",
      "Prediction 2/4: None | Ground Truth: 1 🛠️ (Invalid Output Format) - Raw output: Classification: 1\n",
      "Processing text 3/4\n",
      "Unable to match the output pattern: ^(\\d)$\n",
      "Prediction 3/4: None | Ground Truth: 0 🛠️ (Invalid Output Format) - Raw output: Output classification: 0\n",
      "Processing text 4/4\n",
      "Unable to match the output pattern: ^(\\d)$\n",
      "Prediction 4/4: None | Ground Truth: 1 🛠️ (Invalid Output Format) - Raw output: I'd classify the text as 0. The statement \"i am not sure how i feel\" suggests uncertainty and possibly even apathy, which doesn't match the positive tone criteria mentioned earlier.\n"
     ]
    },
    {
     "data": {
      "text/html": [
       "<pre style=\"white-space:pre;overflow-x:auto;line-height:normal;font-family:Menlo,'DejaVu Sans Mono',consolas,'Courier New',monospace\"><span style=\"font-style: italic\">Evaluation Metrics - Iteration 4</span>\n",
       "┏━━━━━━━━━━━━━━━━━━━━━┳━━━━━━━━┓\n",
       "┃<span style=\"font-weight: bold\"> Metric              </span>┃<span style=\"font-weight: bold\">  Value </span>┃\n",
       "┡━━━━━━━━━━━━━━━━━━━━━╇━━━━━━━━┩\n",
       "│ Precision           │ 0.0000 │\n",
       "│ Recall              │ 0.0000 │\n",
       "│ Accuracy            │ 0.0000 │\n",
       "│ F1-score            │ 0.0000 │\n",
       "│ Valid Predictions   │      0 │\n",
       "│ Invalid Predictions │      4 │\n",
       "└─────────────────────┴────────┘\n",
       "</pre>\n"
      ],
      "text/plain": [
       "\u001b[3mEvaluation Metrics - Iteration 4\u001b[0m\n",
       "┏━━━━━━━━━━━━━━━━━━━━━┳━━━━━━━━┓\n",
       "┃\u001b[1m \u001b[0m\u001b[1mMetric             \u001b[0m\u001b[1m \u001b[0m┃\u001b[1m \u001b[0m\u001b[1m Value\u001b[0m\u001b[1m \u001b[0m┃\n",
       "┡━━━━━━━━━━━━━━━━━━━━━╇━━━━━━━━┩\n",
       "│ Precision           │ 0.0000 │\n",
       "│ Recall              │ 0.0000 │\n",
       "│ Accuracy            │ 0.0000 │\n",
       "│ F1-score            │ 0.0000 │\n",
       "│ Valid Predictions   │      0 │\n",
       "│ Invalid Predictions │      4 │\n",
       "└─────────────────────┴────────┘\n"
      ]
     },
     "metadata": {},
     "output_type": "display_data"
    },
    {
     "name": "stdout",
     "output_type": "stream",
     "text": [
      "\n",
      "Analyzing misclassifications, true positives, and invalid outputs...\n"
     ]
    },
    {
     "data": {
      "text/html": [
       "<pre style=\"white-space:pre;overflow-x:auto;line-height:normal;font-family:Menlo,'DejaVu Sans Mono',consolas,'Courier New',monospace\"><span style=\"font-weight: bold\">╭───────── False Positives Analysis ──────────╮</span>\n",
       "<span style=\"font-weight: bold\">│</span>                                             <span style=\"font-weight: bold\">│</span>\n",
       "<span style=\"font-weight: bold\">│</span> No false positives found in this iteration. <span style=\"font-weight: bold\">│</span>\n",
       "<span style=\"font-weight: bold\">│</span>                                             <span style=\"font-weight: bold\">│</span>\n",
       "<span style=\"font-weight: bold\">╰─────────────────────────────────────────────╯</span>\n",
       "</pre>\n"
      ],
      "text/plain": [
       "\u001b[1m╭─\u001b[0m\u001b[1m────────\u001b[0m\u001b[1m False Positives Analysis \u001b[0m\u001b[1m─────────\u001b[0m\u001b[1m─╮\u001b[0m\n",
       "\u001b[1m│\u001b[0m                                             \u001b[1m│\u001b[0m\n",
       "\u001b[1m│\u001b[0m No false positives found in this iteration. \u001b[1m│\u001b[0m\n",
       "\u001b[1m│\u001b[0m                                             \u001b[1m│\u001b[0m\n",
       "\u001b[1m╰─────────────────────────────────────────────╯\u001b[0m\n"
      ]
     },
     "metadata": {},
     "output_type": "display_data"
    },
    {
     "data": {
      "text/html": [
       "<pre style=\"white-space:pre;overflow-x:auto;line-height:normal;font-family:Menlo,'DejaVu Sans Mono',consolas,'Courier New',monospace\"><span style=\"font-weight: bold\">╭───────── False Negatives Analysis ──────────╮</span>\n",
       "<span style=\"font-weight: bold\">│</span>                                             <span style=\"font-weight: bold\">│</span>\n",
       "<span style=\"font-weight: bold\">│</span> No false negatives found in this iteration. <span style=\"font-weight: bold\">│</span>\n",
       "<span style=\"font-weight: bold\">│</span>                                             <span style=\"font-weight: bold\">│</span>\n",
       "<span style=\"font-weight: bold\">╰─────────────────────────────────────────────╯</span>\n",
       "</pre>\n"
      ],
      "text/plain": [
       "\u001b[1m╭─\u001b[0m\u001b[1m────────\u001b[0m\u001b[1m False Negatives Analysis \u001b[0m\u001b[1m─────────\u001b[0m\u001b[1m─╮\u001b[0m\n",
       "\u001b[1m│\u001b[0m                                             \u001b[1m│\u001b[0m\n",
       "\u001b[1m│\u001b[0m No false negatives found in this iteration. \u001b[1m│\u001b[0m\n",
       "\u001b[1m│\u001b[0m                                             \u001b[1m│\u001b[0m\n",
       "\u001b[1m╰─────────────────────────────────────────────╯\u001b[0m\n"
      ]
     },
     "metadata": {},
     "output_type": "display_data"
    },
    {
     "data": {
      "text/html": [
       "<pre style=\"white-space:pre;overflow-x:auto;line-height:normal;font-family:Menlo,'DejaVu Sans Mono',consolas,'Courier New',monospace\"><span style=\"font-weight: bold\">╭───────── True Positives Analysis ──────────╮</span>\n",
       "<span style=\"font-weight: bold\">│</span>                                            <span style=\"font-weight: bold\">│</span>\n",
       "<span style=\"font-weight: bold\">│</span> No true positives found in this iteration. <span style=\"font-weight: bold\">│</span>\n",
       "<span style=\"font-weight: bold\">│</span>                                            <span style=\"font-weight: bold\">│</span>\n",
       "<span style=\"font-weight: bold\">╰────────────────────────────────────────────╯</span>\n",
       "</pre>\n"
      ],
      "text/plain": [
       "\u001b[1m╭─\u001b[0m\u001b[1m────────\u001b[0m\u001b[1m True Positives Analysis \u001b[0m\u001b[1m─────────\u001b[0m\u001b[1m─╮\u001b[0m\n",
       "\u001b[1m│\u001b[0m                                            \u001b[1m│\u001b[0m\n",
       "\u001b[1m│\u001b[0m No true positives found in this iteration. \u001b[1m│\u001b[0m\n",
       "\u001b[1m│\u001b[0m                                            \u001b[1m│\u001b[0m\n",
       "\u001b[1m╰────────────────────────────────────────────╯\u001b[0m\n"
      ]
     },
     "metadata": {},
     "output_type": "display_data"
    },
    {
     "data": {
      "text/html": [
       "<pre style=\"white-space:pre;overflow-x:auto;line-height:normal;font-family:Menlo,'DejaVu Sans Mono',consolas,'Courier New',monospace\"><span style=\"font-weight: bold\">╭─────────────────────────────────────────── Invalid Outputs Analysis ────────────────────────────────────────────╮</span>\n",
       "<span style=\"font-weight: bold\">│</span>                                                                                                                 <span style=\"font-weight: bold\">│</span>\n",
       "<span style=\"font-weight: bold\">│</span> Based on the provided context and invalid outputs, I've identified the following high-confidence observations   <span style=\"font-weight: bold\">│</span>\n",
       "<span style=\"font-weight: bold\">│</span> and suggestions for improvement:                                                                                <span style=\"font-weight: bold\">│</span>\n",
       "<span style=\"font-weight: bold\">│</span>                                                                                                                 <span style=\"font-weight: bold\">│</span>\n",
       "<span style=\"font-weight: bold\">│</span> 1. **Lack of explicit criteria for neutral texts**: The prompt primarily focuses on classifying positive texts  <span style=\"font-weight: bold\">│</span>\n",
       "<span style=\"font-weight: bold\">│</span> but doesn't explicitly outline what constitutes a negative or neutral text. This ambiguity leads to incorrect   <span style=\"font-weight: bold\">│</span>\n",
       "<span style=\"font-weight: bold\">│</span> classifications when encountering neutral or ambiguous texts.                                                   <span style=\"font-weight: bold\">│</span>\n",
       "<span style=\"font-weight: bold\">│</span> 2. **Inadequate handling of uncertain expressions**: The prompt doesn't provide clear guidelines for dealing    <span style=\"font-weight: bold\">│</span>\n",
       "<span style=\"font-weight: bold\">│</span> with statements expressing uncertainty, apathy, or mixed emotions. As seen in the invalid output \"i am not sure <span style=\"font-weight: bold\">│</span>\n",
       "<span style=\"font-weight: bold\">│</span> how i feel\", the model struggles to classify such texts accurately.                                             <span style=\"font-weight: bold\">│</span>\n",
       "<span style=\"font-weight: bold\">│</span> 3. **Insufficient emphasis on explicit negativity**: While the prompt mentions avoiding texts that express      <span style=\"font-weight: bold\">│</span>\n",
       "<span style=\"font-weight: bold\">│</span> explicit negativity, it doesn't explicitly state what constitutes a positive text. This omission leads to       <span style=\"font-weight: bold\">│</span>\n",
       "<span style=\"font-weight: bold\">│</span> incorrect classifications when encountering negative texts, as seen in the invalid output \"I am sad!\".          <span style=\"font-weight: bold\">│</span>\n",
       "<span style=\"font-weight: bold\">│</span>                                                                                                                 <span style=\"font-weight: bold\">│</span>\n",
       "<span style=\"font-weight: bold\">│</span> To address these issues and improve adherence to the specified output format, I suggest:                        <span style=\"font-weight: bold\">│</span>\n",
       "<span style=\"font-weight: bold\">│</span>                                                                                                                 <span style=\"font-weight: bold\">│</span>\n",
       "<span style=\"font-weight: bold\">│</span> * Adding explicit criteria for neutral texts to help the model differentiate between positive, negative, and    <span style=\"font-weight: bold\">│</span>\n",
       "<span style=\"font-weight: bold\">│</span> neutral classes.                                                                                                <span style=\"font-weight: bold\">│</span>\n",
       "<span style=\"font-weight: bold\">│</span> * Clearly outlining how to handle uncertain expressions, such as statements expressing uncertainty or apathy,   <span style=\"font-weight: bold\">│</span>\n",
       "<span style=\"font-weight: bold\">│</span> in the prompt.                                                                                                  <span style=\"font-weight: bold\">│</span>\n",
       "<span style=\"font-weight: bold\">│</span> * Emphasizing that a text should contain clear language conveying joy, fulfillment, or enthusiasm without any   <span style=\"font-weight: bold\">│</span>\n",
       "<span style=\"font-weight: bold\">│</span> hint of negativity to be classified as positive (1).                                                            <span style=\"font-weight: bold\">│</span>\n",
       "<span style=\"font-weight: bold\">│</span>                                                                                                                 <span style=\"font-weight: bold\">│</span>\n",
       "<span style=\"font-weight: bold\">╰─────────────────────────────────────────────────────────────────────────────────────────────────────────────────╯</span>\n",
       "</pre>\n"
      ],
      "text/plain": [
       "\u001b[1m╭─\u001b[0m\u001b[1m──────────────────────────────────────────\u001b[0m\u001b[1m Invalid Outputs Analysis \u001b[0m\u001b[1m───────────────────────────────────────────\u001b[0m\u001b[1m─╮\u001b[0m\n",
       "\u001b[1m│\u001b[0m                                                                                                                 \u001b[1m│\u001b[0m\n",
       "\u001b[1m│\u001b[0m Based on the provided context and invalid outputs, I've identified the following high-confidence observations   \u001b[1m│\u001b[0m\n",
       "\u001b[1m│\u001b[0m and suggestions for improvement:                                                                                \u001b[1m│\u001b[0m\n",
       "\u001b[1m│\u001b[0m                                                                                                                 \u001b[1m│\u001b[0m\n",
       "\u001b[1m│\u001b[0m 1. **Lack of explicit criteria for neutral texts**: The prompt primarily focuses on classifying positive texts  \u001b[1m│\u001b[0m\n",
       "\u001b[1m│\u001b[0m but doesn't explicitly outline what constitutes a negative or neutral text. This ambiguity leads to incorrect   \u001b[1m│\u001b[0m\n",
       "\u001b[1m│\u001b[0m classifications when encountering neutral or ambiguous texts.                                                   \u001b[1m│\u001b[0m\n",
       "\u001b[1m│\u001b[0m 2. **Inadequate handling of uncertain expressions**: The prompt doesn't provide clear guidelines for dealing    \u001b[1m│\u001b[0m\n",
       "\u001b[1m│\u001b[0m with statements expressing uncertainty, apathy, or mixed emotions. As seen in the invalid output \"i am not sure \u001b[1m│\u001b[0m\n",
       "\u001b[1m│\u001b[0m how i feel\", the model struggles to classify such texts accurately.                                             \u001b[1m│\u001b[0m\n",
       "\u001b[1m│\u001b[0m 3. **Insufficient emphasis on explicit negativity**: While the prompt mentions avoiding texts that express      \u001b[1m│\u001b[0m\n",
       "\u001b[1m│\u001b[0m explicit negativity, it doesn't explicitly state what constitutes a positive text. This omission leads to       \u001b[1m│\u001b[0m\n",
       "\u001b[1m│\u001b[0m incorrect classifications when encountering negative texts, as seen in the invalid output \"I am sad!\".          \u001b[1m│\u001b[0m\n",
       "\u001b[1m│\u001b[0m                                                                                                                 \u001b[1m│\u001b[0m\n",
       "\u001b[1m│\u001b[0m To address these issues and improve adherence to the specified output format, I suggest:                        \u001b[1m│\u001b[0m\n",
       "\u001b[1m│\u001b[0m                                                                                                                 \u001b[1m│\u001b[0m\n",
       "\u001b[1m│\u001b[0m * Adding explicit criteria for neutral texts to help the model differentiate between positive, negative, and    \u001b[1m│\u001b[0m\n",
       "\u001b[1m│\u001b[0m neutral classes.                                                                                                \u001b[1m│\u001b[0m\n",
       "\u001b[1m│\u001b[0m * Clearly outlining how to handle uncertain expressions, such as statements expressing uncertainty or apathy,   \u001b[1m│\u001b[0m\n",
       "\u001b[1m│\u001b[0m in the prompt.                                                                                                  \u001b[1m│\u001b[0m\n",
       "\u001b[1m│\u001b[0m * Emphasizing that a text should contain clear language conveying joy, fulfillment, or enthusiasm without any   \u001b[1m│\u001b[0m\n",
       "\u001b[1m│\u001b[0m hint of negativity to be classified as positive (1).                                                            \u001b[1m│\u001b[0m\n",
       "\u001b[1m│\u001b[0m                                                                                                                 \u001b[1m│\u001b[0m\n",
       "\u001b[1m╰─────────────────────────────────────────────────────────────────────────────────────────────────────────────────╯\u001b[0m\n"
      ]
     },
     "metadata": {},
     "output_type": "display_data"
    },
    {
     "name": "stdout",
     "output_type": "stream",
     "text": [
      "\n",
      "Validating and improving the new prompt...\n"
     ]
    },
    {
     "data": {
      "text/html": [
       "<pre style=\"white-space:pre;overflow-x:auto;line-height:normal;font-family:Menlo,'DejaVu Sans Mono',consolas,'Courier New',monospace\">╭──────────────────────────────────────────────── Original Prompt ────────────────────────────────────────────────╮\n",
       "│ Classify the text as positive (1) if it:                                                                        │\n",
       "│ - Contains clear language conveying joy, fulfillment, or enthusiasm without hinting at negativity or problems.  │\n",
       "│ - Does not contain explicit expressions of dissatisfaction, criticism, or other negative emotional intensity.   │\n",
       "│ - Is free from mixed emotions, apathy, or uncertainty that might suggest a neutral or negative tone.            │\n",
       "│ - The overall tone strongly suggests an enthusiasm, eagerness, or other positive emotion rather than            │\n",
       "│ neutrality.                                                                                                     │\n",
       "│                                                                                                                 │\n",
       "│ Output your classification as a single digit: 0 (if it does not meet all criteria) or 1.                        │\n",
       "╰─────────────────────────────────────────────────────────────────────────────────────────────────────────────────╯\n",
       "</pre>\n"
      ],
      "text/plain": [
       "╭──────────────────────────────────────────────── Original Prompt ────────────────────────────────────────────────╮\n",
       "│ Classify the text as positive (1) if it:                                                                        │\n",
       "│ - Contains clear language conveying joy, fulfillment, or enthusiasm without hinting at negativity or problems.  │\n",
       "│ - Does not contain explicit expressions of dissatisfaction, criticism, or other negative emotional intensity.   │\n",
       "│ - Is free from mixed emotions, apathy, or uncertainty that might suggest a neutral or negative tone.            │\n",
       "│ - The overall tone strongly suggests an enthusiasm, eagerness, or other positive emotion rather than            │\n",
       "│ neutrality.                                                                                                     │\n",
       "│                                                                                                                 │\n",
       "│ Output your classification as a single digit: 0 (if it does not meet all criteria) or 1.                        │\n",
       "╰─────────────────────────────────────────────────────────────────────────────────────────────────────────────────╯\n"
      ]
     },
     "metadata": {},
     "output_type": "display_data"
    },
    {
     "data": {
      "text/html": [
       "<pre style=\"white-space:pre;overflow-x:auto;line-height:normal;font-family:Menlo,'DejaVu Sans Mono',consolas,'Courier New',monospace\"><span style=\"font-weight: bold\">╭─────────────────────────────────────── Prompt Validation and Improvement ───────────────────────────────────────╮</span>\n",
       "<span style=\"font-weight: bold\">│</span>                                                                                                                 <span style=\"font-weight: bold\">│</span>\n",
       "<span style=\"font-weight: bold\">│</span> Validation: VALID                                                                                               <span style=\"font-weight: bold\">│</span>\n",
       "<span style=\"font-weight: bold\">│</span>                                                                                                                 <span style=\"font-weight: bold\">│</span>\n",
       "<span style=\"font-weight: bold\">│</span> Improved Prompt: Current Prompt (since it is already valid)                                                     <span style=\"font-weight: bold\">│</span>\n",
       "<span style=\"font-weight: bold\">│</span>                                                                                                                 <span style=\"font-weight: bold\">│</span>\n",
       "<span style=\"font-weight: bold\">│</span> Explanation:                                                                                                    <span style=\"font-weight: bold\">│</span>\n",
       "<span style=\"font-weight: bold\">│</span>                                                                                                                 <span style=\"font-weight: bold\">│</span>\n",
       "<span style=\"font-weight: bold\">│</span> The current prompt effectively addresses all the best practices for a clear and specific task definition. It:   <span style=\"font-weight: bold\">│</span>\n",
       "<span style=\"font-weight: bold\">│</span>                                                                                                                 <span style=\"font-weight: bold\">│</span>\n",
       "<span style=\"font-weight: bold\">│</span> 1. **Provides clarity and specificity**: The criteria for classifying text as positive are well-defined, making <span style=\"font-weight: bold\">│</span>\n",
       "<span style=\"font-weight: bold\">│</span> it easy to understand what constitutes a \"positive\" classification.                                             <span style=\"font-weight: bold\">│</span>\n",
       "<span style=\"font-weight: bold\">│</span> 2. **Offers necessary context**: The prompt assumes some knowledge of sentiment analysis, but the criteria      <span style=\"font-weight: bold\">│</span>\n",
       "<span style=\"font-weight: bold\">│</span> provided help to clarify the task scope.                                                                        <span style=\"font-weight: bold\">│</span>\n",
       "<span style=\"font-weight: bold\">│</span> 3. **Gives explicit instructions**: The steps to classify text as positive are clearly outlined.                <span style=\"font-weight: bold\">│</span>\n",
       "<span style=\"font-weight: bold\">│</span> 4. **Does not include examples**, which is understandable since it's a classification task rather than a        <span style=\"font-weight: bold\">│</span>\n",
       "<span style=\"font-weight: bold\">│</span> labeling one, and the focus is on the process rather than specific cases.                                       <span style=\"font-weight: bold\">│</span>\n",
       "<span style=\"font-weight: bold\">│</span> 5. **Clearly specifies the output format**: A single digit (0 or 1) is requested for the classification.        <span style=\"font-weight: bold\">│</span>\n",
       "<span style=\"font-weight: bold\">│</span> 6. **Avoids biases**: The criteria are objective, focusing on observable language features rather than          <span style=\"font-weight: bold\">│</span>\n",
       "<span style=\"font-weight: bold\">│</span> subjective interpretation.                                                                                      <span style=\"font-weight: bold\">│</span>\n",
       "<span style=\"font-weight: bold\">│</span> 7. **Is concise yet comprehensive**: The prompt effectively covers the key aspects of sentiment analysis        <span style=\"font-weight: bold\">│</span>\n",
       "<span style=\"font-weight: bold\">│</span> required for this task.                                                                                         <span style=\"font-weight: bold\">│</span>\n",
       "<span style=\"font-weight: bold\">│</span> 8. **Addresses specific requirements**: It takes into account the nuances of positive sentiment expression      <span style=\"font-weight: bold\">│</span>\n",
       "<span style=\"font-weight: bold\">│</span> (e.g., avoiding mixed emotions or negative hints).                                                              <span style=\"font-weight: bold\">│</span>\n",
       "<span style=\"font-weight: bold\">│</span>                                                                                                                 <span style=\"font-weight: bold\">│</span>\n",
       "<span style=\"font-weight: bold\">│</span> Given its adherence to best practices, no changes are needed.                                                   <span style=\"font-weight: bold\">│</span>\n",
       "<span style=\"font-weight: bold\">│</span>                                                                                                                 <span style=\"font-weight: bold\">│</span>\n",
       "<span style=\"font-weight: bold\">╰─────────────────────────────────────────────────────────────────────────────────────────────────────────────────╯</span>\n",
       "</pre>\n"
      ],
      "text/plain": [
       "\u001b[1m╭─\u001b[0m\u001b[1m──────────────────────────────────────\u001b[0m\u001b[1m Prompt Validation and Improvement \u001b[0m\u001b[1m──────────────────────────────────────\u001b[0m\u001b[1m─╮\u001b[0m\n",
       "\u001b[1m│\u001b[0m                                                                                                                 \u001b[1m│\u001b[0m\n",
       "\u001b[1m│\u001b[0m Validation: VALID                                                                                               \u001b[1m│\u001b[0m\n",
       "\u001b[1m│\u001b[0m                                                                                                                 \u001b[1m│\u001b[0m\n",
       "\u001b[1m│\u001b[0m Improved Prompt: Current Prompt (since it is already valid)                                                     \u001b[1m│\u001b[0m\n",
       "\u001b[1m│\u001b[0m                                                                                                                 \u001b[1m│\u001b[0m\n",
       "\u001b[1m│\u001b[0m Explanation:                                                                                                    \u001b[1m│\u001b[0m\n",
       "\u001b[1m│\u001b[0m                                                                                                                 \u001b[1m│\u001b[0m\n",
       "\u001b[1m│\u001b[0m The current prompt effectively addresses all the best practices for a clear and specific task definition. It:   \u001b[1m│\u001b[0m\n",
       "\u001b[1m│\u001b[0m                                                                                                                 \u001b[1m│\u001b[0m\n",
       "\u001b[1m│\u001b[0m 1. **Provides clarity and specificity**: The criteria for classifying text as positive are well-defined, making \u001b[1m│\u001b[0m\n",
       "\u001b[1m│\u001b[0m it easy to understand what constitutes a \"positive\" classification.                                             \u001b[1m│\u001b[0m\n",
       "\u001b[1m│\u001b[0m 2. **Offers necessary context**: The prompt assumes some knowledge of sentiment analysis, but the criteria      \u001b[1m│\u001b[0m\n",
       "\u001b[1m│\u001b[0m provided help to clarify the task scope.                                                                        \u001b[1m│\u001b[0m\n",
       "\u001b[1m│\u001b[0m 3. **Gives explicit instructions**: The steps to classify text as positive are clearly outlined.                \u001b[1m│\u001b[0m\n",
       "\u001b[1m│\u001b[0m 4. **Does not include examples**, which is understandable since it's a classification task rather than a        \u001b[1m│\u001b[0m\n",
       "\u001b[1m│\u001b[0m labeling one, and the focus is on the process rather than specific cases.                                       \u001b[1m│\u001b[0m\n",
       "\u001b[1m│\u001b[0m 5. **Clearly specifies the output format**: A single digit (0 or 1) is requested for the classification.        \u001b[1m│\u001b[0m\n",
       "\u001b[1m│\u001b[0m 6. **Avoids biases**: The criteria are objective, focusing on observable language features rather than          \u001b[1m│\u001b[0m\n",
       "\u001b[1m│\u001b[0m subjective interpretation.                                                                                      \u001b[1m│\u001b[0m\n",
       "\u001b[1m│\u001b[0m 7. **Is concise yet comprehensive**: The prompt effectively covers the key aspects of sentiment analysis        \u001b[1m│\u001b[0m\n",
       "\u001b[1m│\u001b[0m required for this task.                                                                                         \u001b[1m│\u001b[0m\n",
       "\u001b[1m│\u001b[0m 8. **Addresses specific requirements**: It takes into account the nuances of positive sentiment expression      \u001b[1m│\u001b[0m\n",
       "\u001b[1m│\u001b[0m (e.g., avoiding mixed emotions or negative hints).                                                              \u001b[1m│\u001b[0m\n",
       "\u001b[1m│\u001b[0m                                                                                                                 \u001b[1m│\u001b[0m\n",
       "\u001b[1m│\u001b[0m Given its adherence to best practices, no changes are needed.                                                   \u001b[1m│\u001b[0m\n",
       "\u001b[1m│\u001b[0m                                                                                                                 \u001b[1m│\u001b[0m\n",
       "\u001b[1m╰─────────────────────────────────────────────────────────────────────────────────────────────────────────────────╯\u001b[0m\n"
      ]
     },
     "metadata": {},
     "output_type": "display_data"
    },
    {
     "name": "stdout",
     "output_type": "stream",
     "text": [
      "No improvements were necessary. The original prompt is valid.\n",
      "\n",
      "Iteration 5/5\n"
     ]
    },
    {
     "data": {
      "text/html": [
       "<pre style=\"white-space:pre;overflow-x:auto;line-height:normal;font-family:Menlo,'DejaVu Sans Mono',consolas,'Courier New',monospace\"><span style=\"color: #000080; text-decoration-color: #000080\">╭────────────────────────────────────────────── Current Full Prompt ──────────────────────────────────────────────╮</span>\n",
       "<span style=\"color: #000080; text-decoration-color: #000080\">│</span> Classify the text as positive (1) if it:                                                                        <span style=\"color: #000080; text-decoration-color: #000080\">│</span>\n",
       "<span style=\"color: #000080; text-decoration-color: #000080\">│</span> - Contains clear language conveying joy, fulfillment, or enthusiasm without hinting at negativity or problems.  <span style=\"color: #000080; text-decoration-color: #000080\">│</span>\n",
       "<span style=\"color: #000080; text-decoration-color: #000080\">│</span> - Does not contain explicit expressions of dissatisfaction, criticism, or other negative emotional intensity.   <span style=\"color: #000080; text-decoration-color: #000080\">│</span>\n",
       "<span style=\"color: #000080; text-decoration-color: #000080\">│</span> - Is free from mixed emotions, apathy, or uncertainty that might suggest a neutral or negative tone.            <span style=\"color: #000080; text-decoration-color: #000080\">│</span>\n",
       "<span style=\"color: #000080; text-decoration-color: #000080\">│</span> - The overall tone strongly suggests an enthusiasm, eagerness, or other positive emotion rather than            <span style=\"color: #000080; text-decoration-color: #000080\">│</span>\n",
       "<span style=\"color: #000080; text-decoration-color: #000080\">│</span> neutrality.                                                                                                     <span style=\"color: #000080; text-decoration-color: #000080\">│</span>\n",
       "<span style=\"color: #000080; text-decoration-color: #000080\">│</span>                                                                                                                 <span style=\"color: #000080; text-decoration-color: #000080\">│</span>\n",
       "<span style=\"color: #000080; text-decoration-color: #000080\">│</span> Output your classification as a single digit: 0 (if it does not meet all criteria) or 1.                        <span style=\"color: #000080; text-decoration-color: #000080\">│</span>\n",
       "<span style=\"color: #000080; text-decoration-color: #000080\">╰─────────────────────────────────────────────────────────────────────────────────────────────────────────────────╯</span>\n",
       "</pre>\n"
      ],
      "text/plain": [
       "\u001b[34m╭─\u001b[0m\u001b[34m─────────────────────────────────────────────\u001b[0m\u001b[34m Current Full Prompt \u001b[0m\u001b[34m─────────────────────────────────────────────\u001b[0m\u001b[34m─╮\u001b[0m\n",
       "\u001b[34m│\u001b[0m Classify the text as positive (1) if it:                                                                        \u001b[34m│\u001b[0m\n",
       "\u001b[34m│\u001b[0m - Contains clear language conveying joy, fulfillment, or enthusiasm without hinting at negativity or problems.  \u001b[34m│\u001b[0m\n",
       "\u001b[34m│\u001b[0m - Does not contain explicit expressions of dissatisfaction, criticism, or other negative emotional intensity.   \u001b[34m│\u001b[0m\n",
       "\u001b[34m│\u001b[0m - Is free from mixed emotions, apathy, or uncertainty that might suggest a neutral or negative tone.            \u001b[34m│\u001b[0m\n",
       "\u001b[34m│\u001b[0m - The overall tone strongly suggests an enthusiasm, eagerness, or other positive emotion rather than            \u001b[34m│\u001b[0m\n",
       "\u001b[34m│\u001b[0m neutrality.                                                                                                     \u001b[34m│\u001b[0m\n",
       "\u001b[34m│\u001b[0m                                                                                                                 \u001b[34m│\u001b[0m\n",
       "\u001b[34m│\u001b[0m Output your classification as a single digit: 0 (if it does not meet all criteria) or 1.                        \u001b[34m│\u001b[0m\n",
       "\u001b[34m╰─────────────────────────────────────────────────────────────────────────────────────────────────────────────────╯\u001b[0m\n"
      ]
     },
     "metadata": {},
     "output_type": "display_data"
    },
    {
     "name": "stdout",
     "output_type": "stream",
     "text": [
      "Processing text 1/4\n",
      "Unable to match the output pattern: ^(\\d)$\n",
      "Prediction 1/4: None | Ground Truth: 1 🛠️ (Invalid Output Format) - Raw output: Classification: 1\n",
      "Processing text 2/4\n",
      "Unable to match the output pattern: ^(\\d)$\n",
      "Prediction 2/4: None | Ground Truth: 1 🛠️ (Invalid Output Format) - Raw output: Classification: 1The text conveys clear language of enthusiasm and joy (\"excited\") without hinting at negativity, problems, or mixed emotions. The overall tone suggests a strong positive emotion, meeting all the criteria for a positive classification.\n",
      "Processing text 3/4\n",
      "Unable to match the output pattern: ^(\\d)$\n",
      "Prediction 3/4: None | Ground Truth: 0 🛠️ (Invalid Output Format) - Raw output: Unfortunately, that doesn't meet the criteria for a positive text.Classification: 0\n",
      "Processing text 4/4\n",
      "Unable to match the output pattern: ^(\\d)$\n",
      "Prediction 4/4: None | Ground Truth: 1 🛠️ (Invalid Output Format) - Raw output: Based on the text \"i am not sure how i feel\", I would classify it as:0This is because the text expresses uncertainty, which falls under a neutral or possibly negative tone (leaning towards neutrality). It does not convey clear language of joy, fulfillment, or enthusiasm.\n"
     ]
    },
    {
     "data": {
      "text/html": [
       "<pre style=\"white-space:pre;overflow-x:auto;line-height:normal;font-family:Menlo,'DejaVu Sans Mono',consolas,'Courier New',monospace\"><span style=\"font-style: italic\">Evaluation Metrics - Iteration 5</span>\n",
       "┏━━━━━━━━━━━━━━━━━━━━━┳━━━━━━━━┓\n",
       "┃<span style=\"font-weight: bold\"> Metric              </span>┃<span style=\"font-weight: bold\">  Value </span>┃\n",
       "┡━━━━━━━━━━━━━━━━━━━━━╇━━━━━━━━┩\n",
       "│ Precision           │ 0.0000 │\n",
       "│ Recall              │ 0.0000 │\n",
       "│ Accuracy            │ 0.0000 │\n",
       "│ F1-score            │ 0.0000 │\n",
       "│ Valid Predictions   │      0 │\n",
       "│ Invalid Predictions │      4 │\n",
       "└─────────────────────┴────────┘\n",
       "</pre>\n"
      ],
      "text/plain": [
       "\u001b[3mEvaluation Metrics - Iteration 5\u001b[0m\n",
       "┏━━━━━━━━━━━━━━━━━━━━━┳━━━━━━━━┓\n",
       "┃\u001b[1m \u001b[0m\u001b[1mMetric             \u001b[0m\u001b[1m \u001b[0m┃\u001b[1m \u001b[0m\u001b[1m Value\u001b[0m\u001b[1m \u001b[0m┃\n",
       "┡━━━━━━━━━━━━━━━━━━━━━╇━━━━━━━━┩\n",
       "│ Precision           │ 0.0000 │\n",
       "│ Recall              │ 0.0000 │\n",
       "│ Accuracy            │ 0.0000 │\n",
       "│ F1-score            │ 0.0000 │\n",
       "│ Valid Predictions   │      0 │\n",
       "│ Invalid Predictions │      4 │\n",
       "└─────────────────────┴────────┘\n"
      ]
     },
     "metadata": {},
     "output_type": "display_data"
    },
    {
     "data": {
      "text/html": [
       "<pre style=\"white-space:pre;overflow-x:auto;line-height:normal;font-family:Menlo,'DejaVu Sans Mono',consolas,'Courier New',monospace\">╭──────────────╮\n",
       "│ <span style=\"color: #008000; text-decoration-color: #008000; font-weight: bold\">Best Prompt:</span> │\n",
       "╰──────────────╯\n",
       "</pre>\n"
      ],
      "text/plain": [
       "╭──────────────╮\n",
       "│ \u001b[1;32mBest Prompt:\u001b[0m │\n",
       "╰──────────────╯\n"
      ]
     },
     "metadata": {},
     "output_type": "display_data"
    },
    {
     "data": {
      "text/html": [
       "<pre style=\"white-space:pre;overflow-x:auto;line-height:normal;font-family:Menlo,'DejaVu Sans Mono',consolas,'Courier New',monospace\">Classify the text as positive <span style=\"font-weight: bold\">(</span><span style=\"color: #008080; text-decoration-color: #008080; font-weight: bold\">1</span><span style=\"font-weight: bold\">)</span> if it:\n",
       "- Expresses clear and explicit emotions, such as happiness, excitement, or satisfaction\n",
       "- Focuses on personal experiences or stories that convey a sense of joy or fulfillment\n",
       "- Does not contain language indicative of negative sentiments, problems, or dissatisfaction\n",
       "- Has a tone that strongly suggests a positive emotional intensity\n",
       "\n",
       "Output your classification as a single digit: <span style=\"color: #008080; text-decoration-color: #008080; font-weight: bold\">0</span> or <span style=\"color: #008080; text-decoration-color: #008080; font-weight: bold\">1</span>.\n",
       "</pre>\n"
      ],
      "text/plain": [
       "Classify the text as positive \u001b[1m(\u001b[0m\u001b[1;36m1\u001b[0m\u001b[1m)\u001b[0m if it:\n",
       "- Expresses clear and explicit emotions, such as happiness, excitement, or satisfaction\n",
       "- Focuses on personal experiences or stories that convey a sense of joy or fulfillment\n",
       "- Does not contain language indicative of negative sentiments, problems, or dissatisfaction\n",
       "- Has a tone that strongly suggests a positive emotional intensity\n",
       "\n",
       "Output your classification as a single digit: \u001b[1;36m0\u001b[0m or \u001b[1;36m1\u001b[0m.\n"
      ]
     },
     "metadata": {},
     "output_type": "display_data"
    },
    {
     "data": {
      "text/html": [
       "<pre style=\"white-space:pre;overflow-x:auto;line-height:normal;font-family:Menlo,'DejaVu Sans Mono',consolas,'Courier New',monospace\">╭────────────────╮\n",
       "│ <span style=\"color: #008000; text-decoration-color: #008000; font-weight: bold\">Output Format:</span> │\n",
       "╰────────────────╯\n",
       "</pre>\n"
      ],
      "text/plain": [
       "╭────────────────╮\n",
       "│ \u001b[1;32mOutput Format:\u001b[0m │\n",
       "╰────────────────╯\n"
      ]
     },
     "metadata": {},
     "output_type": "display_data"
    },
    {
     "data": {
      "text/html": [
       "<pre style=\"white-space:pre;overflow-x:auto;line-height:normal;font-family:Menlo,'DejaVu Sans Mono',consolas,'Courier New',monospace\">Output your classification as a single digit: <span style=\"color: #008080; text-decoration-color: #008080; font-weight: bold\">0</span> or <span style=\"color: #008080; text-decoration-color: #008080; font-weight: bold\">1</span>\n",
       "</pre>\n"
      ],
      "text/plain": [
       "Output your classification as a single digit: \u001b[1;36m0\u001b[0m or \u001b[1;36m1\u001b[0m\n"
      ]
     },
     "metadata": {},
     "output_type": "display_data"
    },
    {
     "data": {
      "text/html": [
       "<pre style=\"white-space:pre;overflow-x:auto;line-height:normal;font-family:Menlo,'DejaVu Sans Mono',consolas,'Courier New',monospace\"><span style=\"font-style: italic\">                                   Comparison of All Iterations                                   </span>\n",
       "┏━━━━━━━━━━━┳━━━━━━━━━━━┳━━━━━━━━┳━━━━━━━━━━┳━━━━━━━━━━┳━━━━━━━━━━━━━━━━━━━┳━━━━━━━━━━━━━━━━━━━━━┓\n",
       "┃<span style=\"font-weight: bold\"> Iteration </span>┃<span style=\"font-weight: bold\"> Precision </span>┃<span style=\"font-weight: bold\"> Recall </span>┃<span style=\"font-weight: bold\"> Accuracy </span>┃<span style=\"font-weight: bold\"> F1-score </span>┃<span style=\"font-weight: bold\"> Valid Predictions </span>┃<span style=\"font-weight: bold\"> Invalid Predictions </span>┃\n",
       "┡━━━━━━━━━━━╇━━━━━━━━━━━╇━━━━━━━━╇━━━━━━━━━━╇━━━━━━━━━━╇━━━━━━━━━━━━━━━━━━━╇━━━━━━━━━━━━━━━━━━━━━┩\n",
       "│     1     │    <span style=\"font-weight: bold\">1.0000</span> │ 0.6667 │   0.7500 │   0.8000 │            <span style=\"font-weight: bold\">4.0000</span> │              <span style=\"font-weight: bold\">0.0000</span> │\n",
       "│     2     │    <span style=\"font-weight: bold\">1.0000</span> │ <span style=\"font-weight: bold\">1.0000</span> │   <span style=\"font-weight: bold\">1.0000</span> │   <span style=\"font-weight: bold\">1.0000</span> │            2.0000 │              2.0000 │\n",
       "│     3     │    0.0000 │ 0.0000 │   0.0000 │   0.0000 │            0.0000 │              4.0000 │\n",
       "│     4     │    0.0000 │ 0.0000 │   0.0000 │   0.0000 │            0.0000 │              4.0000 │\n",
       "│     5     │    0.0000 │ 0.0000 │   0.0000 │   0.0000 │            0.0000 │              4.0000 │\n",
       "└───────────┴───────────┴────────┴──────────┴──────────┴───────────────────┴─────────────────────┘\n",
       "</pre>\n"
      ],
      "text/plain": [
       "\u001b[3m                                   Comparison of All Iterations                                   \u001b[0m\n",
       "┏━━━━━━━━━━━┳━━━━━━━━━━━┳━━━━━━━━┳━━━━━━━━━━┳━━━━━━━━━━┳━━━━━━━━━━━━━━━━━━━┳━━━━━━━━━━━━━━━━━━━━━┓\n",
       "┃\u001b[1m \u001b[0m\u001b[1mIteration\u001b[0m\u001b[1m \u001b[0m┃\u001b[1m \u001b[0m\u001b[1mPrecision\u001b[0m\u001b[1m \u001b[0m┃\u001b[1m \u001b[0m\u001b[1mRecall\u001b[0m\u001b[1m \u001b[0m┃\u001b[1m \u001b[0m\u001b[1mAccuracy\u001b[0m\u001b[1m \u001b[0m┃\u001b[1m \u001b[0m\u001b[1mF1-score\u001b[0m\u001b[1m \u001b[0m┃\u001b[1m \u001b[0m\u001b[1mValid Predictions\u001b[0m\u001b[1m \u001b[0m┃\u001b[1m \u001b[0m\u001b[1mInvalid Predictions\u001b[0m\u001b[1m \u001b[0m┃\n",
       "┡━━━━━━━━━━━╇━━━━━━━━━━━╇━━━━━━━━╇━━━━━━━━━━╇━━━━━━━━━━╇━━━━━━━━━━━━━━━━━━━╇━━━━━━━━━━━━━━━━━━━━━┩\n",
       "│     1     │    \u001b[1m1.0000\u001b[0m │ 0.6667 │   0.7500 │   0.8000 │            \u001b[1m4.0000\u001b[0m │              \u001b[1m0.0000\u001b[0m │\n",
       "│     2     │    \u001b[1m1.0000\u001b[0m │ \u001b[1m1.0000\u001b[0m │   \u001b[1m1.0000\u001b[0m │   \u001b[1m1.0000\u001b[0m │            2.0000 │              2.0000 │\n",
       "│     3     │    0.0000 │ 0.0000 │   0.0000 │   0.0000 │            0.0000 │              4.0000 │\n",
       "│     4     │    0.0000 │ 0.0000 │   0.0000 │   0.0000 │            0.0000 │              4.0000 │\n",
       "│     5     │    0.0000 │ 0.0000 │   0.0000 │   0.0000 │            0.0000 │              4.0000 │\n",
       "└───────────┴───────────┴────────┴──────────┴──────────┴───────────────────┴─────────────────────┘\n"
      ]
     },
     "metadata": {},
     "output_type": "display_data"
    },
    {
     "name": "stdout",
     "output_type": "stream",
     "text": [
      "\n",
      "All logs saved in directory: /Users/danielfiuzadosil/Documents/GitHub/AI-Prompt-Optimiser/examples/runs/prompt_optimization_logs_20241003_144808\n",
      "Best Prompt: Classify the text as positive (1) if it:\n",
      "- Expresses clear and explicit emotions, such as happiness, excitement, or satisfaction\n",
      "- Focuses on personal experiences or stories that convey a sense of joy or fulfillment\n",
      "- Does not contain language indicative of negative sentiments, problems, or dissatisfaction\n",
      "- Has a tone that strongly suggests a positive emotional intensity\n",
      "\n",
      "Output your classification as a single digit: 0 or 1.\n",
      "Best Metrics: {'precision': 1.0, 'recall': 1.0, 'accuracy': 1.0, 'f1': 1.0, 'predictions': [1, 1], 'false_positives': [], 'false_negatives': [], 'true_positives': [{'text': 'I am happy!', 'label': 1}, {'text': 'excited about the trip', 'label': 1}], 'invalid_predictions': 2, 'valid_predictions': 2, 'invalid_outputs': [{'text': 'I am sad!', 'label': 0, 'raw_output': 'Since the text expresses sadness and is likely to have a tone that suggests a negative emotional intensity, I would classify it as:\\n\\n0'}, {'text': ' i am not sure how i feel', 'label': 1, 'raw_output': \"That text doesn't really convey any clear emotions one way or the other. It's more of a neutral statement.\\n\\n Classification: 0\"}], 'invalid_output_message': 'Note: There were invalid output formats detected. Please ensure that the output format is correct and follows the instructions provided in the prompt. Invalid outputs are not included in the FP and FN analysis.'}\n"
     ]
    }
   ],
   "source": [
    "from src.iterative_prompt_optimization import optimize_prompt\n",
    "import pandas as pd\n",
    "\n",
    "# Prepare your evaluation data\n",
    "eval_data = pd.DataFrame({\n",
    "    'text': ['I am happy!', 'excited about the trip', 'I am sad!', ' i am not sure how i feel'],\n",
    "    'label': [1, 1, 0, 1]\n",
    "    })\n",
    "\n",
    "# Define your initial prompt and output format\n",
    "initial_prompt = \"Classify the following text as either positive (1) or negative (0):\"\n",
    "output_format_prompt = \"Output your classification as a single digit: 0 or 1\"\n",
    "#Define the output schema\n",
    "output_schema = {\n",
    "    'regex_pattern': r'^(\\d)$',\n",
    "    'value_mapping': {'0': 0, '1': 1}\n",
    "    }\n",
    "# Run the optimization process\n",
    "best_prompt, best_metrics = optimize_prompt(\n",
    "    initial_prompt=initial_prompt,\n",
    "    output_format_prompt=output_format_prompt,\n",
    "    eval_data=eval_data,\n",
    "    iterations=5,\n",
    "    output_schema=output_schema\n",
    ")\n",
    "print(\"Best Prompt:\", best_prompt)\n",
    "print(\"Best Metrics:\", best_metrics)"
   ]
  },
  {
   "cell_type": "code",
   "execution_count": null,
   "metadata": {},
   "outputs": [],
   "source": []
  }
 ],
 "metadata": {
  "kernelspec": {
   "display_name": "base",
   "language": "python",
   "name": "python3"
  },
  "language_info": {
   "codemirror_mode": {
    "name": "ipython",
    "version": 3
   },
   "file_extension": ".py",
   "mimetype": "text/x-python",
   "name": "python",
   "nbconvert_exporter": "python",
   "pygments_lexer": "ipython3",
   "version": "3.12.2"
  }
 },
 "nbformat": 4,
 "nbformat_minor": 2
}
